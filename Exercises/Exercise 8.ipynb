{
 "cells": [
  {
   "cell_type": "code",
   "execution_count": null,
   "metadata": {},
   "outputs": [],
   "source": [
    "#https://www.practicepython.org/solution/2014/04/02/08-rock-paper-scissors-solutions.html\n",
    "#2 forms of making this: traditional if statements or by using dictionaries\n",
    "p1=input(\"rock, paper os scissors?\")\n",
    "p2=input(\"rock, paper os scissors?\")\n",
    "\n",
    "\n",
    "#checking inputs\n",
    "check=[\"rock\",\"paper\",\"scissors\"]\n",
    "for i in check:\n",
    "    if i == p1:\n",
    "        print(\"P1 has chosen: \" + p1)\n",
    "    else:\n",
    "        p1=input(\"Type it again, P1: rock, paper os scissors?\")\n",
    "for i in check:\n",
    "    if i == p2:\n",
    "        print(\"P2 has chosen: \" + p2)\n",
    "    else:\n",
    "        p2=input(\"Type it again, p2: rock, paper os scissors?\")  \n",
    "       \n",
    "    print(\"The player one has chosen: \"+ p1 + \", and the player two: \"+ p2)\n",
    "\n",
    "#function           \n",
    "def game(p1,p2):\n",
    "    if p1==p2:\n",
    "        print(\"it's a tie\")\n",
    "    else:\n",
    "        while p1 or p2 ==\"rock\":\n",
    "            if p1 or p2 ==\"paper\":\n",
    "                print(\"paper has won!\")\n",
    "            else:\n",
    "                print(\"rock has won!\")\n",
    "        while p1 or p2==\"paper\":\n",
    "            if p1 or p2 ==\"scissors\":\n",
    "                print(\"scissors has won!\")\n",
    "            else:\n",
    "                print(\"paper has won!\")\n",
    "    sys.exit()\n",
    "    \n",
    "print(game(p1,p2))\n"
   ]
  },
  {
   "cell_type": "code",
   "execution_count": null,
   "metadata": {},
   "outputs": [],
   "source": []
  }
 ],
 "metadata": {
  "kernelspec": {
   "display_name": "Python 3",
   "language": "python",
   "name": "python3"
  },
  "language_info": {
   "codemirror_mode": {
    "name": "ipython",
    "version": 3
   },
   "file_extension": ".py",
   "mimetype": "text/x-python",
   "name": "python",
   "nbconvert_exporter": "python",
   "pygments_lexer": "ipython3",
   "version": "3.8.3"
  }
 },
 "nbformat": 4,
 "nbformat_minor": 4
}

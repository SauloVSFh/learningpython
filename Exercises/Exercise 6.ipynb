{
 "cells": [
  {
   "cell_type": "code",
   "execution_count": null,
   "metadata": {},
   "outputs": [],
   "source": [
    "#Ask the user for a strinhttp://localhost:8888/notebooks/Desktop/Python/Exercise%206.ipynb#g and print out whether this string is a palindrome or not. (A palindrome is a string that reads the same forwards and backwards.)\n",
    "#input is a string, which is a list already\n",
    "\n",
    "def reverse(word): #Function created to inputed variable\n",
    "    x = '' #empty str of list to backwards add elements from words \n",
    "    for i in range(len(word)):\n",
    "        x += word[len(word)-1-i] #It is necessary to add -1 because python's first element within lists is always 0. This command line will allow words to be add backwards \n",
    "    return x\n",
    "\n",
    "word = input('give me a word:\\n')\n",
    "x = reverse(word)\n",
    "if x == word:\n",
    "    print('This is a Palindrome')\n",
    "else:\n",
    "    print('This is NOT a Palindrome')"
   ]
  },
  {
   "cell_type": "code",
   "execution_count": null,
   "metadata": {},
   "outputs": [],
   "source": [
    "wrd=input(\"Please enter a word: \")\n",
    "rvs=wrd[::-1]\n",
    "\n",
    "if wrd == rvs:\n",
    "    print(\"This word is a palindrome\")\n",
    "else:\n",
    "    print(\"This word is not a palindrome\")"
   ]
  }
 ],
 "metadata": {
  "kernelspec": {
   "display_name": "Python 3",
   "language": "python",
   "name": "python3"
  },
  "language_info": {
   "codemirror_mode": {
    "name": "ipython",
    "version": 3
   },
   "file_extension": ".py",
   "mimetype": "text/x-python",
   "name": "python",
   "nbconvert_exporter": "python",
   "pygments_lexer": "ipython3",
   "version": "3.8.3"
  }
 },
 "nbformat": 4,
 "nbformat_minor": 4
}

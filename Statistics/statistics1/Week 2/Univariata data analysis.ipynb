{
 "cells": [
  {
   "cell_type": "markdown",
   "metadata": {},
   "source": [
    "# Practice notebook for univariate analysis using NHANES data\n",
    "\n",
    "This notebook will give you the opportunity to perform some univariate analyses on your own using the NHANES.  These analyses are similar to what was done in the week 2 NHANES case study notebook.\n",
    "\n",
    "You can enter your code into the cells that say \"enter your code here\", and you can type responses to the questions into the cells that say \"Type Markdown and Latex\".\n",
    "\n",
    "Note that most of the code that you will need to write below is very similar to code that appears in the case study notebook.  You will need to edit code from that notebook in small ways to adapt it to the prompts below.\n",
    "\n",
    "To get started, we will use the same module imports and read the data in the same way as we did in the case study:"
   ]
  },
  {
   "cell_type": "code",
   "execution_count": 1,
   "metadata": {},
   "outputs": [],
   "source": [
    "%matplotlib inline\n",
    "import matplotlib.pyplot as plt\n",
    "import seaborn as sns\n",
    "import pandas as pd\n",
    "import statsmodels.api as sm\n",
    "import scipy.stats as st\n",
    "import numpy as np\n",
    "\n",
    "da = pd.read_csv(\"nhanes_2015_2016.csv\")"
   ]
  },
  {
   "cell_type": "markdown",
   "metadata": {},
   "source": [
    "## Question 1\n",
    "\n",
    "Relabel the marital status variable [DMDMARTL](https://wwwn.cdc.gov/Nchs/Nhanes/2015-2016/DEMO_I.htm#DMDMARTL) to have brief but informative character labels.  Then construct a frequency table of these values for all people, then for women only, and for men only.  Then construct these three frequency tables using only people whose age is between 30 and 40."
   ]
  },
  {
   "cell_type": "code",
   "execution_count": 2,
   "metadata": {
    "scrolled": true
   },
   "outputs": [
    {
     "data": {
      "text/html": [
       "<div>\n",
       "<style scoped>\n",
       "    .dataframe tbody tr th:only-of-type {\n",
       "        vertical-align: middle;\n",
       "    }\n",
       "\n",
       "    .dataframe tbody tr th {\n",
       "        vertical-align: top;\n",
       "    }\n",
       "\n",
       "    .dataframe thead th {\n",
       "        text-align: right;\n",
       "    }\n",
       "</style>\n",
       "<table border=\"1\" class=\"dataframe\">\n",
       "  <thead>\n",
       "    <tr style=\"text-align: right;\">\n",
       "      <th></th>\n",
       "      <th>SEQN</th>\n",
       "      <th>ALQ101</th>\n",
       "      <th>ALQ110</th>\n",
       "      <th>ALQ130</th>\n",
       "      <th>SMQ020</th>\n",
       "      <th>RIAGENDR</th>\n",
       "      <th>RIDAGEYR</th>\n",
       "      <th>RIDRETH1</th>\n",
       "      <th>DMDCITZN</th>\n",
       "      <th>DMDEDUC2</th>\n",
       "      <th>...</th>\n",
       "      <th>BPXSY2</th>\n",
       "      <th>BPXDI2</th>\n",
       "      <th>BMXWT</th>\n",
       "      <th>BMXHT</th>\n",
       "      <th>BMXBMI</th>\n",
       "      <th>BMXLEG</th>\n",
       "      <th>BMXARML</th>\n",
       "      <th>BMXARMC</th>\n",
       "      <th>BMXWAIST</th>\n",
       "      <th>HIQ210</th>\n",
       "    </tr>\n",
       "  </thead>\n",
       "  <tbody>\n",
       "    <tr>\n",
       "      <th>0</th>\n",
       "      <td>83732</td>\n",
       "      <td>1.0</td>\n",
       "      <td>NaN</td>\n",
       "      <td>1.0</td>\n",
       "      <td>1</td>\n",
       "      <td>1</td>\n",
       "      <td>62</td>\n",
       "      <td>3</td>\n",
       "      <td>1.0</td>\n",
       "      <td>5.0</td>\n",
       "      <td>...</td>\n",
       "      <td>124.0</td>\n",
       "      <td>64.0</td>\n",
       "      <td>94.8</td>\n",
       "      <td>184.5</td>\n",
       "      <td>27.8</td>\n",
       "      <td>43.3</td>\n",
       "      <td>43.6</td>\n",
       "      <td>35.9</td>\n",
       "      <td>101.1</td>\n",
       "      <td>2.0</td>\n",
       "    </tr>\n",
       "    <tr>\n",
       "      <th>1</th>\n",
       "      <td>83733</td>\n",
       "      <td>1.0</td>\n",
       "      <td>NaN</td>\n",
       "      <td>6.0</td>\n",
       "      <td>1</td>\n",
       "      <td>1</td>\n",
       "      <td>53</td>\n",
       "      <td>3</td>\n",
       "      <td>2.0</td>\n",
       "      <td>3.0</td>\n",
       "      <td>...</td>\n",
       "      <td>140.0</td>\n",
       "      <td>88.0</td>\n",
       "      <td>90.4</td>\n",
       "      <td>171.4</td>\n",
       "      <td>30.8</td>\n",
       "      <td>38.0</td>\n",
       "      <td>40.0</td>\n",
       "      <td>33.2</td>\n",
       "      <td>107.9</td>\n",
       "      <td>NaN</td>\n",
       "    </tr>\n",
       "    <tr>\n",
       "      <th>2</th>\n",
       "      <td>83734</td>\n",
       "      <td>1.0</td>\n",
       "      <td>NaN</td>\n",
       "      <td>NaN</td>\n",
       "      <td>1</td>\n",
       "      <td>1</td>\n",
       "      <td>78</td>\n",
       "      <td>3</td>\n",
       "      <td>1.0</td>\n",
       "      <td>3.0</td>\n",
       "      <td>...</td>\n",
       "      <td>132.0</td>\n",
       "      <td>44.0</td>\n",
       "      <td>83.4</td>\n",
       "      <td>170.1</td>\n",
       "      <td>28.8</td>\n",
       "      <td>35.6</td>\n",
       "      <td>37.0</td>\n",
       "      <td>31.0</td>\n",
       "      <td>116.5</td>\n",
       "      <td>2.0</td>\n",
       "    </tr>\n",
       "    <tr>\n",
       "      <th>3</th>\n",
       "      <td>83735</td>\n",
       "      <td>2.0</td>\n",
       "      <td>1.0</td>\n",
       "      <td>1.0</td>\n",
       "      <td>2</td>\n",
       "      <td>2</td>\n",
       "      <td>56</td>\n",
       "      <td>3</td>\n",
       "      <td>1.0</td>\n",
       "      <td>5.0</td>\n",
       "      <td>...</td>\n",
       "      <td>134.0</td>\n",
       "      <td>68.0</td>\n",
       "      <td>109.8</td>\n",
       "      <td>160.9</td>\n",
       "      <td>42.4</td>\n",
       "      <td>38.5</td>\n",
       "      <td>37.7</td>\n",
       "      <td>38.3</td>\n",
       "      <td>110.1</td>\n",
       "      <td>2.0</td>\n",
       "    </tr>\n",
       "    <tr>\n",
       "      <th>4</th>\n",
       "      <td>83736</td>\n",
       "      <td>2.0</td>\n",
       "      <td>1.0</td>\n",
       "      <td>1.0</td>\n",
       "      <td>2</td>\n",
       "      <td>2</td>\n",
       "      <td>42</td>\n",
       "      <td>4</td>\n",
       "      <td>1.0</td>\n",
       "      <td>4.0</td>\n",
       "      <td>...</td>\n",
       "      <td>114.0</td>\n",
       "      <td>54.0</td>\n",
       "      <td>55.2</td>\n",
       "      <td>164.9</td>\n",
       "      <td>20.3</td>\n",
       "      <td>37.4</td>\n",
       "      <td>36.0</td>\n",
       "      <td>27.2</td>\n",
       "      <td>80.4</td>\n",
       "      <td>2.0</td>\n",
       "    </tr>\n",
       "  </tbody>\n",
       "</table>\n",
       "<p>5 rows × 28 columns</p>\n",
       "</div>"
      ],
      "text/plain": [
       "    SEQN  ALQ101  ALQ110  ALQ130  SMQ020  RIAGENDR  RIDAGEYR  RIDRETH1  \\\n",
       "0  83732     1.0     NaN     1.0       1         1        62         3   \n",
       "1  83733     1.0     NaN     6.0       1         1        53         3   \n",
       "2  83734     1.0     NaN     NaN       1         1        78         3   \n",
       "3  83735     2.0     1.0     1.0       2         2        56         3   \n",
       "4  83736     2.0     1.0     1.0       2         2        42         4   \n",
       "\n",
       "   DMDCITZN  DMDEDUC2  ...  BPXSY2  BPXDI2  BMXWT  BMXHT  BMXBMI  BMXLEG  \\\n",
       "0       1.0       5.0  ...   124.0    64.0   94.8  184.5    27.8    43.3   \n",
       "1       2.0       3.0  ...   140.0    88.0   90.4  171.4    30.8    38.0   \n",
       "2       1.0       3.0  ...   132.0    44.0   83.4  170.1    28.8    35.6   \n",
       "3       1.0       5.0  ...   134.0    68.0  109.8  160.9    42.4    38.5   \n",
       "4       1.0       4.0  ...   114.0    54.0   55.2  164.9    20.3    37.4   \n",
       "\n",
       "   BMXARML  BMXARMC  BMXWAIST  HIQ210  \n",
       "0     43.6     35.9     101.1     2.0  \n",
       "1     40.0     33.2     107.9     NaN  \n",
       "2     37.0     31.0     116.5     2.0  \n",
       "3     37.7     38.3     110.1     2.0  \n",
       "4     36.0     27.2      80.4     2.0  \n",
       "\n",
       "[5 rows x 28 columns]"
      ]
     },
     "execution_count": 2,
     "metadata": {},
     "output_type": "execute_result"
    }
   ],
   "source": [
    "da.head()"
   ]
  },
  {
   "cell_type": "code",
   "execution_count": 3,
   "metadata": {},
   "outputs": [],
   "source": [
    "data = da.rename(columns = {'DMDMARTL': 'MaritalStatus', 'RIAGENDR': \"Gender\", 'RIDAGEYR' : \"Age\" })"
   ]
  },
  {
   "cell_type": "code",
   "execution_count": 4,
   "metadata": {},
   "outputs": [
    {
     "data": {
      "text/plain": [
       "Gender\n",
       "1    2759\n",
       "2    2976\n",
       "Name: Gender, dtype: int64"
      ]
     },
     "execution_count": 4,
     "metadata": {},
     "output_type": "execute_result"
    }
   ],
   "source": [
    "data.groupby('Gender')['Gender'].agg('count')"
   ]
  },
  {
   "cell_type": "code",
   "execution_count": 5,
   "metadata": {},
   "outputs": [],
   "source": [
    "data['MaritalStatus'] = data.MaritalStatus.replace({1.0 : 'Married',\n",
    "                             2.0 : 'Widowed',\n",
    "                             3.0 : 'Divorced',\n",
    "                             4.0 : 'Separated',\n",
    "                             5.0 : 'Never married',\n",
    "                             6.0 : 'Living with partner',\n",
    "                             77.0 : 'Refused',\n",
    "                             99.0 : \"Don't know\"})\n",
    "data['Gender'] = data.Gender.replace({1 : 'Male', 2 : 'Female'})                  "
   ]
  },
  {
   "cell_type": "code",
   "execution_count": 6,
   "metadata": {},
   "outputs": [
    {
     "data": {
      "text/html": [
       "<div>\n",
       "<style scoped>\n",
       "    .dataframe tbody tr th:only-of-type {\n",
       "        vertical-align: middle;\n",
       "    }\n",
       "\n",
       "    .dataframe tbody tr th {\n",
       "        vertical-align: top;\n",
       "    }\n",
       "\n",
       "    .dataframe thead th {\n",
       "        text-align: right;\n",
       "    }\n",
       "</style>\n",
       "<table border=\"1\" class=\"dataframe\">\n",
       "  <thead>\n",
       "    <tr style=\"text-align: right;\">\n",
       "      <th>MaritalStatus</th>\n",
       "      <th>Divorced</th>\n",
       "      <th>Living with partner</th>\n",
       "      <th>Married</th>\n",
       "      <th>Never married</th>\n",
       "      <th>Refused</th>\n",
       "      <th>Separated</th>\n",
       "      <th>Widowed</th>\n",
       "    </tr>\n",
       "    <tr>\n",
       "      <th>Gender</th>\n",
       "      <th></th>\n",
       "      <th></th>\n",
       "      <th></th>\n",
       "      <th></th>\n",
       "      <th></th>\n",
       "      <th></th>\n",
       "      <th></th>\n",
       "    </tr>\n",
       "  </thead>\n",
       "  <tbody>\n",
       "    <tr>\n",
       "      <th>Female</th>\n",
       "      <td>350</td>\n",
       "      <td>262</td>\n",
       "      <td>1303</td>\n",
       "      <td>520</td>\n",
       "      <td>1</td>\n",
       "      <td>118</td>\n",
       "      <td>296</td>\n",
       "    </tr>\n",
       "    <tr>\n",
       "      <th>Male</th>\n",
       "      <td>229</td>\n",
       "      <td>265</td>\n",
       "      <td>1477</td>\n",
       "      <td>484</td>\n",
       "      <td>1</td>\n",
       "      <td>68</td>\n",
       "      <td>100</td>\n",
       "    </tr>\n",
       "  </tbody>\n",
       "</table>\n",
       "</div>"
      ],
      "text/plain": [
       "MaritalStatus  Divorced  Living with partner  Married  Never married  Refused  \\\n",
       "Gender                                                                          \n",
       "Female              350                  262     1303            520        1   \n",
       "Male                229                  265     1477            484        1   \n",
       "\n",
       "MaritalStatus  Separated  Widowed  \n",
       "Gender                             \n",
       "Female               118      296  \n",
       "Male                  68      100  "
      ]
     },
     "execution_count": 6,
     "metadata": {},
     "output_type": "execute_result"
    }
   ],
   "source": [
    "MSGender = data.groupby(['Gender','MaritalStatus'])['MaritalStatus'].agg('count').unstack()\n",
    "MS = data.groupby(['MaritalStatus'])['MaritalStatus'].agg('count')\n",
    "MSGender"
   ]
  },
  {
   "cell_type": "code",
   "execution_count": 7,
   "metadata": {},
   "outputs": [
    {
     "data": {
      "text/plain": [
       "Gender\n",
       "Female    2850\n",
       "Male      2624\n",
       "dtype: int64"
      ]
     },
     "execution_count": 7,
     "metadata": {},
     "output_type": "execute_result"
    }
   ],
   "source": [
    "MSGender.sum(axis=1)"
   ]
  },
  {
   "cell_type": "markdown",
   "metadata": {},
   "source": [
    "I've got a NaN for 77.0 when I counted the groups. So I eliminated it."
   ]
  },
  {
   "cell_type": "code",
   "execution_count": 8,
   "metadata": {},
   "outputs": [
    {
     "data": {
      "text/html": [
       "<div>\n",
       "<style scoped>\n",
       "    .dataframe tbody tr th:only-of-type {\n",
       "        vertical-align: middle;\n",
       "    }\n",
       "\n",
       "    .dataframe tbody tr th {\n",
       "        vertical-align: top;\n",
       "    }\n",
       "\n",
       "    .dataframe thead th {\n",
       "        text-align: right;\n",
       "    }\n",
       "</style>\n",
       "<table border=\"1\" class=\"dataframe\">\n",
       "  <thead>\n",
       "    <tr style=\"text-align: right;\">\n",
       "      <th>MaritalStatus</th>\n",
       "      <th>Divorced</th>\n",
       "      <th>Living with partner</th>\n",
       "      <th>Married</th>\n",
       "      <th>Never married</th>\n",
       "      <th>Separated</th>\n",
       "      <th>Widowed</th>\n",
       "    </tr>\n",
       "    <tr>\n",
       "      <th>Gender</th>\n",
       "      <th></th>\n",
       "      <th></th>\n",
       "      <th></th>\n",
       "      <th></th>\n",
       "      <th></th>\n",
       "      <th></th>\n",
       "    </tr>\n",
       "  </thead>\n",
       "  <tbody>\n",
       "    <tr>\n",
       "      <th>Female</th>\n",
       "      <td>46</td>\n",
       "      <td>65</td>\n",
       "      <td>285</td>\n",
       "      <td>116</td>\n",
       "      <td>18</td>\n",
       "      <td>2</td>\n",
       "    </tr>\n",
       "    <tr>\n",
       "      <th>Male</th>\n",
       "      <td>24</td>\n",
       "      <td>78</td>\n",
       "      <td>275</td>\n",
       "      <td>101</td>\n",
       "      <td>12</td>\n",
       "      <td>3</td>\n",
       "    </tr>\n",
       "  </tbody>\n",
       "</table>\n",
       "</div>"
      ],
      "text/plain": [
       "MaritalStatus  Divorced  Living with partner  Married  Never married  \\\n",
       "Gender                                                                 \n",
       "Female               46                   65      285            116   \n",
       "Male                 24                   78      275            101   \n",
       "\n",
       "MaritalStatus  Separated  Widowed  \n",
       "Gender                             \n",
       "Female                18        2  \n",
       "Male                  12        3  "
      ]
     },
     "execution_count": 8,
     "metadata": {},
     "output_type": "execute_result"
    }
   ],
   "source": [
    "#ages between 30 and 40's - slicing\n",
    "table3 = data.loc[(data.Age >= 30) & (data.Age <=40)]\n",
    "#~ reverses the logical statement, gives a False where is True, and eliminates rows with Refused (Nan where for Females)\n",
    "table3 = table3.loc[~table3.MaritalStatus.isin(['Refused']), :]\n",
    "MS30_40 = table3.groupby(['Gender','MaritalStatus'])['MaritalStatus'].agg('count').unstack()\n",
    "MS30_40"
   ]
  },
  {
   "cell_type": "markdown",
   "metadata": {},
   "source": [
    "__Q1a.__ Briefly comment on some of the differences that you observe between the distribution of marital status between women and men, for people of all ages."
   ]
  },
  {
   "cell_type": "markdown",
   "metadata": {},
   "source": [
    "There are more female individuals than male, but female are more frequent in any case but 'Married' or 'Living with partner'. To analyze our data more accurately, it's better to look ak the percentages and plot it."
   ]
  },
  {
   "cell_type": "code",
   "execution_count": 9,
   "metadata": {},
   "outputs": [],
   "source": [
    "MSGenderSplt = pd.DataFrame(MSGender.stack())\n",
    "MSGenderSplt.reset_index(inplace=True)\n",
    "MSGenderSplt = MSGenderSplt.rename(columns = {0: \"Count\"})"
   ]
  },
  {
   "cell_type": "code",
   "execution_count": 10,
   "metadata": {},
   "outputs": [
    {
     "data": {
      "text/html": [
       "<div>\n",
       "<style scoped>\n",
       "    .dataframe tbody tr th:only-of-type {\n",
       "        vertical-align: middle;\n",
       "    }\n",
       "\n",
       "    .dataframe tbody tr th {\n",
       "        vertical-align: top;\n",
       "    }\n",
       "\n",
       "    .dataframe thead th {\n",
       "        text-align: right;\n",
       "    }\n",
       "</style>\n",
       "<table border=\"1\" class=\"dataframe\">\n",
       "  <thead>\n",
       "    <tr style=\"text-align: right;\">\n",
       "      <th></th>\n",
       "      <th>Gender</th>\n",
       "      <th>MaritalStatus</th>\n",
       "      <th>Count</th>\n",
       "      <th>RelativePercent</th>\n",
       "    </tr>\n",
       "  </thead>\n",
       "  <tbody>\n",
       "    <tr>\n",
       "      <th>0</th>\n",
       "      <td>Female</td>\n",
       "      <td>Divorced</td>\n",
       "      <td>350</td>\n",
       "      <td>0.122807</td>\n",
       "    </tr>\n",
       "    <tr>\n",
       "      <th>1</th>\n",
       "      <td>Female</td>\n",
       "      <td>Living with partner</td>\n",
       "      <td>262</td>\n",
       "      <td>0.091930</td>\n",
       "    </tr>\n",
       "    <tr>\n",
       "      <th>2</th>\n",
       "      <td>Female</td>\n",
       "      <td>Married</td>\n",
       "      <td>1303</td>\n",
       "      <td>0.457193</td>\n",
       "    </tr>\n",
       "    <tr>\n",
       "      <th>3</th>\n",
       "      <td>Female</td>\n",
       "      <td>Never married</td>\n",
       "      <td>520</td>\n",
       "      <td>0.182456</td>\n",
       "    </tr>\n",
       "    <tr>\n",
       "      <th>4</th>\n",
       "      <td>Female</td>\n",
       "      <td>Refused</td>\n",
       "      <td>1</td>\n",
       "      <td>0.000351</td>\n",
       "    </tr>\n",
       "    <tr>\n",
       "      <th>5</th>\n",
       "      <td>Female</td>\n",
       "      <td>Separated</td>\n",
       "      <td>118</td>\n",
       "      <td>0.041404</td>\n",
       "    </tr>\n",
       "    <tr>\n",
       "      <th>6</th>\n",
       "      <td>Female</td>\n",
       "      <td>Widowed</td>\n",
       "      <td>296</td>\n",
       "      <td>0.103860</td>\n",
       "    </tr>\n",
       "    <tr>\n",
       "      <th>7</th>\n",
       "      <td>Male</td>\n",
       "      <td>Divorced</td>\n",
       "      <td>229</td>\n",
       "      <td>0.087271</td>\n",
       "    </tr>\n",
       "    <tr>\n",
       "      <th>8</th>\n",
       "      <td>Male</td>\n",
       "      <td>Living with partner</td>\n",
       "      <td>265</td>\n",
       "      <td>0.100991</td>\n",
       "    </tr>\n",
       "    <tr>\n",
       "      <th>9</th>\n",
       "      <td>Male</td>\n",
       "      <td>Married</td>\n",
       "      <td>1477</td>\n",
       "      <td>0.562881</td>\n",
       "    </tr>\n",
       "    <tr>\n",
       "      <th>10</th>\n",
       "      <td>Male</td>\n",
       "      <td>Never married</td>\n",
       "      <td>484</td>\n",
       "      <td>0.184451</td>\n",
       "    </tr>\n",
       "    <tr>\n",
       "      <th>11</th>\n",
       "      <td>Male</td>\n",
       "      <td>Refused</td>\n",
       "      <td>1</td>\n",
       "      <td>0.000381</td>\n",
       "    </tr>\n",
       "    <tr>\n",
       "      <th>12</th>\n",
       "      <td>Male</td>\n",
       "      <td>Separated</td>\n",
       "      <td>68</td>\n",
       "      <td>0.025915</td>\n",
       "    </tr>\n",
       "    <tr>\n",
       "      <th>13</th>\n",
       "      <td>Male</td>\n",
       "      <td>Widowed</td>\n",
       "      <td>100</td>\n",
       "      <td>0.038110</td>\n",
       "    </tr>\n",
       "  </tbody>\n",
       "</table>\n",
       "</div>"
      ],
      "text/plain": [
       "    Gender        MaritalStatus  Count  RelativePercent\n",
       "0   Female             Divorced    350         0.122807\n",
       "1   Female  Living with partner    262         0.091930\n",
       "2   Female              Married   1303         0.457193\n",
       "3   Female        Never married    520         0.182456\n",
       "4   Female              Refused      1         0.000351\n",
       "5   Female            Separated    118         0.041404\n",
       "6   Female              Widowed    296         0.103860\n",
       "7     Male             Divorced    229         0.087271\n",
       "8     Male  Living with partner    265         0.100991\n",
       "9     Male              Married   1477         0.562881\n",
       "10    Male        Never married    484         0.184451\n",
       "11    Male              Refused      1         0.000381\n",
       "12    Male            Separated     68         0.025915\n",
       "13    Male              Widowed    100         0.038110"
      ]
     },
     "execution_count": 10,
     "metadata": {},
     "output_type": "execute_result"
    }
   ],
   "source": [
    "totalfemale = MSGenderSplt.loc[MSGenderSplt['Gender'] == 'Female'].Count.sum()\n",
    "totalmale = MSGenderSplt.loc[MSGenderSplt['Gender'] == 'Male'].Count.sum()\n",
    "supportlist = list()\n",
    "\n",
    "for i in MSGenderSplt.index:\n",
    "    if MSGenderSplt.iloc[i,0] == \"Female\":\n",
    "        supportlist.append(MSGenderSplt.iloc[i,2]/totalfemale)\n",
    "    else:\n",
    "        supportlist.append(MSGenderSplt.iloc[i,2] / totalmale)\n",
    "        \n",
    "MSGenderSplt['RelativePercent'] = pd.Series(supportlist)\n",
    "MSGenderSplt.groupby('Gender')['RelativePercent'].agg('sum')\n",
    "MSGenderSplt"
   ]
  },
  {
   "cell_type": "code",
   "execution_count": 11,
   "metadata": {},
   "outputs": [
    {
     "data": {
      "image/png": "[encoded data removed]",
      "text/plain": [
       "<Figure size 1080x864 with 2 Axes>"
      ]
     },
     "metadata": {
      "needs_background": "light"
     },
     "output_type": "display_data"
    },
    {
     "data": {
      "text/plain": [
       "<Figure size 1080x504 with 0 Axes>"
      ]
     },
     "metadata": {},
     "output_type": "display_data"
    }
   ],
   "source": [
    "f, (ax1,ax2) = plt.subplots(2,1, figsize = (15,12))\n",
    "\n",
    "sns.barplot(y = MSGenderSplt.MaritalStatus,\n",
    "            x = 'Count',\n",
    "            hue = 'Gender', data = MSGenderSplt, ax = ax1)\n",
    "ax1.set_title(\"Barchart for Marital Status using NHANES data from 2015 and 2016\")\n",
    "\n",
    "plt.figure(figsize = (15,7))\n",
    "sns.barplot(y = MSGenderSplt.MaritalStatus,\n",
    "            x = 'RelativePercent',\n",
    "            hue = 'Gender', data = MSGenderSplt, ax = ax2)\n",
    "ax2.set_title(\"Barchart representing the percentages of Marital Status from 2015 and 2016\")\n",
    "\n",
    "plt.tight_layout(pad = 2.0)\n",
    "plt.show()"
   ]
  },
  {
   "cell_type": "markdown",
   "metadata": {},
   "source": [
    "From the graphs above we can see that the percentages are more efficient to judge the differences in Marital Status between women and men, since the total of individuals is different. We can realize that there are more divorced and widowed females, while marriage is more common at the male population."
   ]
  },
  {
   "cell_type": "markdown",
   "metadata": {},
   "source": [
    "__Q1b.__ Briefly comment on the differences that you observe between the distribution of marital status states for women between the overall population, and for women between the ages of 30 and 40."
   ]
  },
  {
   "cell_type": "code",
   "execution_count": 12,
   "metadata": {},
   "outputs": [],
   "source": [
    "MS30_40s = pd.DataFrame(MS30_40.stack())\n",
    "MS30_40s.reset_index(inplace = True)\n",
    "MS30_40s = MS30_40s.rename(columns = {0:'Counts'})\n",
    "MSwomen30_40 = MS30_40s.loc[MS30_40s.Gender == \"Female\"]\n",
    "MSmale30_40 = MS30_40s.loc[MS30_40s.Gender == \"Male\"]"
   ]
  },
  {
   "cell_type": "code",
   "execution_count": 14,
   "metadata": {},
   "outputs": [
    {
     "name": "stderr",
     "output_type": "stream",
     "text": [
      "<ipython-input-14-a2b5fb6eae1f>:1: SettingWithCopyWarning: \n",
      "A value is trying to be set on a copy of a slice from a DataFrame.\n",
      "Try using .loc[row_indexer,col_indexer] = value instead\n",
      "\n",
      "See the caveats in the documentation: https://pandas.pydata.org/pandas-docs/stable/user_guide/indexing.html#returning-a-view-versus-a-copy\n",
      "  MSwomen30_40['RelativePercent'] = MSwomen30_40.apply(lambda x: (x['Counts']/sum(MSwomen30_40.Counts)), axis = 1)\n",
      "<ipython-input-14-a2b5fb6eae1f>:2: SettingWithCopyWarning: \n",
      "A value is trying to be set on a copy of a slice from a DataFrame.\n",
      "Try using .loc[row_indexer,col_indexer] = value instead\n",
      "\n",
      "See the caveats in the documentation: https://pandas.pydata.org/pandas-docs/stable/user_guide/indexing.html#returning-a-view-versus-a-copy\n",
      "  MSwomen30_40['Age'] = ('30 to 40')\n"
     ]
    }
   ],
   "source": [
    "MSwomen30_40['RelativePercent'] = MSwomen30_40.apply(lambda x: (x['Counts']/sum(MSwomen30_40.Counts)), axis = 1)\n",
    "MSwomen30_40['Age'] = ('30 to 40')"
   ]
  },
  {
   "cell_type": "code",
   "execution_count": 15,
   "metadata": {},
   "outputs": [
    {
     "name": "stderr",
     "output_type": "stream",
     "text": [
      "<ipython-input-15-7eb3425a2aba>:5: SettingWithCopyWarning: \n",
      "A value is trying to be set on a copy of a slice from a DataFrame.\n",
      "Try using .loc[row_indexer,col_indexer] = value instead\n",
      "\n",
      "See the caveats in the documentation: https://pandas.pydata.org/pandas-docs/stable/user_guide/indexing.html#returning-a-view-versus-a-copy\n",
      "  MSwomenGenders['RelativePercent'] = MSwomenGenders.apply(lambda x: (x['Counts']/sum(MSwomenGenders.Counts)), axis = 1)\n",
      "<ipython-input-15-7eb3425a2aba>:6: SettingWithCopyWarning: \n",
      "A value is trying to be set on a copy of a slice from a DataFrame.\n",
      "Try using .loc[row_indexer,col_indexer] = value instead\n",
      "\n",
      "See the caveats in the documentation: https://pandas.pydata.org/pandas-docs/stable/user_guide/indexing.html#returning-a-view-versus-a-copy\n",
      "  MSwomenGenders['Age'] = (\"Adult\")\n"
     ]
    }
   ],
   "source": [
    "MSGenders = pd.DataFrame(MSGender.stack())\n",
    "MSGenders.reset_index(inplace = True)\n",
    "MSGenders = MSGenders.rename(columns = {0:'Counts'})\n",
    "MSwomenGenders = MSGenders.loc[MSGenders.Gender == \"Female\"]\n",
    "MSwomenGenders['RelativePercent'] = MSwomenGenders.apply(lambda x: (x['Counts']/sum(MSwomenGenders.Counts)), axis = 1)\n",
    "MSwomenGenders['Age'] = (\"Adult\")"
   ]
  },
  {
   "cell_type": "code",
   "execution_count": 16,
   "metadata": {},
   "outputs": [
    {
     "data": {
      "text/html": [
       "<div>\n",
       "<style scoped>\n",
       "    .dataframe tbody tr th:only-of-type {\n",
       "        vertical-align: middle;\n",
       "    }\n",
       "\n",
       "    .dataframe tbody tr th {\n",
       "        vertical-align: top;\n",
       "    }\n",
       "\n",
       "    .dataframe thead th {\n",
       "        text-align: right;\n",
       "    }\n",
       "</style>\n",
       "<table border=\"1\" class=\"dataframe\">\n",
       "  <thead>\n",
       "    <tr style=\"text-align: right;\">\n",
       "      <th></th>\n",
       "      <th>Gender</th>\n",
       "      <th>MaritalStatus</th>\n",
       "      <th>Counts</th>\n",
       "      <th>RelativePercent</th>\n",
       "      <th>Age</th>\n",
       "    </tr>\n",
       "  </thead>\n",
       "  <tbody>\n",
       "    <tr>\n",
       "      <th>0</th>\n",
       "      <td>Female</td>\n",
       "      <td>Divorced</td>\n",
       "      <td>350</td>\n",
       "      <td>0.122807</td>\n",
       "      <td>Adult</td>\n",
       "    </tr>\n",
       "    <tr>\n",
       "      <th>1</th>\n",
       "      <td>Female</td>\n",
       "      <td>Living with partner</td>\n",
       "      <td>262</td>\n",
       "      <td>0.091930</td>\n",
       "      <td>Adult</td>\n",
       "    </tr>\n",
       "    <tr>\n",
       "      <th>2</th>\n",
       "      <td>Female</td>\n",
       "      <td>Married</td>\n",
       "      <td>1303</td>\n",
       "      <td>0.457193</td>\n",
       "      <td>Adult</td>\n",
       "    </tr>\n",
       "    <tr>\n",
       "      <th>3</th>\n",
       "      <td>Female</td>\n",
       "      <td>Never married</td>\n",
       "      <td>520</td>\n",
       "      <td>0.182456</td>\n",
       "      <td>Adult</td>\n",
       "    </tr>\n",
       "    <tr>\n",
       "      <th>4</th>\n",
       "      <td>Female</td>\n",
       "      <td>Refused</td>\n",
       "      <td>1</td>\n",
       "      <td>0.000351</td>\n",
       "      <td>Adult</td>\n",
       "    </tr>\n",
       "    <tr>\n",
       "      <th>5</th>\n",
       "      <td>Female</td>\n",
       "      <td>Separated</td>\n",
       "      <td>118</td>\n",
       "      <td>0.041404</td>\n",
       "      <td>Adult</td>\n",
       "    </tr>\n",
       "    <tr>\n",
       "      <th>6</th>\n",
       "      <td>Female</td>\n",
       "      <td>Widowed</td>\n",
       "      <td>296</td>\n",
       "      <td>0.103860</td>\n",
       "      <td>Adult</td>\n",
       "    </tr>\n",
       "    <tr>\n",
       "      <th>7</th>\n",
       "      <td>Female</td>\n",
       "      <td>Divorced</td>\n",
       "      <td>46</td>\n",
       "      <td>0.086466</td>\n",
       "      <td>30 to 40</td>\n",
       "    </tr>\n",
       "    <tr>\n",
       "      <th>8</th>\n",
       "      <td>Female</td>\n",
       "      <td>Living with partner</td>\n",
       "      <td>65</td>\n",
       "      <td>0.122180</td>\n",
       "      <td>30 to 40</td>\n",
       "    </tr>\n",
       "    <tr>\n",
       "      <th>9</th>\n",
       "      <td>Female</td>\n",
       "      <td>Married</td>\n",
       "      <td>285</td>\n",
       "      <td>0.535714</td>\n",
       "      <td>30 to 40</td>\n",
       "    </tr>\n",
       "    <tr>\n",
       "      <th>10</th>\n",
       "      <td>Female</td>\n",
       "      <td>Never married</td>\n",
       "      <td>116</td>\n",
       "      <td>0.218045</td>\n",
       "      <td>30 to 40</td>\n",
       "    </tr>\n",
       "    <tr>\n",
       "      <th>11</th>\n",
       "      <td>Female</td>\n",
       "      <td>Separated</td>\n",
       "      <td>18</td>\n",
       "      <td>0.033835</td>\n",
       "      <td>30 to 40</td>\n",
       "    </tr>\n",
       "    <tr>\n",
       "      <th>12</th>\n",
       "      <td>Female</td>\n",
       "      <td>Widowed</td>\n",
       "      <td>2</td>\n",
       "      <td>0.003759</td>\n",
       "      <td>30 to 40</td>\n",
       "    </tr>\n",
       "  </tbody>\n",
       "</table>\n",
       "</div>"
      ],
      "text/plain": [
       "    Gender        MaritalStatus  Counts  RelativePercent       Age\n",
       "0   Female             Divorced     350         0.122807     Adult\n",
       "1   Female  Living with partner     262         0.091930     Adult\n",
       "2   Female              Married    1303         0.457193     Adult\n",
       "3   Female        Never married     520         0.182456     Adult\n",
       "4   Female              Refused       1         0.000351     Adult\n",
       "5   Female            Separated     118         0.041404     Adult\n",
       "6   Female              Widowed     296         0.103860     Adult\n",
       "7   Female             Divorced      46         0.086466  30 to 40\n",
       "8   Female  Living with partner      65         0.122180  30 to 40\n",
       "9   Female              Married     285         0.535714  30 to 40\n",
       "10  Female        Never married     116         0.218045  30 to 40\n",
       "11  Female            Separated      18         0.033835  30 to 40\n",
       "12  Female              Widowed       2         0.003759  30 to 40"
      ]
     },
     "execution_count": 16,
     "metadata": {},
     "output_type": "execute_result"
    }
   ],
   "source": [
    "MSwomenjoined = pd.concat([MSwomenGenders, MSwomen30_40],ignore_index=True)\n",
    "MSwomenjoined"
   ]
  },
  {
   "cell_type": "code",
   "execution_count": 17,
   "metadata": {},
   "outputs": [
    {
     "data": {
      "image/png": "[encoded data removed]",
      "text/plain": [
       "<Figure size 720x360 with 1 Axes>"
      ]
     },
     "metadata": {
      "needs_background": "light"
     },
     "output_type": "display_data"
    }
   ],
   "source": [
    "f, (ax1) = plt.subplots(figsize = (10,5))\n",
    "\n",
    "sns.barplot(x = MSwomenjoined.MaritalStatus,\n",
    "            y = 'RelativePercent',\n",
    "            hue = 'Age', data = MSwomenjoined, ax = ax1)\n",
    "ax1.set_title(\"Barchart for Female Marital hued by age Status using NHANES data from 2015 and 2016\")\n",
    "plt.show()"
   ]
  },
  {
   "cell_type": "markdown",
   "metadata": {},
   "source": [
    "__Q1c.__ Repeat part b for the men."
   ]
  },
  {
   "cell_type": "code",
   "execution_count": 18,
   "metadata": {},
   "outputs": [
    {
     "name": "stderr",
     "output_type": "stream",
     "text": [
      "<ipython-input-18-702aa77fdfad>:1: SettingWithCopyWarning: \n",
      "A value is trying to be set on a copy of a slice from a DataFrame.\n",
      "Try using .loc[row_indexer,col_indexer] = value instead\n",
      "\n",
      "See the caveats in the documentation: https://pandas.pydata.org/pandas-docs/stable/user_guide/indexing.html#returning-a-view-versus-a-copy\n",
      "  MSmale30_40['RelativePercent'] = MSmale30_40.apply(lambda x: (x['Counts']/sum(MSmale30_40.Counts)), axis = 1)\n",
      "<ipython-input-18-702aa77fdfad>:2: SettingWithCopyWarning: \n",
      "A value is trying to be set on a copy of a slice from a DataFrame.\n",
      "Try using .loc[row_indexer,col_indexer] = value instead\n",
      "\n",
      "See the caveats in the documentation: https://pandas.pydata.org/pandas-docs/stable/user_guide/indexing.html#returning-a-view-versus-a-copy\n",
      "  MSmale30_40['Age'] = ('30 to 40')\n",
      "<ipython-input-18-702aa77fdfad>:8: SettingWithCopyWarning: \n",
      "A value is trying to be set on a copy of a slice from a DataFrame.\n",
      "Try using .loc[row_indexer,col_indexer] = value instead\n",
      "\n",
      "See the caveats in the documentation: https://pandas.pydata.org/pandas-docs/stable/user_guide/indexing.html#returning-a-view-versus-a-copy\n",
      "  MSmaleGenders['RelativePercent'] = MSmaleGenders.apply(lambda x: (x['Counts']/sum(MSmaleGenders.Counts)), axis = 1)\n",
      "<ipython-input-18-702aa77fdfad>:9: SettingWithCopyWarning: \n",
      "A value is trying to be set on a copy of a slice from a DataFrame.\n",
      "Try using .loc[row_indexer,col_indexer] = value instead\n",
      "\n",
      "See the caveats in the documentation: https://pandas.pydata.org/pandas-docs/stable/user_guide/indexing.html#returning-a-view-versus-a-copy\n",
      "  MSmaleGenders['Age'] = (\"Adult\")\n"
     ]
    },
    {
     "data": {
      "image/png": "[encoded data removed]",
      "text/plain": [
       "<Figure size 720x360 with 1 Axes>"
      ]
     },
     "metadata": {
      "needs_background": "light"
     },
     "output_type": "display_data"
    }
   ],
   "source": [
    "MSmale30_40['RelativePercent'] = MSmale30_40.apply(lambda x: (x['Counts']/sum(MSmale30_40.Counts)), axis = 1)\n",
    "MSmale30_40['Age'] = ('30 to 40')\n",
    "\n",
    "MSGenders = pd.DataFrame(MSGender.stack())\n",
    "MSGenders.reset_index(inplace = True)\n",
    "MSGenders = MSGenders.rename(columns = {0:'Counts'})\n",
    "MSmaleGenders = MSGenders.loc[MSGenders.Gender == \"Male\"]\n",
    "MSmaleGenders['RelativePercent'] = MSmaleGenders.apply(lambda x: (x['Counts']/sum(MSmaleGenders.Counts)), axis = 1)\n",
    "MSmaleGenders['Age'] = (\"Adult\")\n",
    "\n",
    "MSmalejoined = pd.concat([MSmaleGenders, MSmale30_40],ignore_index=True)\n",
    "\n",
    "\n",
    "f, (ax1) = plt.subplots(figsize = (10,5))\n",
    "\n",
    "sns.barplot(x = MSmalejoined.MaritalStatus,\n",
    "            y = 'RelativePercent',\n",
    "            hue = 'Age', data = MSmalejoined, ax = ax1)\n",
    "ax1.set_title(\"Barchart for Male Marital Status hued by Age using NHANES data from 2015 and 2016\")\n",
    "plt.show()"
   ]
  },
  {
   "cell_type": "markdown",
   "metadata": {},
   "source": [
    "Younger Men, on the other hand, tend to live with parter or be single. While elder the number of divorced or widowed elder men is greater."
   ]
  },
  {
   "cell_type": "markdown",
   "metadata": {},
   "source": [
    "#### Conclusion of the first exercise. It would be better to read the whole exercise and set a table that could be sliced to generate graphs :)\n",
    "\n",
    "I created almost 10 different dataframes and applied lambda almost 5 times. I could do it once if I had created a table at the beginning :) \n",
    "\n",
    "Plan first, do later!"
   ]
  },
  {
   "cell_type": "markdown",
   "metadata": {},
   "source": [
    "## Question 2\n",
    "\n",
    "Restricting to the female population, stratify the subjects into age bands no wider than ten years, and construct the distribution of marital status within each age band.  Within each age band, present the distribution in terms of proportions that must sum to 1."
   ]
  },
  {
   "cell_type": "markdown",
   "metadata": {},
   "source": [
    "__Q2a.__ Comment on the trends that you see in this series of marginal distributions.\n",
    "\n",
    "[Labeling axis ticks](https://www.drawingfromdata.com/how-to-rotate-axis-labels-in-seaborn-and-matplotlib)"
   ]
  },
  {
   "cell_type": "code",
   "execution_count": 152,
   "metadata": {},
   "outputs": [],
   "source": [
    "data['Agex'] = pd.cut(x = data.Age,\n",
    "                    bins = [17,30,40,50,60,70,80],\n",
    "                    labels = ['18 to 30','31 to 40', '41 to 50', '51 to 60', '61 to 70', '71 to 80']) "
   ]
  },
  {
   "cell_type": "code",
   "execution_count": 157,
   "metadata": {},
   "outputs": [],
   "source": [
    "#Gender, Agex, MaritalStatus, and count values of marital\n",
    "df2 = pd.DataFrame(data.groupby(['Gender','Agex'])['MaritalStatus'].value_counts())\n",
    "df2 = df2.rename(columns = {\"MaritalStatus\": 'Counts'})\n",
    "df2.reset_index(inplace = True)\n",
    "df2['Gender'] = df2['Gender'].replace({1:'Male', 2:'Female'})\n",
    "#Lambda.\n",
    "#everytime it changes the group, so does the reference to x.sum! Incredible function\n",
    "df2Female = df2.loc[df2.Gender == 'Female']\n",
    "df2Male = df2.loc[df2.Gender == 'Male']"
   ]
  },
  {
   "cell_type": "code",
   "execution_count": 159,
   "metadata": {},
   "outputs": [
    {
     "data": {
      "text/html": [
       "<div>\n",
       "<style scoped>\n",
       "    .dataframe tbody tr th:only-of-type {\n",
       "        vertical-align: middle;\n",
       "    }\n",
       "\n",
       "    .dataframe tbody tr th {\n",
       "        vertical-align: top;\n",
       "    }\n",
       "\n",
       "    .dataframe thead th {\n",
       "        text-align: right;\n",
       "    }\n",
       "</style>\n",
       "<table border=\"1\" class=\"dataframe\">\n",
       "  <thead>\n",
       "    <tr style=\"text-align: right;\">\n",
       "      <th></th>\n",
       "      <th>Gender</th>\n",
       "      <th>Agex</th>\n",
       "      <th>MaritalStatus</th>\n",
       "      <th>Counts</th>\n",
       "    </tr>\n",
       "  </thead>\n",
       "  <tbody>\n",
       "    <tr>\n",
       "      <th>37</th>\n",
       "      <td>Female</td>\n",
       "      <td>18 to 30</td>\n",
       "      <td>5.0</td>\n",
       "      <td>259</td>\n",
       "    </tr>\n",
       "    <tr>\n",
       "      <th>38</th>\n",
       "      <td>Female</td>\n",
       "      <td>18 to 30</td>\n",
       "      <td>1.0</td>\n",
       "      <td>158</td>\n",
       "    </tr>\n",
       "    <tr>\n",
       "      <th>39</th>\n",
       "      <td>Female</td>\n",
       "      <td>18 to 30</td>\n",
       "      <td>6.0</td>\n",
       "      <td>114</td>\n",
       "    </tr>\n",
       "    <tr>\n",
       "      <th>40</th>\n",
       "      <td>Female</td>\n",
       "      <td>18 to 30</td>\n",
       "      <td>3.0</td>\n",
       "      <td>11</td>\n",
       "    </tr>\n",
       "    <tr>\n",
       "      <th>41</th>\n",
       "      <td>Female</td>\n",
       "      <td>18 to 30</td>\n",
       "      <td>4.0</td>\n",
       "      <td>11</td>\n",
       "    </tr>\n",
       "    <tr>\n",
       "      <th>42</th>\n",
       "      <td>Female</td>\n",
       "      <td>31 to 40</td>\n",
       "      <td>1.0</td>\n",
       "      <td>258</td>\n",
       "    </tr>\n",
       "    <tr>\n",
       "      <th>43</th>\n",
       "      <td>Female</td>\n",
       "      <td>31 to 40</td>\n",
       "      <td>5.0</td>\n",
       "      <td>97</td>\n",
       "    </tr>\n",
       "    <tr>\n",
       "      <th>44</th>\n",
       "      <td>Female</td>\n",
       "      <td>31 to 40</td>\n",
       "      <td>6.0</td>\n",
       "      <td>57</td>\n",
       "    </tr>\n",
       "    <tr>\n",
       "      <th>45</th>\n",
       "      <td>Female</td>\n",
       "      <td>31 to 40</td>\n",
       "      <td>3.0</td>\n",
       "      <td>43</td>\n",
       "    </tr>\n",
       "    <tr>\n",
       "      <th>46</th>\n",
       "      <td>Female</td>\n",
       "      <td>31 to 40</td>\n",
       "      <td>4.0</td>\n",
       "      <td>17</td>\n",
       "    </tr>\n",
       "    <tr>\n",
       "      <th>47</th>\n",
       "      <td>Female</td>\n",
       "      <td>31 to 40</td>\n",
       "      <td>2.0</td>\n",
       "      <td>2</td>\n",
       "    </tr>\n",
       "    <tr>\n",
       "      <th>48</th>\n",
       "      <td>Female</td>\n",
       "      <td>41 to 50</td>\n",
       "      <td>1.0</td>\n",
       "      <td>288</td>\n",
       "    </tr>\n",
       "    <tr>\n",
       "      <th>49</th>\n",
       "      <td>Female</td>\n",
       "      <td>41 to 50</td>\n",
       "      <td>3.0</td>\n",
       "      <td>69</td>\n",
       "    </tr>\n",
       "    <tr>\n",
       "      <th>50</th>\n",
       "      <td>Female</td>\n",
       "      <td>41 to 50</td>\n",
       "      <td>5.0</td>\n",
       "      <td>63</td>\n",
       "    </tr>\n",
       "    <tr>\n",
       "      <th>51</th>\n",
       "      <td>Female</td>\n",
       "      <td>41 to 50</td>\n",
       "      <td>6.0</td>\n",
       "      <td>37</td>\n",
       "    </tr>\n",
       "    <tr>\n",
       "      <th>52</th>\n",
       "      <td>Female</td>\n",
       "      <td>41 to 50</td>\n",
       "      <td>4.0</td>\n",
       "      <td>33</td>\n",
       "    </tr>\n",
       "    <tr>\n",
       "      <th>53</th>\n",
       "      <td>Female</td>\n",
       "      <td>41 to 50</td>\n",
       "      <td>2.0</td>\n",
       "      <td>12</td>\n",
       "    </tr>\n",
       "    <tr>\n",
       "      <th>54</th>\n",
       "      <td>Female</td>\n",
       "      <td>51 to 60</td>\n",
       "      <td>1.0</td>\n",
       "      <td>257</td>\n",
       "    </tr>\n",
       "    <tr>\n",
       "      <th>55</th>\n",
       "      <td>Female</td>\n",
       "      <td>51 to 60</td>\n",
       "      <td>3.0</td>\n",
       "      <td>83</td>\n",
       "    </tr>\n",
       "    <tr>\n",
       "      <th>56</th>\n",
       "      <td>Female</td>\n",
       "      <td>51 to 60</td>\n",
       "      <td>5.0</td>\n",
       "      <td>42</td>\n",
       "    </tr>\n",
       "    <tr>\n",
       "      <th>57</th>\n",
       "      <td>Female</td>\n",
       "      <td>51 to 60</td>\n",
       "      <td>6.0</td>\n",
       "      <td>32</td>\n",
       "    </tr>\n",
       "    <tr>\n",
       "      <th>58</th>\n",
       "      <td>Female</td>\n",
       "      <td>51 to 60</td>\n",
       "      <td>2.0</td>\n",
       "      <td>28</td>\n",
       "    </tr>\n",
       "    <tr>\n",
       "      <th>59</th>\n",
       "      <td>Female</td>\n",
       "      <td>51 to 60</td>\n",
       "      <td>4.0</td>\n",
       "      <td>27</td>\n",
       "    </tr>\n",
       "    <tr>\n",
       "      <th>60</th>\n",
       "      <td>Female</td>\n",
       "      <td>51 to 60</td>\n",
       "      <td>77.0</td>\n",
       "      <td>1</td>\n",
       "    </tr>\n",
       "    <tr>\n",
       "      <th>61</th>\n",
       "      <td>Female</td>\n",
       "      <td>61 to 70</td>\n",
       "      <td>1.0</td>\n",
       "      <td>212</td>\n",
       "    </tr>\n",
       "    <tr>\n",
       "      <th>62</th>\n",
       "      <td>Female</td>\n",
       "      <td>61 to 70</td>\n",
       "      <td>3.0</td>\n",
       "      <td>85</td>\n",
       "    </tr>\n",
       "    <tr>\n",
       "      <th>63</th>\n",
       "      <td>Female</td>\n",
       "      <td>61 to 70</td>\n",
       "      <td>2.0</td>\n",
       "      <td>65</td>\n",
       "    </tr>\n",
       "    <tr>\n",
       "      <th>64</th>\n",
       "      <td>Female</td>\n",
       "      <td>61 to 70</td>\n",
       "      <td>5.0</td>\n",
       "      <td>38</td>\n",
       "    </tr>\n",
       "    <tr>\n",
       "      <th>65</th>\n",
       "      <td>Female</td>\n",
       "      <td>61 to 70</td>\n",
       "      <td>4.0</td>\n",
       "      <td>22</td>\n",
       "    </tr>\n",
       "    <tr>\n",
       "      <th>66</th>\n",
       "      <td>Female</td>\n",
       "      <td>61 to 70</td>\n",
       "      <td>6.0</td>\n",
       "      <td>19</td>\n",
       "    </tr>\n",
       "    <tr>\n",
       "      <th>67</th>\n",
       "      <td>Female</td>\n",
       "      <td>71 to 80</td>\n",
       "      <td>2.0</td>\n",
       "      <td>189</td>\n",
       "    </tr>\n",
       "    <tr>\n",
       "      <th>68</th>\n",
       "      <td>Female</td>\n",
       "      <td>71 to 80</td>\n",
       "      <td>1.0</td>\n",
       "      <td>130</td>\n",
       "    </tr>\n",
       "    <tr>\n",
       "      <th>69</th>\n",
       "      <td>Female</td>\n",
       "      <td>71 to 80</td>\n",
       "      <td>3.0</td>\n",
       "      <td>59</td>\n",
       "    </tr>\n",
       "    <tr>\n",
       "      <th>70</th>\n",
       "      <td>Female</td>\n",
       "      <td>71 to 80</td>\n",
       "      <td>5.0</td>\n",
       "      <td>21</td>\n",
       "    </tr>\n",
       "    <tr>\n",
       "      <th>71</th>\n",
       "      <td>Female</td>\n",
       "      <td>71 to 80</td>\n",
       "      <td>4.0</td>\n",
       "      <td>8</td>\n",
       "    </tr>\n",
       "    <tr>\n",
       "      <th>72</th>\n",
       "      <td>Female</td>\n",
       "      <td>71 to 80</td>\n",
       "      <td>6.0</td>\n",
       "      <td>3</td>\n",
       "    </tr>\n",
       "  </tbody>\n",
       "</table>\n",
       "</div>"
      ],
      "text/plain": [
       "    Gender      Agex  MaritalStatus  Counts\n",
       "37  Female  18 to 30            5.0     259\n",
       "38  Female  18 to 30            1.0     158\n",
       "39  Female  18 to 30            6.0     114\n",
       "40  Female  18 to 30            3.0      11\n",
       "41  Female  18 to 30            4.0      11\n",
       "42  Female  31 to 40            1.0     258\n",
       "43  Female  31 to 40            5.0      97\n",
       "44  Female  31 to 40            6.0      57\n",
       "45  Female  31 to 40            3.0      43\n",
       "46  Female  31 to 40            4.0      17\n",
       "47  Female  31 to 40            2.0       2\n",
       "48  Female  41 to 50            1.0     288\n",
       "49  Female  41 to 50            3.0      69\n",
       "50  Female  41 to 50            5.0      63\n",
       "51  Female  41 to 50            6.0      37\n",
       "52  Female  41 to 50            4.0      33\n",
       "53  Female  41 to 50            2.0      12\n",
       "54  Female  51 to 60            1.0     257\n",
       "55  Female  51 to 60            3.0      83\n",
       "56  Female  51 to 60            5.0      42\n",
       "57  Female  51 to 60            6.0      32\n",
       "58  Female  51 to 60            2.0      28\n",
       "59  Female  51 to 60            4.0      27\n",
       "60  Female  51 to 60           77.0       1\n",
       "61  Female  61 to 70            1.0     212\n",
       "62  Female  61 to 70            3.0      85\n",
       "63  Female  61 to 70            2.0      65\n",
       "64  Female  61 to 70            5.0      38\n",
       "65  Female  61 to 70            4.0      22\n",
       "66  Female  61 to 70            6.0      19\n",
       "67  Female  71 to 80            2.0     189\n",
       "68  Female  71 to 80            1.0     130\n",
       "69  Female  71 to 80            3.0      59\n",
       "70  Female  71 to 80            5.0      21\n",
       "71  Female  71 to 80            4.0       8\n",
       "72  Female  71 to 80            6.0       3"
      ]
     },
     "execution_count": 159,
     "metadata": {},
     "output_type": "execute_result"
    }
   ],
   "source": [
    "df2Female"
   ]
  },
  {
   "cell_type": "code",
   "execution_count": 20,
   "metadata": {},
   "outputs": [
    {
     "name": "stderr",
     "output_type": "stream",
     "text": [
      "<ipython-input-20-f02f66f36ffb>:10: SettingWithCopyWarning: \n",
      "A value is trying to be set on a copy of a slice from a DataFrame.\n",
      "Try using .loc[row_indexer,col_indexer] = value instead\n",
      "\n",
      "See the caveats in the documentation: https://pandas.pydata.org/pandas-docs/stable/user_guide/indexing.html#returning-a-view-versus-a-copy\n",
      "  df2Female['RelativePercent'] = df2Female.groupby('Agex')['Counts'].apply(lambda x: 100*x/x.sum())\n",
      "<ipython-input-20-f02f66f36ffb>:11: SettingWithCopyWarning: \n",
      "A value is trying to be set on a copy of a slice from a DataFrame.\n",
      "Try using .loc[row_indexer,col_indexer] = value instead\n",
      "\n",
      "See the caveats in the documentation: https://pandas.pydata.org/pandas-docs/stable/user_guide/indexing.html#returning-a-view-versus-a-copy\n",
      "  df2Male['RelativePercent'] = df2Male.groupby('Agex')['Counts'].apply(lambda x: 100*x/x.sum())\n"
     ]
    }
   ],
   "source": [
    "df2Female['RelativePercent'] = df2Female.groupby('Agex')['Counts'].apply(lambda x: 100*x/x.sum())\n",
    "df2Male['RelativePercent'] = df2Male.groupby('Agex')['Counts'].apply(lambda x: 100*x/x.sum())"
   ]
  },
  {
   "cell_type": "markdown",
   "metadata": {},
   "source": [
    "Selecting male and female to new DataFrame"
   ]
  },
  {
   "cell_type": "code",
   "execution_count": 21,
   "metadata": {},
   "outputs": [
    {
     "data": {
      "image/png": "[encoded data removed]",
      "text/plain": [
       "<Figure size 1080x720 with 1 Axes>"
      ]
     },
     "metadata": {
      "needs_background": "light"
     },
     "output_type": "display_data"
    }
   ],
   "source": [
    "plt.figure(figsize=(15,10), edgecolor='white')\n",
    "bargraphfemale = sns.barplot(x = 'Agex',\n",
    "            y = 'RelativePercent',\n",
    "            hue = 'MaritalStatus',\n",
    "            palette = 'rocket',\n",
    "            data = df2Female)\n",
    "#plt.title('Barchart\\nFemale Marital Status', weight=\"bold\", fontsize=14)\n",
    "\n",
    "#plt.text(15, -0.8, \"Barchart\\n\", weight=\"bold\", fontsize=14, ha='center')\n",
    "#plt.text(15, -0.8, \"Female Marital Status\", ha='center')\n",
    "\n",
    "sns.set(rc={'axes.facecolor': 'darkgray', 'figure.facecolor':'white'})\n",
    "        \n",
    "plt.legend(title = 'Legend',)\n",
    "plt.xticks(rotation=45, horizontalalignment='right', fontweight='light', fontsize='medium', color= 'firebrick')\n",
    "plt.ylabel('Relative\\npercentage', fontweight = 'bold', fontsize = 'large', color= 'grey')\n",
    "plt.xlabel('Age\\nCategories', fontweight = 'bold', fontsize = 'x-large', color= 'grey', fontfamily = \"tahoma\")\n",
    "plt.title(\"Barchart\\nFemale Marital Status\", weight=\"bold\", fontsize=14, ha='center', color = 'RoyalBlue')\n",
    "\n",
    "\n",
    "plt.show()"
   ]
  },
  {
   "cell_type": "markdown",
   "metadata": {},
   "source": [
    "'Never married' individuals are more frequente at the young women population. At higher ages, we can say that widowed women are predominant. At adulthood, on the other hand, the group of 'Married' women prevails, and the proportion of divorced increase.\n"
   ]
  },
  {
   "cell_type": "markdown",
   "metadata": {},
   "source": [
    "__Q2b.__ Repeat the construction for males."
   ]
  },
  {
   "cell_type": "code",
   "execution_count": 22,
   "metadata": {},
   "outputs": [
    {
     "data": {
      "image/png": "[encoded data removed]",
      "text/plain": [
       "<Figure size 1080x720 with 1 Axes>"
      ]
     },
     "metadata": {},
     "output_type": "display_data"
    }
   ],
   "source": [
    "plt.figure(figsize=(15,10), edgecolor='white')\n",
    "bargraphmale = sns.barplot(x = 'Agex',\n",
    "            y = 'RelativePercent',\n",
    "            hue = 'MaritalStatus',\n",
    "            palette = 'mako',\n",
    "            data = df2Male)\n",
    "#plt.title('Barchart\\nFemale Marital Status', weight=\"bold\", fontsize=14)\n",
    "\n",
    "#plt.text(15, -0.8, \"Barchart\\n\", weight=\"bold\", fontsize=14, ha='center')\n",
    "#plt.text(15, -0.8, \"Female Marital Status\", ha='center')\n",
    "\n",
    "sns.set(rc={'axes.facecolor': 'lightcyan', 'figure.facecolor':'white'})\n",
    "        \n",
    "plt.legend(title = 'Legend')\n",
    "plt.xticks(rotation=45, horizontalalignment='right', fontweight='light', fontsize='medium', color= 'blue')\n",
    "plt.ylabel('Relative\\npercentage', fontweight = 'bold', fontsize = 'large', color= 'grey')\n",
    "plt.xlabel('Age\\nCategories', fontweight = 'bold', fontsize = 'x-large', color= 'grey', fontfamily = \"tahoma\")\n",
    "plt.title(\"Barchart Marital Status\", weight=\"bold\", fontsize=20, ha='center', color = 'RoyalBlue')\n",
    "plt.show()"
   ]
  },
  {
   "cell_type": "markdown",
   "metadata": {},
   "source": [
    "the percentage of never married is clearly predominant betweem young men. Married men proportion increase at older ages. It's worth noticing that divorced and widowed increase rightwards."
   ]
  },
  {
   "cell_type": "markdown",
   "metadata": {},
   "source": [
    "__Q2c.__ Comment on any notable differences that you see when comparing these results for females and for males.\n",
    "\n",
    "[stacked and grouped barplot, but too rudimentar using matplotlib](https://gist.github.com/ctokheim/6435202a1a880cfecd71)\n",
    "\n",
    "[PLOTLY IS THE BEST OPTION](https://plotly.com/python/bar-charts/)"
   ]
  },
  {
   "cell_type": "code",
   "execution_count": 24,
   "metadata": {},
   "outputs": [
    {
     "data": {
      "image/png": "[encoded data removed]",
      "text/plain": [
       "<Figure size 1080x720 with 2 Axes>"
      ]
     },
     "metadata": {},
     "output_type": "display_data"
    },
    {
     "data": {
      "text/plain": [
       "<Figure size 1080x720 with 0 Axes>"
      ]
     },
     "metadata": {},
     "output_type": "display_data"
    }
   ],
   "source": [
    "f, (ax1,ax2) = plt.subplots(1,2, figsize=(15,10), edgecolor='white')\n",
    "bargraphmale = sns.barplot(x = 'Agex',\n",
    "            y = 'RelativePercent',\n",
    "            hue = 'MaritalStatus',\n",
    "            palette = 'mako',\n",
    "            ax = ax1,\n",
    "            data = df2Male)\n",
    "\n",
    "sns.set(rc={'axes.facecolor': 'lightcyan', 'figure.facecolor':'white'})\n",
    "        \n",
    "ax1.legend(title = 'Legend')\n",
    "plt.figure(figsize=(15,10), edgecolor='white')\n",
    "bargraphfemale = sns.barplot(x = 'Agex',\n",
    "            y = 'RelativePercent',\n",
    "            hue = 'MaritalStatus',\n",
    "            palette = 'rocket',\n",
    "            ax = ax2,\n",
    "            data = df2Female)\n",
    "        \n",
    "ax2.legend(title = 'Legend', loc ='upper right')\n",
    "\n",
    "plt.show()"
   ]
  },
  {
   "cell_type": "markdown",
   "metadata": {},
   "source": [
    "What changes most significantly is that widowed proportion is higher to elder women than to men. Desconsidering the married group, at the 50's and 60's, however, the proportion of divorced women increases. Men at the same age, if not married, tend to be widowed."
   ]
  },
  {
   "cell_type": "markdown",
   "metadata": {},
   "source": [
    "## Question 3\n",
    "\n",
    "Construct a histogram of the distribution of heights using the BMXHT variable in the NHANES sample."
   ]
  },
  {
   "cell_type": "code",
   "execution_count": 53,
   "metadata": {},
   "outputs": [
    {
     "data": {
      "image/png": "[encoded data removed]",
      "text/plain": [
       "<Figure size 432x288 with 1 Axes>"
      ]
     },
     "metadata": {},
     "output_type": "display_data"
    }
   ],
   "source": [
    "sns.set(rc={'axes.facecolor': 'mistyrose'})\n",
    "sns.distplot(data.BMXHT, kde = False, color = 'firebrick', label = 'histogram')\n",
    "plt.xticks(rotation=45, horizontalalignment='right', fontweight='light', fontsize='medium', color= 'grey')\n",
    "plt.ylabel('Occcurences', fontweight = 'bold', fontsize = 'large', color= 'grey')\n",
    "plt.xlabel('Height', fontweight = 'bold', fontsize = 'x-large', color= 'grey', fontfamily = \"tahoma\")\n",
    "plt.title(\"Histogram of height distribution\", weight=\"bold\", fontsize=15, ha='center', color = 'grey')\n",
    "plt.show()"
   ]
  },
  {
   "cell_type": "markdown",
   "metadata": {},
   "source": [
    "__Q3a.__ Use the `bins` argument to [distplot](https://seaborn.pydata.org/generated/seaborn.distplot.html) to produce histograms with different numbers of bins.  Assess whether the default value for this argument gives a meaningful result, and comment on what happens as the number of bins grows excessively large or excessively small. "
   ]
  },
  {
   "cell_type": "code",
   "execution_count": 65,
   "metadata": {},
   "outputs": [
    {
     "data": {
      "image/png": "[encoded data removed]",
      "text/plain": [
       "<Figure size 1080x504 with 1 Axes>"
      ]
     },
     "metadata": {},
     "output_type": "display_data"
    }
   ],
   "source": [
    "plt.figure(figsize= (15,7))\n",
    "sns.set(rc={'axes.facecolor': 'mistyrose'})\n",
    "sns.distplot(data.BMXHT, bins = 50, kde = False, color = 'firebrick', label = 'histogram')\n",
    "plt.xticks(rotation=45, horizontalalignment='right', fontweight='light', fontsize='medium', color= 'grey')\n",
    "plt.ylabel('Occcurences', fontweight = 'bold', fontsize = 'large', color= 'grey')\n",
    "plt.xlabel('Height', fontweight = 'bold', fontsize = 'x-large', color= 'grey', fontfamily = \"tahoma\")\n",
    "plt.title(\"Histogram of height distribution\", weight=\"bold\", fontsize=15, ha='center', color = 'grey')\n",
    "plt.show()"
   ]
  },
  {
   "cell_type": "markdown",
   "metadata": {},
   "source": [
    "When excessively large, the bars become so narrow that it was impossible to grasp the distribution. Medium-sized bar reveals that some heightes are more frequent than others an might be helpful to detect specific zones of concentration. Nevertheless it doesn't make sense to use a much bigger number than the range of the distribution. In this case, that would be 500 mm, or 500 bars.  \n",
    "If small the graph does not allo the comprehension of the overall distribution and gaps that it has. It seems correct in this case to use 1 bar per 10 mm."
   ]
  },
  {
   "cell_type": "markdown",
   "metadata": {},
   "source": [
    "__Q3b.__ Make separate histograms for the heights of women and men, then make a side-by-side boxplot showing the heights of women and men."
   ]
  },
  {
   "cell_type": "code",
   "execution_count": 120,
   "metadata": {},
   "outputs": [
    {
     "data": {
      "image/png": "[encoded data removed]",
      "text/plain": [
       "<Figure size 1152x576 with 2 Axes>"
      ]
     },
     "metadata": {},
     "output_type": "display_data"
    }
   ],
   "source": [
    "g = sns.FacetGrid(data, col = 'Gender', sharey = True,  height = 8)\n",
    "g = g.map(sns.distplot, 'BMXHT', kde = True, norm_hist=True)\n",
    "g.fig.suptitle('Histogram per gender', fontsize = 20, y= 1.1) # can also get the figure from plt.gcf()\n",
    "plt.xlabel = ('Height')\n",
    "plt.show(g)"
   ]
  },
  {
   "cell_type": "markdown",
   "metadata": {},
   "source": [
    "Both distributions are bell shaped, but women's is more steep and therefore it has a lower standard deviation and range. Also, they don't have outliers. They can't be compared precisely if not normalized. In this case, it's better to look at the proportions an not frequency."
   ]
  },
  {
   "cell_type": "markdown",
   "metadata": {},
   "source": [
    "__Q3c.__ Comment on what features, if any are not represented clearly in the boxplots, and what features, if any, are easier to see in the boxplots than in the histograms.\n",
    "\n",
    "The box plot in this case is not a good option. It does not show any difference between the faceted graphs. It would be better to use other characteristic to facet the data."
   ]
  },
  {
   "cell_type": "code",
   "execution_count": 121,
   "metadata": {},
   "outputs": [
    {
     "name": "stderr",
     "output_type": "stream",
     "text": [
      "F:\\anaconda3\\lib\\site-packages\\seaborn\\axisgrid.py:723: UserWarning: Using the boxplot function without specifying `order` is likely to produce an incorrect plot.\n",
      "  warnings.warn(warning)\n"
     ]
    },
    {
     "data": {
      "image/png": "[encoded data removed]",
      "text/plain": [
       "<Figure size 576x288 with 2 Axes>"
      ]
     },
     "metadata": {},
     "output_type": "display_data"
    }
   ],
   "source": [
    "g = sns.FacetGrid(data, col = 'Gender',  height = 4)\n",
    "g = g.map(sns.boxplot, y = 'BMXHT', color = 'firebrick', data = data, width = 0.5, saturation = 0.55)\n",
    "#sns.boxplot()\n",
    "g.fig.suptitle('Boxplot per gender', fontsize = 20, y= 1.1) \n",
    "plt.show(g)"
   ]
  },
  {
   "cell_type": "markdown",
   "metadata": {},
   "source": [
    "## Question 4\n",
    "\n",
    "Make a boxplot showing the distribution of within-subject differences between the first and second systolic blood pressure measurents ([BPXSY1](https://wwwn.cdc.gov/Nchs/Nhanes/2015-2016/BPX_I.htm#BPXSY1) and [BPXSY2](https://wwwn.cdc.gov/Nchs/Nhanes/2015-2016/BPX_I.htm#BPXSY2))."
   ]
  },
  {
   "cell_type": "code",
   "execution_count": 127,
   "metadata": {},
   "outputs": [
    {
     "data": {
      "text/plain": [
       "Text(0.5, 1.1, 'Boxplot of systolic blood pressures per gender')"
      ]
     },
     "execution_count": 127,
     "metadata": {},
     "output_type": "execute_result"
    },
    {
     "data": {
      "image/png": "[encoded data removed]",
      "text/plain": [
       "<Figure size 1080x720 with 2 Axes>"
      ]
     },
     "metadata": {},
     "output_type": "display_data"
    }
   ],
   "source": [
    "f, (ax1, ax2) = plt.subplots(1,2, figsize = (15,10))\n",
    "sns.boxplot(y = 'BPXSY1', x = 'Gender', ax = ax1, data = data)\n",
    "sns.boxplot(y = 'BPXSY2', x = 'Gender', ax = ax2, data = data)\n",
    "fig.suptitle('Boxplot of systolic blood pressures per gender', fontsize = 20, y= 1.1) \n"
   ]
  },
  {
   "cell_type": "code",
   "execution_count": 242,
   "metadata": {},
   "outputs": [
    {
     "data": {
      "text/html": [
       "<div>\n",
       "<style scoped>\n",
       "    .dataframe tbody tr th:only-of-type {\n",
       "        vertical-align: middle;\n",
       "    }\n",
       "\n",
       "    .dataframe tbody tr th {\n",
       "        vertical-align: top;\n",
       "    }\n",
       "\n",
       "    .dataframe thead th {\n",
       "        text-align: right;\n",
       "    }\n",
       "</style>\n",
       "<table border=\"1\" class=\"dataframe\">\n",
       "  <thead>\n",
       "    <tr style=\"text-align: right;\">\n",
       "      <th></th>\n",
       "      <th>SEQN</th>\n",
       "      <th>Gender</th>\n",
       "      <th>BPXSY1</th>\n",
       "      <th>BPXSY2</th>\n",
       "      <th>id</th>\n",
       "    </tr>\n",
       "  </thead>\n",
       "  <tbody>\n",
       "    <tr>\n",
       "      <th>0</th>\n",
       "      <td>83732</td>\n",
       "      <td>Male</td>\n",
       "      <td>128.0</td>\n",
       "      <td>124.0</td>\n",
       "      <td>0</td>\n",
       "    </tr>\n",
       "    <tr>\n",
       "      <th>1</th>\n",
       "      <td>83733</td>\n",
       "      <td>Male</td>\n",
       "      <td>146.0</td>\n",
       "      <td>140.0</td>\n",
       "      <td>1</td>\n",
       "    </tr>\n",
       "    <tr>\n",
       "      <th>2</th>\n",
       "      <td>83734</td>\n",
       "      <td>Male</td>\n",
       "      <td>138.0</td>\n",
       "      <td>132.0</td>\n",
       "      <td>2</td>\n",
       "    </tr>\n",
       "    <tr>\n",
       "      <th>3</th>\n",
       "      <td>83735</td>\n",
       "      <td>Female</td>\n",
       "      <td>132.0</td>\n",
       "      <td>134.0</td>\n",
       "      <td>3</td>\n",
       "    </tr>\n",
       "    <tr>\n",
       "      <th>4</th>\n",
       "      <td>83736</td>\n",
       "      <td>Female</td>\n",
       "      <td>100.0</td>\n",
       "      <td>114.0</td>\n",
       "      <td>4</td>\n",
       "    </tr>\n",
       "    <tr>\n",
       "      <th>...</th>\n",
       "      <td>...</td>\n",
       "      <td>...</td>\n",
       "      <td>...</td>\n",
       "      <td>...</td>\n",
       "      <td>...</td>\n",
       "    </tr>\n",
       "    <tr>\n",
       "      <th>5730</th>\n",
       "      <td>93695</td>\n",
       "      <td>Female</td>\n",
       "      <td>112.0</td>\n",
       "      <td>112.0</td>\n",
       "      <td>5730</td>\n",
       "    </tr>\n",
       "    <tr>\n",
       "      <th>5731</th>\n",
       "      <td>93696</td>\n",
       "      <td>Male</td>\n",
       "      <td>118.0</td>\n",
       "      <td>116.0</td>\n",
       "      <td>5731</td>\n",
       "    </tr>\n",
       "    <tr>\n",
       "      <th>5732</th>\n",
       "      <td>93697</td>\n",
       "      <td>Female</td>\n",
       "      <td>154.0</td>\n",
       "      <td>146.0</td>\n",
       "      <td>5732</td>\n",
       "    </tr>\n",
       "    <tr>\n",
       "      <th>5733</th>\n",
       "      <td>93700</td>\n",
       "      <td>Male</td>\n",
       "      <td>104.0</td>\n",
       "      <td>106.0</td>\n",
       "      <td>5733</td>\n",
       "    </tr>\n",
       "    <tr>\n",
       "      <th>5734</th>\n",
       "      <td>93702</td>\n",
       "      <td>Female</td>\n",
       "      <td>118.0</td>\n",
       "      <td>114.0</td>\n",
       "      <td>5734</td>\n",
       "    </tr>\n",
       "  </tbody>\n",
       "</table>\n",
       "<p>5369 rows × 5 columns</p>\n",
       "</div>"
      ],
      "text/plain": [
       "       SEQN  Gender  BPXSY1  BPXSY2    id\n",
       "0     83732    Male   128.0   124.0     0\n",
       "1     83733    Male   146.0   140.0     1\n",
       "2     83734    Male   138.0   132.0     2\n",
       "3     83735  Female   132.0   134.0     3\n",
       "4     83736  Female   100.0   114.0     4\n",
       "...     ...     ...     ...     ...   ...\n",
       "5730  93695  Female   112.0   112.0  5730\n",
       "5731  93696    Male   118.0   116.0  5731\n",
       "5732  93697  Female   154.0   146.0  5732\n",
       "5733  93700    Male   104.0   106.0  5733\n",
       "5734  93702  Female   118.0   114.0  5734\n",
       "\n",
       "[5369 rows x 5 columns]"
      ]
     },
     "execution_count": 242,
     "metadata": {},
     "output_type": "execute_result"
    }
   ],
   "source": [
    "df4 = data.loc[:,['SEQN','Gender', 'BPXSY1', 'BPXSY2']].dropna()\n",
    "df4['id'] = df4.index\n",
    "df4"
   ]
  },
  {
   "cell_type": "markdown",
   "metadata": {},
   "source": [
    "Wide to long pandas function! Good but not flexible. Columns you want to melt must begin with the same characters"
   ]
  },
  {
   "cell_type": "code",
   "execution_count": 281,
   "metadata": {},
   "outputs": [
    {
     "data": {
      "text/html": [
       "<div>\n",
       "<style scoped>\n",
       "    .dataframe tbody tr th:only-of-type {\n",
       "        vertical-align: middle;\n",
       "    }\n",
       "\n",
       "    .dataframe tbody tr th {\n",
       "        vertical-align: top;\n",
       "    }\n",
       "\n",
       "    .dataframe thead th {\n",
       "        text-align: right;\n",
       "    }\n",
       "</style>\n",
       "<table border=\"1\" class=\"dataframe\">\n",
       "  <thead>\n",
       "    <tr style=\"text-align: right;\">\n",
       "      <th></th>\n",
       "      <th></th>\n",
       "      <th>Gender</th>\n",
       "      <th>SEQN</th>\n",
       "      <th>BPXSY</th>\n",
       "    </tr>\n",
       "    <tr>\n",
       "      <th>id</th>\n",
       "      <th>SBPMeasure</th>\n",
       "      <th></th>\n",
       "      <th></th>\n",
       "      <th></th>\n",
       "    </tr>\n",
       "  </thead>\n",
       "  <tbody>\n",
       "    <tr>\n",
       "      <th>0</th>\n",
       "      <th>1</th>\n",
       "      <td>Male</td>\n",
       "      <td>83732</td>\n",
       "      <td>128.0</td>\n",
       "    </tr>\n",
       "    <tr>\n",
       "      <th>1</th>\n",
       "      <th>1</th>\n",
       "      <td>Male</td>\n",
       "      <td>83733</td>\n",
       "      <td>146.0</td>\n",
       "    </tr>\n",
       "    <tr>\n",
       "      <th>2</th>\n",
       "      <th>1</th>\n",
       "      <td>Male</td>\n",
       "      <td>83734</td>\n",
       "      <td>138.0</td>\n",
       "    </tr>\n",
       "    <tr>\n",
       "      <th>3</th>\n",
       "      <th>1</th>\n",
       "      <td>Female</td>\n",
       "      <td>83735</td>\n",
       "      <td>132.0</td>\n",
       "    </tr>\n",
       "    <tr>\n",
       "      <th>4</th>\n",
       "      <th>1</th>\n",
       "      <td>Female</td>\n",
       "      <td>83736</td>\n",
       "      <td>100.0</td>\n",
       "    </tr>\n",
       "    <tr>\n",
       "      <th>...</th>\n",
       "      <th>...</th>\n",
       "      <td>...</td>\n",
       "      <td>...</td>\n",
       "      <td>...</td>\n",
       "    </tr>\n",
       "    <tr>\n",
       "      <th>5730</th>\n",
       "      <th>2</th>\n",
       "      <td>Female</td>\n",
       "      <td>93695</td>\n",
       "      <td>112.0</td>\n",
       "    </tr>\n",
       "    <tr>\n",
       "      <th>5731</th>\n",
       "      <th>2</th>\n",
       "      <td>Male</td>\n",
       "      <td>93696</td>\n",
       "      <td>116.0</td>\n",
       "    </tr>\n",
       "    <tr>\n",
       "      <th>5732</th>\n",
       "      <th>2</th>\n",
       "      <td>Female</td>\n",
       "      <td>93697</td>\n",
       "      <td>146.0</td>\n",
       "    </tr>\n",
       "    <tr>\n",
       "      <th>5733</th>\n",
       "      <th>2</th>\n",
       "      <td>Male</td>\n",
       "      <td>93700</td>\n",
       "      <td>106.0</td>\n",
       "    </tr>\n",
       "    <tr>\n",
       "      <th>5734</th>\n",
       "      <th>2</th>\n",
       "      <td>Female</td>\n",
       "      <td>93702</td>\n",
       "      <td>114.0</td>\n",
       "    </tr>\n",
       "  </tbody>\n",
       "</table>\n",
       "<p>10738 rows × 3 columns</p>\n",
       "</div>"
      ],
      "text/plain": [
       "                 Gender   SEQN  BPXSY\n",
       "id   SBPMeasure                      \n",
       "0    1             Male  83732  128.0\n",
       "1    1             Male  83733  146.0\n",
       "2    1             Male  83734  138.0\n",
       "3    1           Female  83735  132.0\n",
       "4    1           Female  83736  100.0\n",
       "...                 ...    ...    ...\n",
       "5730 2           Female  93695  112.0\n",
       "5731 2             Male  93696  116.0\n",
       "5732 2           Female  93697  146.0\n",
       "5733 2             Male  93700  106.0\n",
       "5734 2           Female  93702  114.0\n",
       "\n",
       "[10738 rows x 3 columns]"
      ]
     },
     "execution_count": 281,
     "metadata": {},
     "output_type": "execute_result"
    }
   ],
   "source": [
    "df4b = pd.wide_to_long(df4, stubnames = 'BPXSY', i = 'id', j = 'SBPMeasure')\n",
    "df4b"
   ]
  },
  {
   "cell_type": "markdown",
   "metadata": {},
   "source": [
    "__Q4a.__ What proportion of the subjects have a lower SBP on the second reading compared to the first?"
   ]
  },
  {
   "cell_type": "code",
   "execution_count": 259,
   "metadata": {},
   "outputs": [
    {
     "data": {
      "text/plain": [
       "45.874464518532314"
      ]
     },
     "execution_count": 259,
     "metadata": {},
     "output_type": "execute_result"
    }
   ],
   "source": [
    "100 * df4.loc[(df4.BPXSY1 > df4.BPXSY2)].shape[0] / df4.shape[0]"
   ]
  },
  {
   "cell_type": "markdown",
   "metadata": {},
   "source": [
    "__Q4b.__ Make side-by-side boxplots of the two systolic blood pressure variables.\n"
   ]
  },
  {
   "cell_type": "code",
   "execution_count": 282,
   "metadata": {},
   "outputs": [],
   "source": [
    "df4b.reset_index(inplace= True)\n",
    "df4b = df4b.drop('id', axis = 1)"
   ]
  },
  {
   "cell_type": "code",
   "execution_count": 286,
   "metadata": {},
   "outputs": [],
   "source": [
    "df4b['SBPMeasure'] = df4b['SBPMeasure'].replace({1 : \"First Measure\", 2 : \"Second Measure\"})"
   ]
  },
  {
   "cell_type": "code",
   "execution_count": 303,
   "metadata": {},
   "outputs": [
    {
     "data": {
      "image/png": "[encoded data removed]",
      "text/plain": [
       "<Figure size 1080x720 with 1 Axes>"
      ]
     },
     "metadata": {},
     "output_type": "display_data"
    }
   ],
   "source": [
    "plt.figure(figsize=(15,10), edgecolor='white')\n",
    "sns.boxplot(y = df4b.BPXSY,\n",
    "           x = df4b.Gender,\n",
    "           hue = df4b.SBPMeasure)\n",
    "plt.legend(loc = 'upper left',\n",
    "          edgecolor = 'black',\n",
    "          facecolor = 'grey',\n",
    "          title = 'Gender')\n",
    "plt.ylabel('Blood pressure', fontweight = 'bold', fontsize = 'x-large',\n",
    "           color= 'grey', fontfamily = \"tahoma\")\n",
    "\n",
    "plt.show()\n"
   ]
  },
  {
   "cell_type": "markdown",
   "metadata": {},
   "source": [
    "__Q4c.__ Comment on the variation within either the first or second systolic blood pressure measurements, and the variation in the within-subject differences between the first and second systolic blood pressure measurements."
   ]
  },
  {
   "cell_type": "markdown",
   "metadata": {},
   "source": [
    "\n",
    "## Question 5\n",
    "\n",
    "Construct a frequency table of household sizes for people within each educational attainment category (the relevant variable is [DMDEDUC2](https://wwwn.cdc.gov/Nchs/Nhanes/2015-2016/DEMO_I.htm#DMDEDUC2)).  Convert the frequencies to proportions.\n"
   ]
  },
  {
   "cell_type": "code",
   "execution_count": 10,
   "metadata": {},
   "outputs": [
    {
     "data": {
      "text/plain": [
       "<matplotlib.axes._subplots.AxesSubplot at 0x15cf9e85670>"
      ]
     },
     "execution_count": 10,
     "metadata": {},
     "output_type": "execute_result"
    },
    {
     "data": {
      "image/png": "[encoded data removed]",
      "text/plain": [
       "<Figure size 432x288 with 1 Axes>"
      ]
     },
     "metadata": {
      "needs_background": "light"
     },
     "output_type": "display_data"
    }
   ],
   "source": [
    "sns.distplot(data.DMDHHSIZ,kde = False, norm_hist= False)"
   ]
  },
  {
   "cell_type": "code",
   "execution_count": 293,
   "metadata": {},
   "outputs": [],
   "source": [
    "df5 = data.rename (columns = {'DMDHHSIZ' : 'Household', 'DMDEDUC2' : 'EducationalAttainment' })\n",
    "df5 = df5.loc[:,['Gender','Agex', 'Household', 'EducationalAttainment']]\n",
    "df5 = df5.dropna()\n",
    "df5.EducationalAttainment = df5.EducationalAttainment.apply(lambda x: int(x))\n",
    "df5['EducationalAttainment'] = df5['EducationalAttainment'].replace({1 : 'Less than 9th grade',\n",
    "                                                                    2 : '9-11th grade',\n",
    "                                                                    3 : 'High school graduate/GED or equivalent',\n",
    "                                                                    4 : 'Some college or AA degree',\n",
    "                                                                    5 : 'College graduate or above',\n",
    "                                                                    7 : 'Refused',\n",
    "                                                                    9 : \"Don't Know\"})"
   ]
  },
  {
   "cell_type": "code",
   "execution_count": 294,
   "metadata": {},
   "outputs": [
    {
     "data": {
      "text/html": [
       "<div>\n",
       "<style scoped>\n",
       "    .dataframe tbody tr th:only-of-type {\n",
       "        vertical-align: middle;\n",
       "    }\n",
       "\n",
       "    .dataframe tbody tr th {\n",
       "        vertical-align: top;\n",
       "    }\n",
       "\n",
       "    .dataframe thead th {\n",
       "        text-align: right;\n",
       "    }\n",
       "</style>\n",
       "<table border=\"1\" class=\"dataframe\">\n",
       "  <thead>\n",
       "    <tr style=\"text-align: right;\">\n",
       "      <th></th>\n",
       "      <th>Gender</th>\n",
       "      <th>Agex</th>\n",
       "      <th>Household</th>\n",
       "      <th>EducationalAttainment</th>\n",
       "    </tr>\n",
       "  </thead>\n",
       "  <tbody>\n",
       "    <tr>\n",
       "      <th>0</th>\n",
       "      <td>1</td>\n",
       "      <td>61 to 70</td>\n",
       "      <td>2</td>\n",
       "      <td>College graduate or above</td>\n",
       "    </tr>\n",
       "    <tr>\n",
       "      <th>1</th>\n",
       "      <td>1</td>\n",
       "      <td>51 to 60</td>\n",
       "      <td>1</td>\n",
       "      <td>High school graduate/GED or equivalent</td>\n",
       "    </tr>\n",
       "    <tr>\n",
       "      <th>2</th>\n",
       "      <td>1</td>\n",
       "      <td>71 to 80</td>\n",
       "      <td>2</td>\n",
       "      <td>High school graduate/GED or equivalent</td>\n",
       "    </tr>\n",
       "    <tr>\n",
       "      <th>3</th>\n",
       "      <td>2</td>\n",
       "      <td>51 to 60</td>\n",
       "      <td>1</td>\n",
       "      <td>College graduate or above</td>\n",
       "    </tr>\n",
       "    <tr>\n",
       "      <th>4</th>\n",
       "      <td>2</td>\n",
       "      <td>41 to 50</td>\n",
       "      <td>5</td>\n",
       "      <td>Some college or AA degree</td>\n",
       "    </tr>\n",
       "  </tbody>\n",
       "</table>\n",
       "</div>"
      ],
      "text/plain": [
       "   Gender      Agex  Household                   EducationalAttainment\n",
       "0       1  61 to 70          2               College graduate or above\n",
       "1       1  51 to 60          1  High school graduate/GED or equivalent\n",
       "2       1  71 to 80          2  High school graduate/GED or equivalent\n",
       "3       2  51 to 60          1               College graduate or above\n",
       "4       2  41 to 50          5               Some college or AA degree"
      ]
     },
     "execution_count": 294,
     "metadata": {},
     "output_type": "execute_result"
    }
   ],
   "source": [
    "df5.head()"
   ]
  },
  {
   "cell_type": "code",
   "execution_count": 309,
   "metadata": {},
   "outputs": [],
   "source": [
    "df5a = pd.DataFrame(df5.groupby('EducationalAttainment')['Household'].value_counts())\n",
    "df5a = df5a.rename(columns = {'Household' : 'Frequency'})"
   ]
  },
  {
   "cell_type": "code",
   "execution_count": 310,
   "metadata": {},
   "outputs": [],
   "source": [
    "df5a.reset_index(inplace = True)"
   ]
  },
  {
   "cell_type": "markdown",
   "metadata": {},
   "source": [
    "Best form to use lambda is to group first. This way the program reconizes the extension of the sum and I don't need to pass in any argument"
   ]
  },
  {
   "cell_type": "code",
   "execution_count": 312,
   "metadata": {},
   "outputs": [],
   "source": [
    "df5a['Proportion'] = df5a.groupby('EducationalAttainment').Frequency.apply( lambda x : 100* x / x.sum())"
   ]
  },
  {
   "cell_type": "code",
   "execution_count": 313,
   "metadata": {},
   "outputs": [
    {
     "data": {
      "text/plain": [
       "EducationalAttainment\n",
       "9-11th grade                              100.0\n",
       "College graduate or above                 100.0\n",
       "Don't Know                                100.0\n",
       "High school graduate/GED or equivalent    100.0\n",
       "Less than 9th grade                       100.0\n",
       "Some college or AA degree                 100.0\n",
       "Name: Proportion, dtype: float64"
      ]
     },
     "execution_count": 313,
     "metadata": {},
     "output_type": "execute_result"
    }
   ],
   "source": [
    "df5a.groupby('EducationalAttainment').Proportion.sum()"
   ]
  },
  {
   "cell_type": "code",
   "execution_count": 314,
   "metadata": {},
   "outputs": [],
   "source": [
    "df5a = df5a.loc[~(df5a.EducationalAttainment == \"Don't Know\")]"
   ]
  },
  {
   "cell_type": "code",
   "execution_count": 316,
   "metadata": {},
   "outputs": [
    {
     "data": {
      "text/plain": [
       "<matplotlib.legend.Legend at 0x15cffd771f0>"
      ]
     },
     "execution_count": 316,
     "metadata": {},
     "output_type": "execute_result"
    },
    {
     "data": {
      "image/png": "[encoded data removed]",
      "text/plain": [
       "<Figure size 1080x720 with 1 Axes>"
      ]
     },
     "metadata": {
      "needs_background": "light"
     },
     "output_type": "display_data"
    }
   ],
   "source": [
    "plt.figure (figsize = (15,10))\n",
    "sns.barplot(x = 'Household', y = 'Proportion', hue = 'EducationalAttainment', data = df5a)\n",
    "plt.xticks(horizontalalignment='right', fontweight='bold', fontsize='medium', color= 'black')\n",
    "plt.legend( title = 'Household - Family members', edgecolor = 'black')\n",
    "#plt.ylabel('Proportion', fontweight = 'bold', fontsize = 'large', color= 'grey')\n",
    "#plt.xlabel = ('Educational Attainment', fontsize='Large', color= 'grey')"
   ]
  },
  {
   "cell_type": "code",
   "execution_count": 325,
   "metadata": {},
   "outputs": [
    {
     "data": {
      "text/html": [
       "<div>\n",
       "<style scoped>\n",
       "    .dataframe tbody tr th:only-of-type {\n",
       "        vertical-align: middle;\n",
       "    }\n",
       "\n",
       "    .dataframe tbody tr th {\n",
       "        vertical-align: top;\n",
       "    }\n",
       "\n",
       "    .dataframe thead th {\n",
       "        text-align: right;\n",
       "    }\n",
       "</style>\n",
       "<table border=\"1\" class=\"dataframe\">\n",
       "  <thead>\n",
       "    <tr style=\"text-align: right;\">\n",
       "      <th></th>\n",
       "      <th>EducationalAttainment</th>\n",
       "      <th>Gender</th>\n",
       "      <th>Household</th>\n",
       "    </tr>\n",
       "  </thead>\n",
       "  <tbody>\n",
       "    <tr>\n",
       "      <th>0</th>\n",
       "      <td>9-11th grade</td>\n",
       "      <td>Female</td>\n",
       "      <td>5</td>\n",
       "    </tr>\n",
       "    <tr>\n",
       "      <th>1</th>\n",
       "      <td>9-11th grade</td>\n",
       "      <td>Male</td>\n",
       "      <td>5</td>\n",
       "    </tr>\n",
       "    <tr>\n",
       "      <th>2</th>\n",
       "      <td>College graduate or above</td>\n",
       "      <td>Female</td>\n",
       "      <td>4</td>\n",
       "    </tr>\n",
       "    <tr>\n",
       "      <th>3</th>\n",
       "      <td>College graduate or above</td>\n",
       "      <td>Male</td>\n",
       "      <td>3</td>\n",
       "    </tr>\n",
       "    <tr>\n",
       "      <th>4</th>\n",
       "      <td>High school graduate/GED or equivalent</td>\n",
       "      <td>Female</td>\n",
       "      <td>5</td>\n",
       "    </tr>\n",
       "    <tr>\n",
       "      <th>5</th>\n",
       "      <td>High school graduate/GED or equivalent</td>\n",
       "      <td>Male</td>\n",
       "      <td>4</td>\n",
       "    </tr>\n",
       "    <tr>\n",
       "      <th>6</th>\n",
       "      <td>Less than 9th grade</td>\n",
       "      <td>Female</td>\n",
       "      <td>5</td>\n",
       "    </tr>\n",
       "    <tr>\n",
       "      <th>7</th>\n",
       "      <td>Less than 9th grade</td>\n",
       "      <td>Male</td>\n",
       "      <td>5</td>\n",
       "    </tr>\n",
       "    <tr>\n",
       "      <th>8</th>\n",
       "      <td>Some college or AA degree</td>\n",
       "      <td>Female</td>\n",
       "      <td>4</td>\n",
       "    </tr>\n",
       "    <tr>\n",
       "      <th>9</th>\n",
       "      <td>Some college or AA degree</td>\n",
       "      <td>Male</td>\n",
       "      <td>4</td>\n",
       "    </tr>\n",
       "  </tbody>\n",
       "</table>\n",
       "</div>"
      ],
      "text/plain": [
       "                    EducationalAttainment  Gender  Household\n",
       "0                            9-11th grade  Female          5\n",
       "1                            9-11th grade    Male          5\n",
       "2               College graduate or above  Female          4\n",
       "3               College graduate or above    Male          3\n",
       "4  High school graduate/GED or equivalent  Female          5\n",
       "5  High school graduate/GED or equivalent    Male          4\n",
       "6                     Less than 9th grade  Female          5\n",
       "7                     Less than 9th grade    Male          5\n",
       "8               Some college or AA degree  Female          4\n",
       "9               Some college or AA degree    Male          4"
      ]
     },
     "execution_count": 325,
     "metadata": {},
     "output_type": "execute_result"
    }
   ],
   "source": [
    "df5.Gender = df5.replace({1 : 'Male' , 2 : 'Female'})\n",
    "df5c = df5.loc[df5.Agex == '31 to 40']\n",
    "df5cA = pd.DataFrame(df5c.groupby(['EducationalAttainment','Gender']).Household.agg('median'))\n",
    "df5cA.reset_index()\n"
   ]
  },
  {
   "cell_type": "markdown",
   "metadata": {},
   "source": [
    "\n",
    "__Q5a.__ Comment on any major differences among the distributions.\n",
    "\n",
    "\n",
    "__Q5b.__ Restrict the sample to people between 30 and 40 years of age.  Then calculate the median household size for women and men within each level of educational attainment.\n"
   ]
  },
  {
   "cell_type": "markdown",
   "metadata": {},
   "source": [
    "## Question 6\n",
    "\n",
    "The participants can be clustered into \"maked variance units\" (MVU) based on every combination of the variables [SDMVSTRA](https://wwwn.cdc.gov/Nchs/Nhanes/2015-2016/DEMO_I.htm#SDMVSTRA) and [SDMVPSU](https://wwwn.cdc.gov/Nchs/Nhanes/2015-2016/DEMO_I.htm#SDMVPSU).  Calculate the mean age ([RIDAGEYR](https://wwwn.cdc.gov/Nchs/Nhanes/2015-2016/DEMO_I.htm#RIDAGEYR)), height ([BMXHT](https://wwwn.cdc.gov/Nchs/Nhanes/2015-2016/BMX_I.htm#BMXHT)), and BMI ([BMXBMI](https://wwwn.cdc.gov/Nchs/Nhanes/2015-2016/BMX_I.htm#BMXBMI)) for each gender ([RIAGENDR](https://wwwn.cdc.gov/Nchs/Nhanes/2015-2016/DEMO_I.htm#RIAGENDR)), within each MVU, and report the ratio between the largest and smallest mean (e.g. for height) across the MVUs.\n",
    "\n",
    "__Q6a.__ Comment on the extent to which mean age, height, and BMI vary among the MVUs."
   ]
  },
  {
   "cell_type": "code",
   "execution_count": 8,
   "metadata": {},
   "outputs": [
    {
     "data": {
      "text/plain": [
       "Index(['SEQN', 'ALQ101', 'ALQ110', 'ALQ130', 'SMQ020', 'Gender', 'Age',\n",
       "       'RIDRETH1', 'DMDCITZN', 'DMDEDUC2', 'MaritalStatus', 'DMDHHSIZ',\n",
       "       'WTINT2YR', 'SDMVPSU', 'SDMVSTRA', 'INDFMPIR', 'BPXSY1', 'BPXDI1',\n",
       "       'BPXSY2', 'BPXDI2', 'BMXWT', 'BMXHT', 'BMXBMI', 'BMXLEG', 'BMXARML',\n",
       "       'BMXARMC', 'BMXWAIST', 'HIQ210'],\n",
       "      dtype='object')"
      ]
     },
     "execution_count": 8,
     "metadata": {},
     "output_type": "execute_result"
    }
   ],
   "source": [
    "data.columns"
   ]
  },
  {
   "cell_type": "code",
   "execution_count": 9,
   "metadata": {},
   "outputs": [],
   "source": [
    "df6 = data[['SDMVPSU', 'SDMVSTRA', 'Gender', 'Age', 'BMXHT', 'BMXBMI']].dropna()"
   ]
  },
  {
   "cell_type": "code",
   "execution_count": 10,
   "metadata": {},
   "outputs": [
    {
     "name": "stderr",
     "output_type": "stream",
     "text": [
      "<ipython-input-10-01820d6acab3>:2: FutureWarning: Indexing with multiple keys (implicitly converted to a tuple of keys) will be deprecated, use a list instead.\n",
      "  xmean = df6.groupby(['SDMVPSU', 'SDMVSTRA','Gender'])['Age', 'BMXHT', 'BMXBMI'].agg('mean')\n"
     ]
    },
    {
     "data": {
      "text/html": [
       "<div>\n",
       "<style scoped>\n",
       "    .dataframe tbody tr th:only-of-type {\n",
       "        vertical-align: middle;\n",
       "    }\n",
       "\n",
       "    .dataframe tbody tr th {\n",
       "        vertical-align: top;\n",
       "    }\n",
       "\n",
       "    .dataframe thead th {\n",
       "        text-align: right;\n",
       "    }\n",
       "</style>\n",
       "<table border=\"1\" class=\"dataframe\">\n",
       "  <thead>\n",
       "    <tr style=\"text-align: right;\">\n",
       "      <th></th>\n",
       "      <th></th>\n",
       "      <th></th>\n",
       "      <th>Age</th>\n",
       "      <th>BMXHT</th>\n",
       "      <th>BMXBMI</th>\n",
       "    </tr>\n",
       "    <tr>\n",
       "      <th>SDMVPSU</th>\n",
       "      <th>SDMVSTRA</th>\n",
       "      <th>Gender</th>\n",
       "      <th></th>\n",
       "      <th></th>\n",
       "      <th></th>\n",
       "    </tr>\n",
       "  </thead>\n",
       "  <tbody>\n",
       "    <tr>\n",
       "      <th rowspan=\"5\" valign=\"top\">1</th>\n",
       "      <th rowspan=\"2\" valign=\"top\">119</th>\n",
       "      <th>Female</th>\n",
       "      <td>47.663265</td>\n",
       "      <td>159.570408</td>\n",
       "      <td>30.052041</td>\n",
       "    </tr>\n",
       "    <tr>\n",
       "      <th>Male</th>\n",
       "      <td>47.861111</td>\n",
       "      <td>172.741667</td>\n",
       "      <td>26.958333</td>\n",
       "    </tr>\n",
       "    <tr>\n",
       "      <th rowspan=\"2\" valign=\"top\">120</th>\n",
       "      <th>Female</th>\n",
       "      <td>43.887755</td>\n",
       "      <td>155.402041</td>\n",
       "      <td>32.419388</td>\n",
       "    </tr>\n",
       "    <tr>\n",
       "      <th>Male</th>\n",
       "      <td>43.030928</td>\n",
       "      <td>169.508247</td>\n",
       "      <td>30.939175</td>\n",
       "    </tr>\n",
       "    <tr>\n",
       "      <th>121</th>\n",
       "      <th>Female</th>\n",
       "      <td>44.252632</td>\n",
       "      <td>158.871579</td>\n",
       "      <td>30.856842</td>\n",
       "    </tr>\n",
       "  </tbody>\n",
       "</table>\n",
       "</div>"
      ],
      "text/plain": [
       "                               Age       BMXHT     BMXBMI\n",
       "SDMVPSU SDMVSTRA Gender                                  \n",
       "1       119      Female  47.663265  159.570408  30.052041\n",
       "                 Male    47.861111  172.741667  26.958333\n",
       "        120      Female  43.887755  155.402041  32.419388\n",
       "                 Male    43.030928  169.508247  30.939175\n",
       "        121      Female  44.252632  158.871579  30.856842"
      ]
     },
     "execution_count": 10,
     "metadata": {},
     "output_type": "execute_result"
    }
   ],
   "source": [
    "#clustering by groupby:\n",
    "xmean = df6.groupby(['SDMVPSU', 'SDMVSTRA','Gender'])['Age', 'BMXHT', 'BMXBMI'].agg('mean')\n",
    "xmean.head()"
   ]
  },
  {
   "cell_type": "markdown",
   "metadata": {},
   "source": [
    "#### Answer"
   ]
  },
  {
   "cell_type": "code",
   "execution_count": 11,
   "metadata": {},
   "outputs": [
    {
     "data": {
      "text/plain": [
       "Age       0.759525\n",
       "BMXHT     0.878106\n",
       "BMXBMI    0.780510\n",
       "dtype: float64"
      ]
     },
     "execution_count": 11,
     "metadata": {},
     "output_type": "execute_result"
    }
   ],
   "source": [
    "xmean.describe().loc['min',:] / xmean.describe().loc['max',:]"
   ]
  },
  {
   "cell_type": "markdown",
   "metadata": {},
   "source": [
    "__Q6b.__ Calculate the inter-quartile range (IQR) for age, height, and BMI for each gender and each MVU.  Report the ratio between the largest and smalles IQR across the MVUs."
   ]
  },
  {
   "cell_type": "code",
   "execution_count": 13,
   "metadata": {},
   "outputs": [
    {
     "name": "stderr",
     "output_type": "stream",
     "text": [
      "<ipython-input-13-4d6c796e49c3>:1: FutureWarning: Indexing with multiple keys (implicitly converted to a tuple of keys) will be deprecated, use a list instead.\n",
      "  df6grouped = df6.groupby(['SDMVPSU', 'SDMVSTRA', 'Gender'])['Age', 'BMXHT', 'BMXBMI']\n"
     ]
    }
   ],
   "source": [
    "df6grouped = df6.groupby(['SDMVPSU', 'SDMVSTRA', 'Gender'])['Age', 'BMXHT', 'BMXBMI']"
   ]
  },
  {
   "cell_type": "markdown",
   "metadata": {},
   "source": [
    "### IQR per gender"
   ]
  },
  {
   "cell_type": "code",
   "execution_count": 18,
   "metadata": {},
   "outputs": [],
   "source": [
    "df6iqr = df6grouped.apply(lambda x : x.quantile(0.75) - x.quantile(0.25))\n",
    "df6iqr = df6iqr.reset_index()"
   ]
  },
  {
   "cell_type": "markdown",
   "metadata": {},
   "source": [
    "### Describe and loc :)"
   ]
  },
  {
   "cell_type": "code",
   "execution_count": 454,
   "metadata": {},
   "outputs": [
    {
     "data": {
      "text/plain": [
       "Age       16.500\n",
       "BMXHT      4.725\n",
       "BMXBMI     7.650\n",
       "dtype: float64"
      ]
     },
     "execution_count": 454,
     "metadata": {},
     "output_type": "execute_result"
    }
   ],
   "source": [
    "df6iqr.describe().loc['max'] - df6iqr.describe().loc['min']"
   ]
  },
  {
   "cell_type": "markdown",
   "metadata": {},
   "source": [
    "__Q6c.__ Comment on the extent to which the IQR for age, height, and BMI vary among the MVUs."
   ]
  },
  {
   "cell_type": "code",
   "execution_count": 23,
   "metadata": {},
   "outputs": [
    {
     "data": {
      "text/html": [
       "<div>\n",
       "<style scoped>\n",
       "    .dataframe tbody tr th:only-of-type {\n",
       "        vertical-align: middle;\n",
       "    }\n",
       "\n",
       "    .dataframe tbody tr th {\n",
       "        vertical-align: top;\n",
       "    }\n",
       "\n",
       "    .dataframe thead th {\n",
       "        text-align: right;\n",
       "    }\n",
       "</style>\n",
       "<table border=\"1\" class=\"dataframe\">\n",
       "  <thead>\n",
       "    <tr style=\"text-align: right;\">\n",
       "      <th></th>\n",
       "      <th>SDMVPSU</th>\n",
       "      <th>SDMVSTRA</th>\n",
       "      <th>Gender</th>\n",
       "      <th>Age</th>\n",
       "      <th>BMXHT</th>\n",
       "      <th>BMXBMI</th>\n",
       "    </tr>\n",
       "  </thead>\n",
       "  <tbody>\n",
       "    <tr>\n",
       "      <th>0</th>\n",
       "      <td>1</td>\n",
       "      <td>119</td>\n",
       "      <td>Female</td>\n",
       "      <td>31.25</td>\n",
       "      <td>9.325</td>\n",
       "      <td>9.75</td>\n",
       "    </tr>\n",
       "    <tr>\n",
       "      <th>1</th>\n",
       "      <td>1</td>\n",
       "      <td>119</td>\n",
       "      <td>Male</td>\n",
       "      <td>29.75</td>\n",
       "      <td>9.000</td>\n",
       "      <td>5.35</td>\n",
       "    </tr>\n",
       "    <tr>\n",
       "      <th>30</th>\n",
       "      <td>2</td>\n",
       "      <td>119</td>\n",
       "      <td>Female</td>\n",
       "      <td>33.50</td>\n",
       "      <td>9.950</td>\n",
       "      <td>9.35</td>\n",
       "    </tr>\n",
       "    <tr>\n",
       "      <th>31</th>\n",
       "      <td>2</td>\n",
       "      <td>119</td>\n",
       "      <td>Male</td>\n",
       "      <td>30.00</td>\n",
       "      <td>11.150</td>\n",
       "      <td>5.30</td>\n",
       "    </tr>\n",
       "  </tbody>\n",
       "</table>\n",
       "</div>"
      ],
      "text/plain": [
       "    SDMVPSU  SDMVSTRA  Gender    Age   BMXHT  BMXBMI\n",
       "0         1       119  Female  31.25   9.325    9.75\n",
       "1         1       119    Male  29.75   9.000    5.35\n",
       "30        2       119  Female  33.50   9.950    9.35\n",
       "31        2       119    Male  30.00  11.150    5.30"
      ]
     },
     "execution_count": 23,
     "metadata": {},
     "output_type": "execute_result"
    }
   ],
   "source": [
    "df6iqr.loc[(df6iqr.SDMVSTRA == 119)]"
   ]
  },
  {
   "cell_type": "code",
   "execution_count": 83,
   "metadata": {},
   "outputs": [
    {
     "data": {
      "image/png": "[encoded data removed]",
      "text/plain": [
       "<Figure size 1080x1080 with 6 Axes>"
      ]
     },
     "metadata": {
      "needs_background": "light"
     },
     "output_type": "display_data"
    }
   ],
   "source": [
    "fig, ((ax1,ax2), (ax3,ax4), (ax5,ax6)) = plt.subplots(3,2, figsize = (15,15), sharey = True, squeeze= False)\n",
    "df6iqrplot1 = df6iqr.loc[(df6iqr.SDMVPSU == 1)]\n",
    "df6iqrplot2 = df6iqr.loc[(df6iqr.SDMVPSU == 2)]\n",
    "\n",
    "bage1 = sns.barplot(x = 'SDMVSTRA', y = 'Age', hue = 'Gender', ax = ax1, data = df6iqrplot1)\n",
    "bage2 = sns.barplot(x = 'SDMVSTRA', y = 'Age', hue = 'Gender', ax = ax2, data = df6iqrplot2)\n",
    "bheight1 = sns.barplot(x = 'SDMVSTRA', y = 'BMXHT', hue = 'Gender', ax = ax3, data = df6iqrplot1)\n",
    "bheight2 = sns.barplot(x = 'SDMVSTRA', y = 'BMXHT', hue = 'Gender', ax = ax4, data = df6iqrplot2)\n",
    "bBMI1 = sns.barplot(x = 'SDMVSTRA', y = 'BMXBMI', hue = 'Gender', ax = ax5, data = df6iqrplot1)\n",
    "bBMI2 = sns.barplot(x = 'SDMVSTRA', y = 'BMXBMI', hue = 'Gender', ax = ax6, data = df6iqrplot2)\n",
    "\n",
    "plt.subplots_adjust(hspace = 0.4, wspace = 0.2)\n",
    "\n",
    "fig.suptitle('''Bar plots of different variables showing the distribution of Masked variance pseudo-stratum (SDMVSTRA)\n",
    "             Faceted by Masked variance pseudo (SDMVPSU)''', y = 0.94, fontsize = 14, fontfamily = 'tahoma')\n",
    "\n",
    "#plt.text(7, 15, s = \"Teste\")\n",
    "#plt.tight_layout(pad = 5.0)\n",
    "plt.show()"
   ]
  },
  {
   "cell_type": "code",
   "execution_count": 14,
   "metadata": {},
   "outputs": [
    {
     "data": {
      "text/plain": [
       "Index(['SEQN', 'ALQ101', 'ALQ110', 'ALQ130', 'SMQ020', 'Gender', 'Age',\n",
       "       'RIDRETH1', 'DMDCITZN', 'DMDEDUC2', 'MaritalStatus', 'DMDHHSIZ',\n",
       "       'WTINT2YR', 'SDMVPSU', 'SDMVSTRA', 'INDFMPIR', 'BPXSY1', 'BPXDI1',\n",
       "       'BPXSY2', 'BPXDI2', 'BMXWT', 'BMXHT', 'BMXBMI', 'BMXLEG', 'BMXARML',\n",
       "       'BMXARMC', 'BMXWAIST', 'HIQ210'],\n",
       "      dtype='object')"
      ]
     },
     "execution_count": 14,
     "metadata": {},
     "output_type": "execute_result"
    }
   ],
   "source": [
    "data.columns"
   ]
  },
  {
   "cell_type": "code",
   "execution_count": 24,
   "metadata": {},
   "outputs": [
    {
     "data": {
      "text/plain": [
       "122.0"
      ]
     },
     "execution_count": 24,
     "metadata": {},
     "output_type": "execute_result"
    }
   ],
   "source": [
    "q1 = data.BPXSY2.dropna().agg('median')\n",
    "q1"
   ]
  },
  {
   "cell_type": "code",
   "execution_count": 29,
   "metadata": {},
   "outputs": [
    {
     "data": {
      "text/plain": [
       "124.8"
      ]
     },
     "execution_count": 29,
     "metadata": {},
     "output_type": "execute_result"
    }
   ],
   "source": [
    "q2 = data.BPXSY2.dropna().agg('mean')\n",
    "round(q2, 1)"
   ]
  },
  {
   "cell_type": "code",
   "execution_count": 30,
   "metadata": {},
   "outputs": [
    {
     "data": {
      "text/plain": [
       "18.5"
      ]
     },
     "execution_count": 30,
     "metadata": {},
     "output_type": "execute_result"
    }
   ],
   "source": [
    "q3 = data.BPXSY2.dropna().agg('std')\n",
    "round(q3, 1)"
   ]
  },
  {
   "cell_type": "code",
   "execution_count": 31,
   "metadata": {},
   "outputs": [
    {
     "data": {
      "text/plain": [
       "238.0"
      ]
     },
     "execution_count": 31,
     "metadata": {},
     "output_type": "execute_result"
    }
   ],
   "source": [
    "q4 = data.BPXSY2.dropna().agg('max')\n",
    "round(q4, 1)"
   ]
  },
  {
   "cell_type": "code",
   "execution_count": 33,
   "metadata": {},
   "outputs": [
    {
     "data": {
      "text/plain": [
       "22.0"
      ]
     },
     "execution_count": 33,
     "metadata": {},
     "output_type": "execute_result"
    }
   ],
   "source": [
    "q5 = data.BPXSY2.dropna()\n",
    "q5 = np.percentile(q5, 75) - np.percentile(q5, 25)\n",
    "round(q5, 1)"
   ]
  },
  {
   "cell_type": "code",
   "execution_count": 50,
   "metadata": {},
   "outputs": [
    {
     "data": {
      "text/html": [
       "<div>\n",
       "<style scoped>\n",
       "    .dataframe tbody tr th:only-of-type {\n",
       "        vertical-align: middle;\n",
       "    }\n",
       "\n",
       "    .dataframe tbody tr th {\n",
       "        vertical-align: top;\n",
       "    }\n",
       "\n",
       "    .dataframe thead th {\n",
       "        text-align: right;\n",
       "    }\n",
       "</style>\n",
       "<table border=\"1\" class=\"dataframe\">\n",
       "  <thead>\n",
       "    <tr style=\"text-align: right;\">\n",
       "      <th>Gender</th>\n",
       "      <th>Female</th>\n",
       "      <th>Male</th>\n",
       "    </tr>\n",
       "    <tr>\n",
       "      <th>DMDEDUC2</th>\n",
       "      <th></th>\n",
       "      <th></th>\n",
       "    </tr>\n",
       "  </thead>\n",
       "  <tbody>\n",
       "    <tr>\n",
       "      <th>1.0</th>\n",
       "      <td>349</td>\n",
       "      <td>306</td>\n",
       "    </tr>\n",
       "    <tr>\n",
       "      <th>2.0</th>\n",
       "      <td>291</td>\n",
       "      <td>352</td>\n",
       "    </tr>\n",
       "    <tr>\n",
       "      <th>3.0</th>\n",
       "      <td>583</td>\n",
       "      <td>603</td>\n",
       "    </tr>\n",
       "    <tr>\n",
       "      <th>4.0</th>\n",
       "      <td>909</td>\n",
       "      <td>712</td>\n",
       "    </tr>\n",
       "    <tr>\n",
       "      <th>5.0</th>\n",
       "      <td>717</td>\n",
       "      <td>649</td>\n",
       "    </tr>\n",
       "    <tr>\n",
       "      <th>9.0</th>\n",
       "      <td>1</td>\n",
       "      <td>2</td>\n",
       "    </tr>\n",
       "  </tbody>\n",
       "</table>\n",
       "</div>"
      ],
      "text/plain": [
       "Gender    Female  Male\n",
       "DMDEDUC2              \n",
       "1.0          349   306\n",
       "2.0          291   352\n",
       "3.0          583   603\n",
       "4.0          909   712\n",
       "5.0          717   649\n",
       "9.0            1     2"
      ]
     },
     "execution_count": 50,
     "metadata": {},
     "output_type": "execute_result"
    }
   ],
   "source": [
    "data.groupby('DMDEDUC2').Gender.value_counts().unstack()"
   ]
  }
 ],
 "metadata": {
  "kernelspec": {
   "display_name": "Python 3",
   "language": "python",
   "name": "python3"
  },
  "language_info": {
   "codemirror_mode": {
    "name": "ipython",
    "version": 3
   },
   "file_extension": ".py",
   "mimetype": "text/x-python",
   "name": "python",
   "nbconvert_exporter": "python",
   "pygments_lexer": "ipython3",
   "version": "3.8.3"
  }
 },
 "nbformat": 4,
 "nbformat_minor": 4
}

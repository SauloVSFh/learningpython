{
 "cells": [
  {
   "cell_type": "code",
   "execution_count": 3,
   "metadata": {},
   "outputs": [],
   "source": [
    "%matplotlib inline\n",
    "import matplotlib.pyplot as plt\n",
    "import seaborn as sns\n",
    "import pandas as pd\n",
    "import scipy.stats as st\n",
    "import numpy as np"
   ]
  },
  {
   "cell_type": "code",
   "execution_count": 4,
   "metadata": {},
   "outputs": [
    {
     "name": "stdout",
     "output_type": "stream",
     "text": [
      "(5735, 28)\n"
     ]
    },
    {
     "data": {
      "text/html": [
       "<div>\n",
       "<style scoped>\n",
       "    .dataframe tbody tr th:only-of-type {\n",
       "        vertical-align: middle;\n",
       "    }\n",
       "\n",
       "    .dataframe tbody tr th {\n",
       "        vertical-align: top;\n",
       "    }\n",
       "\n",
       "    .dataframe thead th {\n",
       "        text-align: right;\n",
       "    }\n",
       "</style>\n",
       "<table border=\"1\" class=\"dataframe\">\n",
       "  <thead>\n",
       "    <tr style=\"text-align: right;\">\n",
       "      <th></th>\n",
       "      <th>SEQN</th>\n",
       "      <th>ALQ101</th>\n",
       "      <th>ALQ110</th>\n",
       "      <th>ALQ130</th>\n",
       "      <th>SMQ020</th>\n",
       "      <th>RIAGENDR</th>\n",
       "      <th>RIDAGEYR</th>\n",
       "      <th>RIDRETH1</th>\n",
       "      <th>DMDCITZN</th>\n",
       "      <th>DMDEDUC2</th>\n",
       "      <th>...</th>\n",
       "      <th>BPXSY2</th>\n",
       "      <th>BPXDI2</th>\n",
       "      <th>BMXWT</th>\n",
       "      <th>BMXHT</th>\n",
       "      <th>BMXBMI</th>\n",
       "      <th>BMXLEG</th>\n",
       "      <th>BMXARML</th>\n",
       "      <th>BMXARMC</th>\n",
       "      <th>BMXWAIST</th>\n",
       "      <th>HIQ210</th>\n",
       "    </tr>\n",
       "  </thead>\n",
       "  <tbody>\n",
       "    <tr>\n",
       "      <th>0</th>\n",
       "      <td>83732</td>\n",
       "      <td>1.0</td>\n",
       "      <td>NaN</td>\n",
       "      <td>1.0</td>\n",
       "      <td>1</td>\n",
       "      <td>1</td>\n",
       "      <td>62</td>\n",
       "      <td>3</td>\n",
       "      <td>1.0</td>\n",
       "      <td>5.0</td>\n",
       "      <td>...</td>\n",
       "      <td>124.0</td>\n",
       "      <td>64.0</td>\n",
       "      <td>94.8</td>\n",
       "      <td>184.5</td>\n",
       "      <td>27.8</td>\n",
       "      <td>43.3</td>\n",
       "      <td>43.6</td>\n",
       "      <td>35.9</td>\n",
       "      <td>101.1</td>\n",
       "      <td>2.0</td>\n",
       "    </tr>\n",
       "    <tr>\n",
       "      <th>1</th>\n",
       "      <td>83733</td>\n",
       "      <td>1.0</td>\n",
       "      <td>NaN</td>\n",
       "      <td>6.0</td>\n",
       "      <td>1</td>\n",
       "      <td>1</td>\n",
       "      <td>53</td>\n",
       "      <td>3</td>\n",
       "      <td>2.0</td>\n",
       "      <td>3.0</td>\n",
       "      <td>...</td>\n",
       "      <td>140.0</td>\n",
       "      <td>88.0</td>\n",
       "      <td>90.4</td>\n",
       "      <td>171.4</td>\n",
       "      <td>30.8</td>\n",
       "      <td>38.0</td>\n",
       "      <td>40.0</td>\n",
       "      <td>33.2</td>\n",
       "      <td>107.9</td>\n",
       "      <td>NaN</td>\n",
       "    </tr>\n",
       "    <tr>\n",
       "      <th>2</th>\n",
       "      <td>83734</td>\n",
       "      <td>1.0</td>\n",
       "      <td>NaN</td>\n",
       "      <td>NaN</td>\n",
       "      <td>1</td>\n",
       "      <td>1</td>\n",
       "      <td>78</td>\n",
       "      <td>3</td>\n",
       "      <td>1.0</td>\n",
       "      <td>3.0</td>\n",
       "      <td>...</td>\n",
       "      <td>132.0</td>\n",
       "      <td>44.0</td>\n",
       "      <td>83.4</td>\n",
       "      <td>170.1</td>\n",
       "      <td>28.8</td>\n",
       "      <td>35.6</td>\n",
       "      <td>37.0</td>\n",
       "      <td>31.0</td>\n",
       "      <td>116.5</td>\n",
       "      <td>2.0</td>\n",
       "    </tr>\n",
       "    <tr>\n",
       "      <th>3</th>\n",
       "      <td>83735</td>\n",
       "      <td>2.0</td>\n",
       "      <td>1.0</td>\n",
       "      <td>1.0</td>\n",
       "      <td>2</td>\n",
       "      <td>2</td>\n",
       "      <td>56</td>\n",
       "      <td>3</td>\n",
       "      <td>1.0</td>\n",
       "      <td>5.0</td>\n",
       "      <td>...</td>\n",
       "      <td>134.0</td>\n",
       "      <td>68.0</td>\n",
       "      <td>109.8</td>\n",
       "      <td>160.9</td>\n",
       "      <td>42.4</td>\n",
       "      <td>38.5</td>\n",
       "      <td>37.7</td>\n",
       "      <td>38.3</td>\n",
       "      <td>110.1</td>\n",
       "      <td>2.0</td>\n",
       "    </tr>\n",
       "    <tr>\n",
       "      <th>4</th>\n",
       "      <td>83736</td>\n",
       "      <td>2.0</td>\n",
       "      <td>1.0</td>\n",
       "      <td>1.0</td>\n",
       "      <td>2</td>\n",
       "      <td>2</td>\n",
       "      <td>42</td>\n",
       "      <td>4</td>\n",
       "      <td>1.0</td>\n",
       "      <td>4.0</td>\n",
       "      <td>...</td>\n",
       "      <td>114.0</td>\n",
       "      <td>54.0</td>\n",
       "      <td>55.2</td>\n",
       "      <td>164.9</td>\n",
       "      <td>20.3</td>\n",
       "      <td>37.4</td>\n",
       "      <td>36.0</td>\n",
       "      <td>27.2</td>\n",
       "      <td>80.4</td>\n",
       "      <td>2.0</td>\n",
       "    </tr>\n",
       "  </tbody>\n",
       "</table>\n",
       "<p>5 rows × 28 columns</p>\n",
       "</div>"
      ],
      "text/plain": [
       "    SEQN  ALQ101  ALQ110  ALQ130  SMQ020  RIAGENDR  RIDAGEYR  RIDRETH1  \\\n",
       "0  83732     1.0     NaN     1.0       1         1        62         3   \n",
       "1  83733     1.0     NaN     6.0       1         1        53         3   \n",
       "2  83734     1.0     NaN     NaN       1         1        78         3   \n",
       "3  83735     2.0     1.0     1.0       2         2        56         3   \n",
       "4  83736     2.0     1.0     1.0       2         2        42         4   \n",
       "\n",
       "   DMDCITZN  DMDEDUC2  ...  BPXSY2  BPXDI2  BMXWT  BMXHT  BMXBMI  BMXLEG  \\\n",
       "0       1.0       5.0  ...   124.0    64.0   94.8  184.5    27.8    43.3   \n",
       "1       2.0       3.0  ...   140.0    88.0   90.4  171.4    30.8    38.0   \n",
       "2       1.0       3.0  ...   132.0    44.0   83.4  170.1    28.8    35.6   \n",
       "3       1.0       5.0  ...   134.0    68.0  109.8  160.9    42.4    38.5   \n",
       "4       1.0       4.0  ...   114.0    54.0   55.2  164.9    20.3    37.4   \n",
       "\n",
       "   BMXARML  BMXARMC  BMXWAIST  HIQ210  \n",
       "0     43.6     35.9     101.1     2.0  \n",
       "1     40.0     33.2     107.9     NaN  \n",
       "2     37.0     31.0     116.5     2.0  \n",
       "3     37.7     38.3     110.1     2.0  \n",
       "4     36.0     27.2      80.4     2.0  \n",
       "\n",
       "[5 rows x 28 columns]"
      ]
     },
     "execution_count": 4,
     "metadata": {},
     "output_type": "execute_result"
    }
   ],
   "source": [
    "da = pd.read_csv('nhanes_2015_2016.csv')\n",
    "print(da.shape)\n",
    "da.head()"
   ]
  },
  {
   "cell_type": "markdown",
   "metadata": {},
   "source": [
    "- There are missing values in the database. To check that we can match the counted values and shape function:\n",
    "    - 5474 vs 5735\n",
    "    \n",
    "#### DMDEDUC2 - Education level - Adults 20+"
   ]
  },
  {
   "cell_type": "code",
   "execution_count": 5,
   "metadata": {},
   "outputs": [
    {
     "name": "stdout",
     "output_type": "stream",
     "text": [
      "4.0    1621\n",
      "5.0    1366\n",
      "3.0    1186\n",
      "1.0     655\n",
      "2.0     643\n",
      "9.0       3\n",
      "Name: DMDEDUC2, dtype: int64\n"
     ]
    },
    {
     "data": {
      "text/plain": [
       "5474"
      ]
     },
     "execution_count": 5,
     "metadata": {},
     "output_type": "execute_result"
    }
   ],
   "source": [
    "print(da.DMDEDUC2.value_counts())\n",
    "sum(da.DMDEDUC2.value_counts())"
   ]
  },
  {
   "cell_type": "code",
   "execution_count": 6,
   "metadata": {},
   "outputs": [
    {
     "data": {
      "text/plain": [
       "261"
      ]
     },
     "execution_count": 6,
     "metadata": {},
     "output_type": "execute_result"
    }
   ],
   "source": [
    "pd.isnull(da.DMDEDUC2).sum()"
   ]
  },
  {
   "cell_type": "markdown",
   "metadata": {},
   "source": [
    "Some data bases table use the index value and therefore cannot be read without the support of a codebook! In some cases it is useful to replace integer codes with a text label that reflects the code's meaning. Below, a new variable called 'DMDEDUC2x' that is recoded with text labels, then we generate its frequency distribution."
   ]
  },
  {
   "cell_type": "code",
   "execution_count": 7,
   "metadata": {},
   "outputs": [],
   "source": [
    "da['DMDEDUC2x'] = da.DMDEDUC2.replace({1:'<9', 2: \"9-11\", 3: \"HS/GED\", 4: \"Some college/AA\", 5: \"College\", \n",
    "                                       7: \"Refused\", 9: \"Don't know\"})"
   ]
  },
  {
   "cell_type": "markdown",
   "metadata": {},
   "source": [
    "#### Gender"
   ]
  },
  {
   "cell_type": "code",
   "execution_count": 8,
   "metadata": {},
   "outputs": [],
   "source": [
    "da['RIAGENDR'] = da.RIAGENDR.replace ({1: \"Male\", 2: \"Female\"})"
   ]
  },
  {
   "cell_type": "markdown",
   "metadata": {},
   "source": [
    "- It might be useful to look at the percentage of each category. No need to loop through pandas series or arrays, the operation is executed to each individual element."
   ]
  },
  {
   "cell_type": "code",
   "execution_count": 9,
   "metadata": {},
   "outputs": [
    {
     "data": {
      "text/plain": [
       "Some college/AA    0.296127\n",
       "College            0.249543\n",
       "HS/GED             0.216661\n",
       "<9                 0.119657\n",
       "9-11               0.117464\n",
       "Don't know         0.000548\n",
       "Name: DMDEDUC2x, dtype: float64"
      ]
     },
     "execution_count": 9,
     "metadata": {},
     "output_type": "execute_result"
    }
   ],
   "source": [
    "countDMDE = da.DMDEDUC2x.value_counts()\n",
    "countDMDE / countDMDE.sum()"
   ]
  },
  {
   "cell_type": "code",
   "execution_count": 10,
   "metadata": {},
   "outputs": [
    {
     "data": {
      "text/plain": [
       "Index(['Some college/AA', 'College', 'HS/GED', '<9', '9-11', 'Don't know'], dtype='object')"
      ]
     },
     "execution_count": 10,
     "metadata": {},
     "output_type": "execute_result"
    }
   ],
   "source": [
    "countDMDE.index"
   ]
  },
  {
   "cell_type": "code",
   "execution_count": 11,
   "metadata": {},
   "outputs": [
    {
     "data": {
      "image/png": "[encoded data removed]",
      "text/plain": [
       "<Figure size 432x288 with 1 Axes>"
      ]
     },
     "metadata": {
      "needs_background": "light"
     },
     "output_type": "display_data"
    }
   ],
   "source": [
    "sns.barplot(x = countDMDE/countDMDE.sum(), y = countDMDE.index)\n",
    "plt.show()"
   ]
  },
  {
   "cell_type": "markdown",
   "metadata": {},
   "source": [
    "## Numerical summaries\n",
    "\n",
    "A quick way to get a set of numerical summaries for a quantitative variable is with the describe data frame method. Below we demonstrate how to do this using the body weight variable (BMXWT). \n",
    "\n",
    "*good practice*:\n",
    "\n",
    "As with many surveys, some data values are missing, so we explicitly drop the missing cases using the dropna method before generating the summaries.\n",
    "\n",
    "#### BMXWT - Weight (kg)\n",
    "\n"
   ]
  },
  {
   "cell_type": "code",
   "execution_count": 12,
   "metadata": {},
   "outputs": [
    {
     "data": {
      "text/plain": [
       "count    5666.000000\n",
       "mean       81.342676\n",
       "std        21.764409\n",
       "min        32.400000\n",
       "25%        65.900000\n",
       "50%        78.200000\n",
       "75%        92.700000\n",
       "max       198.900000\n",
       "Name: BMXWT, dtype: float64"
      ]
     },
     "execution_count": 12,
     "metadata": {},
     "output_type": "execute_result"
    }
   ],
   "source": [
    "da.BMXWT.dropna().describe()"
   ]
  },
  {
   "cell_type": "code",
   "execution_count": 13,
   "metadata": {},
   "outputs": [
    {
     "name": "stdout",
     "output_type": "stream",
     "text": [
      "81.34267560889509\n",
      "81.34267560889509\n",
      "78.2\n",
      "78.2\n",
      "92.7\n",
      "92.7\n"
     ]
    }
   ],
   "source": [
    "x = da.BMXWT.dropna()  # Extract all non-missing values of BMXWT into a variable called 'x'\n",
    "print(x.mean()) # Pandas method\n",
    "print(np.mean(x)) # Numpy function\n",
    "\n",
    "print(x.median())\n",
    "print(np.percentile(x, 50))  # 50th percentile, same as the median\n",
    "print(np.percentile(x, 75))  # 75th percentile\n",
    "print(x.quantile(0.75)) # Pandas method for quantiles, equivalent to 75th percentile"
   ]
  },
  {
   "cell_type": "code",
   "execution_count": 14,
   "metadata": {},
   "outputs": [
    {
     "data": {
      "text/plain": [
       "0       35.9\n",
       "1       33.2\n",
       "2       31.0\n",
       "3       38.3\n",
       "4       27.2\n",
       "        ... \n",
       "5730    29.5\n",
       "5731    42.3\n",
       "5732    28.8\n",
       "5733    30.6\n",
       "5734    26.2\n",
       "Name: BMXARMC, Length: 5735, dtype: float64"
      ]
     },
     "execution_count": 14,
     "metadata": {},
     "output_type": "execute_result"
    }
   ],
   "source": [
    "da.BMXARMC"
   ]
  },
  {
   "cell_type": "markdown",
   "metadata": {},
   "source": [
    "#### Good combination"
   ]
  },
  {
   "cell_type": "code",
   "execution_count": 15,
   "metadata": {},
   "outputs": [
    {
     "data": {
      "image/png": "[encoded data removed]",
      "text/plain": [
       "<Figure size 432x288 with 2 Axes>"
      ]
     },
     "metadata": {
      "needs_background": "light"
     },
     "output_type": "display_data"
    }
   ],
   "source": [
    "f, (ax1, ax2) = plt.subplots(2,1, sharex = True)\n",
    "sns.distplot(da.BMXARMC, ax=ax1)\n",
    "sns.boxplot(x = da.BMXARMC, ax=ax2)\n",
    "plt.show()"
   ]
  },
  {
   "cell_type": "markdown",
   "metadata": {},
   "source": [
    "**BPXSY1** Systolic blood pressure\n",
    "\n",
    "Next we look at frequencies for a systolic blood pressure measurement (BPXSY1). \"BPX\" here is the NHANES prefix for blood pressure measurements, \"SY\" stands for \"systolic\" blood pressure (blood pressure at the peak of a heartbeat cycle), and \"1\" indicates that this is the first of three systolic blood presure measurements taken on a subject.\n",
    "\n",
    "A person is generally considered to have pre-hypertension when their systolic blood pressure is between 120 and 139, or their diastolic blood pressure is between 80 and 89. Considering only the systolic condition, we can calculate the proprotion of the NHANES sample who would be considered to have pre-hypertension.\n",
    "\n",
    "**slicing data frame series**\n",
    "\n",
    "Working with booleans is a good way to do descriptive analysis :)\n"
   ]
  },
  {
   "cell_type": "code",
   "execution_count": 16,
   "metadata": {},
   "outputs": [
    {
     "data": {
      "text/plain": [
       "0    128.0\n",
       "1    146.0\n",
       "2    138.0\n",
       "3    132.0\n",
       "4    100.0\n",
       "Name: BPXSY1, dtype: float64"
      ]
     },
     "execution_count": 16,
     "metadata": {},
     "output_type": "execute_result"
    }
   ],
   "source": [
    "da.BPXSY1.head()"
   ]
  },
  {
   "cell_type": "code",
   "execution_count": 17,
   "metadata": {},
   "outputs": [
    {
     "data": {
      "text/plain": [
       "0.3741935483870968"
      ]
     },
     "execution_count": 17,
     "metadata": {},
     "output_type": "execute_result"
    }
   ],
   "source": [
    "da.BPXSY1.loc[(da.BPXSY1 >= 120) & (da.BPXSY2 <= 139)].count() / ((da.BPXSY1 >= 120) & (da.BPXSY2 <= 139)).count() #proportionz of pre hypertense people"
   ]
  },
  {
   "cell_type": "code",
   "execution_count": 18,
   "metadata": {},
   "outputs": [
    {
     "data": {
      "text/plain": [
       "0.3741935483870968"
      ]
     },
     "execution_count": 18,
     "metadata": {},
     "output_type": "execute_result"
    }
   ],
   "source": [
    "np.mean((da.BPXSY1 >= 120) & (da.BPXSY2 <= 139))"
   ]
  },
  {
   "cell_type": "code",
   "execution_count": 19,
   "metadata": {},
   "outputs": [
    {
     "data": {
      "text/plain": [
       "0        True\n",
       "1       False\n",
       "2        True\n",
       "3        True\n",
       "4       False\n",
       "        ...  \n",
       "5730    False\n",
       "5731    False\n",
       "5732    False\n",
       "5733    False\n",
       "5734    False\n",
       "Length: 5735, dtype: bool"
      ]
     },
     "execution_count": 19,
     "metadata": {},
     "output_type": "execute_result"
    }
   ],
   "source": [
    "(da.BPXSY1 >= 120) & (da.BPXSY2 <= 139)"
   ]
  },
  {
   "cell_type": "code",
   "execution_count": 20,
   "metadata": {},
   "outputs": [
    {
     "name": "stdout",
     "output_type": "stream",
     "text": [
      "2146 0.3973338270690613\n"
     ]
    }
   ],
   "source": [
    "count = 0\n",
    "for i in (da.BPXSY1 >= 120) & (da.BPXSY2 <= 139):\n",
    "    if i == True: count += 1\n",
    "print(count, count/da.BPXSY1.count())"
   ]
  },
  {
   "cell_type": "markdown",
   "metadata": {},
   "source": [
    "Next we calculate the propotion of NHANES subjects who are pre-hypertensive based on diastolic blood pressure."
   ]
  },
  {
   "cell_type": "code",
   "execution_count": 21,
   "metadata": {},
   "outputs": [
    {
     "data": {
      "text/plain": [
       "1       88.0\n",
       "14      84.0\n",
       "19      82.0\n",
       "24      86.0\n",
       "28      80.0\n",
       "        ... \n",
       "5707    84.0\n",
       "5708    82.0\n",
       "5711    94.0\n",
       "5713    82.0\n",
       "5729    80.0\n",
       "Name: BPXDI1, Length: 849, dtype: float64"
      ]
     },
     "execution_count": 21,
     "metadata": {},
     "output_type": "execute_result"
    }
   ],
   "source": [
    "da.loc[(da.BPXDI1 >= 80) & (da.BPXDI2 <= 89)].BPXDI1"
   ]
  },
  {
   "cell_type": "code",
   "execution_count": 22,
   "metadata": {},
   "outputs": [
    {
     "data": {
      "text/plain": [
       "0.14803836094158676"
      ]
     },
     "execution_count": 22,
     "metadata": {},
     "output_type": "execute_result"
    }
   ],
   "source": [
    "np.mean((da.BPXDI1 >= 80) & (da.BPXDI2 <= 89)) #it sums every True (1) and splits that the total occurences"
   ]
  },
  {
   "cell_type": "code",
   "execution_count": 23,
   "metadata": {},
   "outputs": [
    {
     "name": "stdout",
     "output_type": "stream",
     "text": [
      "0.14803836094158676\n"
     ]
    }
   ],
   "source": [
    "count = 0\n",
    "for i in (da.BPXDI1 >= 80) & (da.BPXDI2 <= 89):\n",
    "    if i == True: count += 1\n",
    "print(count/((da.BPXDI1 >= 80) & (da.BPXDI2 <= 89)).count())"
   ]
  },
  {
   "cell_type": "markdown",
   "metadata": {},
   "source": [
    "Finally we calculate the proportion of NHANES subjects who are pre-hypertensive based on either systolic or diastolic blood pressure. Since some people are pre-hypertensive under both criteria, the proportion below is less than the sum of the two proportions calculated above.\n",
    "\n",
    "Since the combined systolic and diastolic condition for pre-hypertension is somewhat complex, below we construct temporary variables 'a' and 'b' that hold the systolic and diastolic pre-hypertensive status separately, then combine them with a \"logical or\" to obtain the final status for each subject."
   ]
  },
  {
   "cell_type": "code",
   "execution_count": 24,
   "metadata": {},
   "outputs": [
    {
     "data": {
      "text/plain": [
       "0.43975588491717527"
      ]
     },
     "execution_count": 24,
     "metadata": {},
     "output_type": "execute_result"
    }
   ],
   "source": [
    "a = (da.BPXSY1 >= 120) & (da.BPXSY2 <= 139)\n",
    "b = (da.BPXDI1 >= 80) & (da.BPXDI2 <= 89)\n",
    "np.mean(a | b)"
   ]
  },
  {
   "cell_type": "code",
   "execution_count": 25,
   "metadata": {},
   "outputs": [
    {
     "name": "stdout",
     "output_type": "stream",
     "text": [
      "0.43975588491717527\n"
     ]
    }
   ],
   "source": [
    "count = 0\n",
    "for i in (a | b):\n",
    "    if i == True: count += 1\n",
    "print(count/b.count())"
   ]
  },
  {
   "cell_type": "markdown",
   "metadata": {},
   "source": [
    "The right way to do it (**my opinion**) is look individually to each column. In the above example, there is no upper limit for the column BPXSY1 and no inferior limit to BPXSY2. In this case, the algorythm might have selected pacients with high variation of blood pressure."
   ]
  },
  {
   "cell_type": "code",
   "execution_count": 26,
   "metadata": {},
   "outputs": [
    {
     "name": "stdout",
     "output_type": "stream",
     "text": [
      "1719\n"
     ]
    }
   ],
   "source": [
    "a = (da.BPXSY1 >= 120) & (da.BPXSY1 <= 139)\n",
    "b = (da.BPXSY2 >= 120) & (da.BPXSY2 <= 139)\n",
    "ab = (a & b)\n",
    "count = 0\n",
    "for i in (ab):\n",
    "    if i == True: count+=1\n",
    "print(count)"
   ]
  },
  {
   "cell_type": "code",
   "execution_count": 27,
   "metadata": {},
   "outputs": [
    {
     "name": "stdout",
     "output_type": "stream",
     "text": [
      "516\n"
     ]
    }
   ],
   "source": [
    "c = (da.BPXDI1 >= 80) & (da.BPXDI1 <= 89)\n",
    "d = (da.BPXDI2 >= 80) & (da.BPXDI2 <= 89)\n",
    "cd = (c & d)\n",
    "count = 0\n",
    "for i in (cd):\n",
    "    if i == True: count+=1\n",
    "print(count)"
   ]
  },
  {
   "cell_type": "code",
   "execution_count": 28,
   "metadata": {},
   "outputs": [
    {
     "name": "stdout",
     "output_type": "stream",
     "text": [
      "0.13530950305143855\n"
     ]
    }
   ],
   "source": [
    "for i in (ab & cd):\n",
    "    if i == True: count+=1\n",
    "print(count/(ab & cd).count())"
   ]
  },
  {
   "cell_type": "code",
   "execution_count": 29,
   "metadata": {},
   "outputs": [
    {
     "name": "stdout",
     "output_type": "stream",
     "text": [
      "0.34437663469921537\n",
      "0.045335658238884045\n"
     ]
    }
   ],
   "source": [
    "print((ab | cd).mean()) #if at least in one type of blood pressure the pacient has pre-hypertension\n",
    "print((ab & cd).mean()) #if our criteria is more restrit"
   ]
  },
  {
   "cell_type": "markdown",
   "metadata": {},
   "source": [
    "Blood pressure measurements are affected by a phenomenon called \"white coat anxiety\", in which a subject's bood pressure may be slightly elevated if they are nervous when interacting with health care providers. Typically this effect subsides if the blood pressure is measured several times in sequence. In NHANES, both systolic and diastolic blood pressure are meausred three times for each subject (e.g. BPXSY2 is the second measurement of systolic blood pressure). We can calculate the extent to which white coat anxiety is present in the NHANES data by looking a the mean difference between the first two systolic or diastolic blood pressure measurements."
   ]
  },
  {
   "cell_type": "code",
   "execution_count": 30,
   "metadata": {},
   "outputs": [
    {
     "name": "stdout",
     "output_type": "stream",
     "text": [
      "3.776494691748929\n",
      "3.992922331905383\n"
     ]
    }
   ],
   "source": [
    "df = (da.BPXSY1 - da.BPXSY2)\n",
    "print(df.abs().mean())\n",
    "\n",
    "df2 = (da.BPXDI1 - da.BPXDI2).abs()\n",
    "print(np.mean(df2))"
   ]
  },
  {
   "cell_type": "markdown",
   "metadata": {},
   "source": [
    "### Graphical summaries\n",
    "\n",
    "- Analyzing distribution with graphic summaries"
   ]
  },
  {
   "cell_type": "code",
   "execution_count": 56,
   "metadata": {},
   "outputs": [
    {
     "data": {
      "text/html": [
       "<div>\n",
       "<style scoped>\n",
       "    .dataframe tbody tr th:only-of-type {\n",
       "        vertical-align: middle;\n",
       "    }\n",
       "\n",
       "    .dataframe tbody tr th {\n",
       "        vertical-align: top;\n",
       "    }\n",
       "\n",
       "    .dataframe thead th {\n",
       "        text-align: right;\n",
       "    }\n",
       "</style>\n",
       "<table border=\"1\" class=\"dataframe\">\n",
       "  <thead>\n",
       "    <tr style=\"text-align: right;\">\n",
       "      <th></th>\n",
       "      <th>SEQN</th>\n",
       "      <th>ALQ101</th>\n",
       "      <th>ALQ110</th>\n",
       "      <th>ALQ130</th>\n",
       "      <th>SMQ020</th>\n",
       "      <th>RIAGENDR</th>\n",
       "      <th>RIDAGEYR</th>\n",
       "      <th>RIDRETH1</th>\n",
       "      <th>DMDCITZN</th>\n",
       "      <th>DMDEDUC2</th>\n",
       "      <th>...</th>\n",
       "      <th>BPXDI2</th>\n",
       "      <th>BMXWT</th>\n",
       "      <th>BMXHT</th>\n",
       "      <th>BMXBMI</th>\n",
       "      <th>BMXLEG</th>\n",
       "      <th>BMXARML</th>\n",
       "      <th>BMXARMC</th>\n",
       "      <th>BMXWAIST</th>\n",
       "      <th>HIQ210</th>\n",
       "      <th>DMDEDUC2x</th>\n",
       "    </tr>\n",
       "  </thead>\n",
       "  <tbody>\n",
       "    <tr>\n",
       "      <th>0</th>\n",
       "      <td>83732</td>\n",
       "      <td>1.0</td>\n",
       "      <td>NaN</td>\n",
       "      <td>1.0</td>\n",
       "      <td>1</td>\n",
       "      <td>Male</td>\n",
       "      <td>62</td>\n",
       "      <td>3</td>\n",
       "      <td>1.0</td>\n",
       "      <td>5.0</td>\n",
       "      <td>...</td>\n",
       "      <td>64.0</td>\n",
       "      <td>94.8</td>\n",
       "      <td>184.5</td>\n",
       "      <td>27.8</td>\n",
       "      <td>43.3</td>\n",
       "      <td>43.6</td>\n",
       "      <td>35.9</td>\n",
       "      <td>101.1</td>\n",
       "      <td>2.0</td>\n",
       "      <td>College</td>\n",
       "    </tr>\n",
       "    <tr>\n",
       "      <th>1</th>\n",
       "      <td>83733</td>\n",
       "      <td>1.0</td>\n",
       "      <td>NaN</td>\n",
       "      <td>6.0</td>\n",
       "      <td>1</td>\n",
       "      <td>Male</td>\n",
       "      <td>53</td>\n",
       "      <td>3</td>\n",
       "      <td>2.0</td>\n",
       "      <td>3.0</td>\n",
       "      <td>...</td>\n",
       "      <td>88.0</td>\n",
       "      <td>90.4</td>\n",
       "      <td>171.4</td>\n",
       "      <td>30.8</td>\n",
       "      <td>38.0</td>\n",
       "      <td>40.0</td>\n",
       "      <td>33.2</td>\n",
       "      <td>107.9</td>\n",
       "      <td>NaN</td>\n",
       "      <td>HS/GED</td>\n",
       "    </tr>\n",
       "    <tr>\n",
       "      <th>2</th>\n",
       "      <td>83734</td>\n",
       "      <td>1.0</td>\n",
       "      <td>NaN</td>\n",
       "      <td>NaN</td>\n",
       "      <td>1</td>\n",
       "      <td>Male</td>\n",
       "      <td>78</td>\n",
       "      <td>3</td>\n",
       "      <td>1.0</td>\n",
       "      <td>3.0</td>\n",
       "      <td>...</td>\n",
       "      <td>44.0</td>\n",
       "      <td>83.4</td>\n",
       "      <td>170.1</td>\n",
       "      <td>28.8</td>\n",
       "      <td>35.6</td>\n",
       "      <td>37.0</td>\n",
       "      <td>31.0</td>\n",
       "      <td>116.5</td>\n",
       "      <td>2.0</td>\n",
       "      <td>HS/GED</td>\n",
       "    </tr>\n",
       "    <tr>\n",
       "      <th>3</th>\n",
       "      <td>83735</td>\n",
       "      <td>2.0</td>\n",
       "      <td>1.0</td>\n",
       "      <td>1.0</td>\n",
       "      <td>2</td>\n",
       "      <td>Female</td>\n",
       "      <td>56</td>\n",
       "      <td>3</td>\n",
       "      <td>1.0</td>\n",
       "      <td>5.0</td>\n",
       "      <td>...</td>\n",
       "      <td>68.0</td>\n",
       "      <td>109.8</td>\n",
       "      <td>160.9</td>\n",
       "      <td>42.4</td>\n",
       "      <td>38.5</td>\n",
       "      <td>37.7</td>\n",
       "      <td>38.3</td>\n",
       "      <td>110.1</td>\n",
       "      <td>2.0</td>\n",
       "      <td>College</td>\n",
       "    </tr>\n",
       "    <tr>\n",
       "      <th>4</th>\n",
       "      <td>83736</td>\n",
       "      <td>2.0</td>\n",
       "      <td>1.0</td>\n",
       "      <td>1.0</td>\n",
       "      <td>2</td>\n",
       "      <td>Female</td>\n",
       "      <td>42</td>\n",
       "      <td>4</td>\n",
       "      <td>1.0</td>\n",
       "      <td>4.0</td>\n",
       "      <td>...</td>\n",
       "      <td>54.0</td>\n",
       "      <td>55.2</td>\n",
       "      <td>164.9</td>\n",
       "      <td>20.3</td>\n",
       "      <td>37.4</td>\n",
       "      <td>36.0</td>\n",
       "      <td>27.2</td>\n",
       "      <td>80.4</td>\n",
       "      <td>2.0</td>\n",
       "      <td>Some college/AA</td>\n",
       "    </tr>\n",
       "  </tbody>\n",
       "</table>\n",
       "<p>5 rows × 29 columns</p>\n",
       "</div>"
      ],
      "text/plain": [
       "    SEQN  ALQ101  ALQ110  ALQ130  SMQ020 RIAGENDR  RIDAGEYR  RIDRETH1  \\\n",
       "0  83732     1.0     NaN     1.0       1     Male        62         3   \n",
       "1  83733     1.0     NaN     6.0       1     Male        53         3   \n",
       "2  83734     1.0     NaN     NaN       1     Male        78         3   \n",
       "3  83735     2.0     1.0     1.0       2   Female        56         3   \n",
       "4  83736     2.0     1.0     1.0       2   Female        42         4   \n",
       "\n",
       "   DMDCITZN  DMDEDUC2  ...  BPXDI2  BMXWT  BMXHT  BMXBMI  BMXLEG  BMXARML  \\\n",
       "0       1.0       5.0  ...    64.0   94.8  184.5    27.8    43.3     43.6   \n",
       "1       2.0       3.0  ...    88.0   90.4  171.4    30.8    38.0     40.0   \n",
       "2       1.0       3.0  ...    44.0   83.4  170.1    28.8    35.6     37.0   \n",
       "3       1.0       5.0  ...    68.0  109.8  160.9    42.4    38.5     37.7   \n",
       "4       1.0       4.0  ...    54.0   55.2  164.9    20.3    37.4     36.0   \n",
       "\n",
       "   BMXARMC  BMXWAIST  HIQ210        DMDEDUC2x  \n",
       "0     35.9     101.1     2.0          College  \n",
       "1     33.2     107.9     NaN           HS/GED  \n",
       "2     31.0     116.5     2.0           HS/GED  \n",
       "3     38.3     110.1     2.0          College  \n",
       "4     27.2      80.4     2.0  Some college/AA  \n",
       "\n",
       "[5 rows x 29 columns]"
      ]
     },
     "execution_count": 56,
     "metadata": {},
     "output_type": "execute_result"
    }
   ],
   "source": [
    "da.head()"
   ]
  },
  {
   "cell_type": "code",
   "execution_count": 57,
   "metadata": {
    "scrolled": true
   },
   "outputs": [
    {
     "data": {
      "image/png": "[encoded data removed]",
      "text/plain": [
       "<Figure size 936x504 with 6 Axes>"
      ]
     },
     "metadata": {
      "needs_background": "light"
     },
     "output_type": "display_data"
    }
   ],
   "source": [
    "f, ((ax1, ax2, ax3), (ax4, ax5, ax6)) = plt.subplots(2,3, figsize = (13,7))\n",
    "df = da.DMDEDUC2x.value_counts()\n",
    "sns.barplot(y = df.index, x = df, ax=ax1).set_title(\"Barplot of Education Level\")\n",
    "sns.distplot(da.BPXDI1, ax=ax2).set_title(\"Histogram of Diastolic Pressure I\")\n",
    "sns.distplot(da.BPXDI2, ax=ax5).set_title(\"Histogram of Diastolic Pressure II\")\n",
    "sns.distplot(da.BPXSY1, ax=ax3).set_title(\"Histogram of Systolic Pressure I\")\n",
    "sns.distplot(da.BPXSY2, ax=ax6).set_title(\"Histogram of Systolic Pressure II\")\n",
    "sns.distplot(da.BMXWT, ax=ax4).set_title(\"Histogram of Body Mass Index\")\n",
    "f.tight_layout(pad=1.0) \n",
    "plt.show()\n"
   ]
  },
  {
   "cell_type": "markdown",
   "metadata": {},
   "source": [
    "#### Box plot to compare different distributions of blood pressure"
   ]
  },
  {
   "cell_type": "code",
   "execution_count": 58,
   "metadata": {},
   "outputs": [
    {
     "data": {
      "image/png": "[encoded data removed]",
      "text/plain": [
       "<Figure size 1080x504 with 8 Axes>"
      ]
     },
     "metadata": {
      "needs_background": "light"
     },
     "output_type": "display_data"
    }
   ],
   "source": [
    "f, ((ax1, ax2, ax3, ax4), (ax5, ax6, ax7, ax8)) = plt.subplots(2,4, figsize = (15,7))\n",
    "sns.distplot(da.BPXDI1, ax=ax1).set_title(\"Histogram of Diastolic Pressure I\")\n",
    "sns.distplot(da.BPXDI2, ax=ax2).set_title(\"Histogram of Diastolic Pressure II\")\n",
    "sns.distplot(da.BPXSY1, ax=ax3).set_title(\"Histogram of Systolic Pressure I\")\n",
    "sns.distplot(da.BPXSY2, ax=ax4).set_title(\"Histogram of Systolic Pressure II\")\n",
    "sns.boxplot(da.BPXDI1, ax = ax5).set_title(\"Boxplot of Diastolic Pressure I\")\n",
    "sns.boxplot(da.BPXDI2, ax = ax6).set_title(\"Boxplot of Diastolic Pressure II\")\n",
    "sns.boxplot(da.BPXSY1, ax = ax7).set_title(\"Boxplot of Systolic Pressure I\")\n",
    "sns.boxplot(da.BPXSY2, ax = ax8).set_title(\"Boxplot of Systolic Pressure II\")\n",
    "f.tight_layout(pad = 1.0)\n",
    "plt.show()"
   ]
  },
  {
   "cell_type": "code",
   "execution_count": 59,
   "metadata": {},
   "outputs": [
    {
     "data": {
      "image/png": "[encoded data removed]",
      "text/plain": [
       "<Figure size 432x288 with 1 Axes>"
      ]
     },
     "metadata": {
      "needs_background": "light"
     },
     "output_type": "display_data"
    },
    {
     "data": {
      "text/plain": [
       "<Figure size 360x216 with 0 Axes>"
      ]
     },
     "metadata": {},
     "output_type": "display_data"
    }
   ],
   "source": [
    "sns.boxplot(data = da.loc[:,['BPXDI1','BPXDI2','BPXSY1','BPXSY2']]).set_ylabel(\"Blood pressure in mm/Hg\")\n",
    "plt.figure(figsize = (5,3))\n",
    "plt.show()"
   ]
  },
  {
   "cell_type": "markdown",
   "metadata": {},
   "source": [
    "Convert continuous to categorical data... Pandas.cut"
   ]
  },
  {
   "cell_type": "code",
   "execution_count": 60,
   "metadata": {},
   "outputs": [
    {
     "data": {
      "text/plain": [
       "80"
      ]
     },
     "execution_count": 60,
     "metadata": {},
     "output_type": "execute_result"
    }
   ],
   "source": [
    "da.RIDAGEYR.max()"
   ]
  },
  {
   "cell_type": "code",
   "execution_count": 61,
   "metadata": {},
   "outputs": [
    {
     "name": "stdout",
     "output_type": "stream",
     "text": [
      "<class 'matplotlib.axes._subplots.AxesSubplot'>\n"
     ]
    },
    {
     "data": {
      "image/png": "[encoded data removed]",
      "text/plain": [
       "<Figure size 1080x504 with 2 Axes>"
      ]
     },
     "metadata": {
      "needs_background": "light"
     },
     "output_type": "display_data"
    }
   ],
   "source": [
    "da['age'] = pd.cut(x = da.RIDAGEYR, bins = [18,30,40,50,60,70,80], #bins argument set the intervals or categories\n",
    "                   labels = ['18 to 30','31 to 40', '41 to 50', '51 to 60', '61 to 70', '71 to 80']) \n",
    "\n",
    "da['RIAGENDRx'] = da.RIAGENDR.replace({1 : \"Male\", 2 : \"Female\"})\n",
    "f, (ax1, ax2) = plt.subplots(1,2, figsize = (15,7), sharey= True)\n",
    "\n",
    "sns.boxplot(x = da.age,\n",
    "            y = ((da.BPXSY2 + da.BPXSY1)/2),\n",
    "            ax = ax1).set_ylabel(\"Systolic pressure X Ages\")\n",
    "\n",
    "box2 = sns.boxplot(x = da.age,\n",
    "                   y = ((da.BPXSY2 + da.BPXSY1)/2),\n",
    "                   hue = da.RIAGENDRx,  palette = 'rocket', ax = ax2)\n",
    "\n",
    "ax1.set_title(\"Systolic pressure X Ages\"), ax2.set_title(\"Systolic pressure X Ages, hued by gender\")\n",
    "ax1.set_ylabel(\"Systolic pressure\")\n",
    "ax2.legend(title='Gender',\n",
    "           loc='upper left',\n",
    "           facecolor = 'grey',\n",
    "           edgecolor = 'firebrick')\n",
    "print(type(box2))\n",
    "plt.show()"
   ]
  },
  {
   "cell_type": "markdown",
   "metadata": {},
   "source": [
    "From that we can see that elder people have higher systolic pressure on average. Women tend to have higher pressures at higher ages, that might de due to women's higher life expectancy."
   ]
  },
  {
   "cell_type": "code",
   "execution_count": 62,
   "metadata": {},
   "outputs": [
    {
     "data": {
      "text/plain": [
       "Index(['SEQN', 'ALQ101', 'ALQ110', 'ALQ130', 'SMQ020', 'RIAGENDR', 'RIDAGEYR',\n",
       "       'RIDRETH1', 'DMDCITZN', 'DMDEDUC2', 'DMDMARTL', 'DMDHHSIZ', 'WTINT2YR',\n",
       "       'SDMVPSU', 'SDMVSTRA', 'INDFMPIR', 'BPXSY1', 'BPXDI1', 'BPXSY2',\n",
       "       'BPXDI2', 'BMXWT', 'BMXHT', 'BMXBMI', 'BMXLEG', 'BMXARML', 'BMXARMC',\n",
       "       'BMXWAIST', 'HIQ210', 'DMDEDUC2x', 'age', 'RIAGENDRx'],\n",
       "      dtype='object')"
      ]
     },
     "execution_count": 62,
     "metadata": {},
     "output_type": "execute_result"
    }
   ],
   "source": [
    "da.columns"
   ]
  },
  {
   "cell_type": "markdown",
   "metadata": {},
   "source": [
    "Now we get a categorical column to group age ranges, we can analyze how women and men's systolic pressure behave at different ages."
   ]
  },
  {
   "cell_type": "code",
   "execution_count": 63,
   "metadata": {},
   "outputs": [
    {
     "name": "stdout",
     "output_type": "stream",
     "text": [
      "<class 'matplotlib.axes._subplots.AxesSubplot'>\n"
     ]
    },
    {
     "data": {
      "image/png": "[encoded data removed]",
      "text/plain": [
       "<Figure size 720x360 with 1 Axes>"
      ]
     },
     "metadata": {
      "needs_background": "light"
     },
     "output_type": "display_data"
    }
   ],
   "source": [
    "plt.figure(figsize = (10,5))\n",
    "b = sns.boxplot(x = da.RIAGENDRx,\n",
    "           y= da.BPXSY1,\n",
    "           hue = da.age)\n",
    "b.set(xlabel = \"Gender\", ylabel = 'Systolic pressure', title = \"Systolic pressure according to age groups and gender\")\n",
    "\n",
    "print(type(b))\n",
    "plt.legend(loc = 'upper left',\n",
    "          edgecolor = 'black',\n",
    "          facecolor = 'yellow',\n",
    "          title = 'Groups of ages')\n",
    "plt.show()"
   ]
  },
  {
   "cell_type": "markdown",
   "metadata": {},
   "source": [
    "What if we investigate the correlation between blood pressure and level of education?"
   ]
  },
  {
   "cell_type": "code",
   "execution_count": 64,
   "metadata": {},
   "outputs": [
    {
     "data": {
      "text/plain": [
       "Some college/AA    1621\n",
       "College            1366\n",
       "HS/GED             1186\n",
       "<9                  655\n",
       "9-11                643\n",
       "Don't know            3\n",
       "Name: DMDEDUC2x, dtype: int64"
      ]
     },
     "execution_count": 64,
     "metadata": {},
     "output_type": "execute_result"
    }
   ],
   "source": [
    "da.DMDEDUC2x.value_counts()"
   ]
  },
  {
   "cell_type": "code",
   "execution_count": 65,
   "metadata": {},
   "outputs": [
    {
     "data": {
      "image/png": "[encoded data removed]",
      "text/plain": [
       "<Figure size 1080x504 with 1 Axes>"
      ]
     },
     "metadata": {
      "needs_background": "light"
     },
     "output_type": "display_data"
    }
   ],
   "source": [
    "plt.figure(figsize= (15,7))\n",
    "bpeducation = sns.boxplot(x = 'DMDEDUC2x',\n",
    "            y = 'BPXSY1',\n",
    "            hue = 'RIAGENDRx',\n",
    "            data = da)\n",
    "bpeducation.set(xlabel = \"Gender\",\n",
    "                ylabel = 'Systolic pressure',\n",
    "                title = \"NO CORRELATION: Box plots of Systolic blood pressure according to Education level\")\n",
    "plt.legend(title = 'Gender')\n",
    "\n",
    "plt.show()"
   ]
  },
  {
   "cell_type": "markdown",
   "metadata": {},
   "source": [
    "#### Why the graph above does not represent the reality\n",
    " \n",
    "Over the last few decades, it has become much more common for people to at least begin a college degree than it was in the past. Therefore, younger people as a group have higher educational attainment than older people as a group. This contrast possibly creates a false impression that lower educational attainment might cause high blood pressure. But, as these young people grow older, the cross sectional relationship between age and educational attainment will change.\n",
    "\n",
    "Nevertheless, that could be better addressed if NHANES database had gathered information in different periods, which would allow to grasp if there is a relevant change at blood pressure in different periods for the same education background.\n"
   ]
  },
  {
   "cell_type": "code",
   "execution_count": 66,
   "metadata": {},
   "outputs": [
    {
     "data": {
      "text/plain": [
       "(5735, 31)"
      ]
     },
     "execution_count": 66,
     "metadata": {},
     "output_type": "execute_result"
    }
   ],
   "source": [
    "da.shape"
   ]
  },
  {
   "cell_type": "code",
   "execution_count": 67,
   "metadata": {},
   "outputs": [
    {
     "data": {
      "text/plain": [
       "age       DMDEDUC2x      \n",
       "18 to 30  Some college/AA    364\n",
       "          College            278\n",
       "          HS/GED             237\n",
       "          9-11                99\n",
       "          <9                  47\n",
       "31 to 40  Some college/AA    282\n",
       "          College            264\n",
       "          HS/GED             182\n",
       "          9-11               111\n",
       "          <9                  93\n",
       "41 to 50  Some college/AA    262\n",
       "          College            260\n",
       "          HS/GED             171\n",
       "          9-11               112\n",
       "          <9                  98\n",
       "51 to 60  Some college/AA    258\n",
       "          College            220\n",
       "          HS/GED             220\n",
       "          9-11               122\n",
       "          <9                 104\n",
       "61 to 70  Some college/AA    238\n",
       "          HS/GED             192\n",
       "          College            188\n",
       "          <9                 149\n",
       "          9-11               111\n",
       "71 to 80  Some college/AA    217\n",
       "          HS/GED             184\n",
       "          <9                 164\n",
       "          College            156\n",
       "          9-11                88\n",
       "          Don't know           3\n",
       "Name: DMDEDUC2x, dtype: int64"
      ]
     },
     "execution_count": 67,
     "metadata": {},
     "output_type": "execute_result"
    }
   ],
   "source": [
    "da.groupby(\"age\").DMDEDUC2x.value_counts()"
   ]
  },
  {
   "cell_type": "code",
   "execution_count": 151,
   "metadata": {},
   "outputs": [
    {
     "data": {
      "image/png": "[encoded data removed]",
      "text/plain": [
       "<Figure size 1080x720 with 1 Axes>"
      ]
     },
     "metadata": {
      "needs_background": "light"
     },
     "output_type": "display_data"
    }
   ],
   "source": [
    "df = da.groupby('age').DMDEDUC2x.value_counts()\n",
    "df.index = df.index.set_names(['Age', 'Education'])\n",
    "df1 = df.index.to_frame(index = True)\n",
    "df1['Count'] = da.groupby('age').DMDEDUC2x.value_counts()\n",
    "\n",
    "plt.figure(figsize = (15,10))\n",
    "sns.barplot(x = df1.Age,\n",
    "            y = df1.Count,\n",
    "            hue = df1.Education)\n",
    "\n",
    "plt.show()"
   ]
  },
  {
   "cell_type": "markdown",
   "metadata": {},
   "source": [
    "We can transform a MultiIndex Pandas Series into a data frame. From that, we can build graphs with categorical data. It is clearly portrayed that educational attainment is higher at younger individuals.\n",
    "\n",
    "**Pivot function**:"
   ]
  },
  {
   "cell_type": "code",
   "execution_count": 150,
   "metadata": {},
   "outputs": [
    {
     "data": {
      "text/html": [
       "<div>\n",
       "<style scoped>\n",
       "    .dataframe tbody tr th:only-of-type {\n",
       "        vertical-align: middle;\n",
       "    }\n",
       "\n",
       "    .dataframe tbody tr th {\n",
       "        vertical-align: top;\n",
       "    }\n",
       "\n",
       "    .dataframe thead th {\n",
       "        text-align: right;\n",
       "    }\n",
       "</style>\n",
       "<table border=\"1\" class=\"dataframe\">\n",
       "  <thead>\n",
       "    <tr style=\"text-align: right;\">\n",
       "      <th>Education</th>\n",
       "      <th>9-11</th>\n",
       "      <th>&lt;9</th>\n",
       "      <th>College</th>\n",
       "      <th>Don't know</th>\n",
       "      <th>HS/GED</th>\n",
       "      <th>Some college/AA</th>\n",
       "    </tr>\n",
       "    <tr>\n",
       "      <th>Age</th>\n",
       "      <th></th>\n",
       "      <th></th>\n",
       "      <th></th>\n",
       "      <th></th>\n",
       "      <th></th>\n",
       "      <th></th>\n",
       "    </tr>\n",
       "  </thead>\n",
       "  <tbody>\n",
       "    <tr>\n",
       "      <th>18 to 30</th>\n",
       "      <td>99</td>\n",
       "      <td>47</td>\n",
       "      <td>278</td>\n",
       "      <td>0</td>\n",
       "      <td>237</td>\n",
       "      <td>364</td>\n",
       "    </tr>\n",
       "    <tr>\n",
       "      <th>31 to 40</th>\n",
       "      <td>111</td>\n",
       "      <td>93</td>\n",
       "      <td>264</td>\n",
       "      <td>0</td>\n",
       "      <td>182</td>\n",
       "      <td>282</td>\n",
       "    </tr>\n",
       "    <tr>\n",
       "      <th>41 to 50</th>\n",
       "      <td>112</td>\n",
       "      <td>98</td>\n",
       "      <td>260</td>\n",
       "      <td>0</td>\n",
       "      <td>171</td>\n",
       "      <td>262</td>\n",
       "    </tr>\n",
       "    <tr>\n",
       "      <th>51 to 60</th>\n",
       "      <td>122</td>\n",
       "      <td>104</td>\n",
       "      <td>220</td>\n",
       "      <td>0</td>\n",
       "      <td>220</td>\n",
       "      <td>258</td>\n",
       "    </tr>\n",
       "    <tr>\n",
       "      <th>61 to 70</th>\n",
       "      <td>111</td>\n",
       "      <td>149</td>\n",
       "      <td>188</td>\n",
       "      <td>0</td>\n",
       "      <td>192</td>\n",
       "      <td>238</td>\n",
       "    </tr>\n",
       "    <tr>\n",
       "      <th>71 to 80</th>\n",
       "      <td>88</td>\n",
       "      <td>164</td>\n",
       "      <td>156</td>\n",
       "      <td>3</td>\n",
       "      <td>184</td>\n",
       "      <td>217</td>\n",
       "    </tr>\n",
       "  </tbody>\n",
       "</table>\n",
       "</div>"
      ],
      "text/plain": [
       "Education  9-11   <9  College  Don't know  HS/GED  Some college/AA\n",
       "Age                                                               \n",
       "18 to 30     99   47      278           0     237              364\n",
       "31 to 40    111   93      264           0     182              282\n",
       "41 to 50    112   98      260           0     171              262\n",
       "51 to 60    122  104      220           0     220              258\n",
       "61 to 70    111  149      188           0     192              238\n",
       "71 to 80     88  164      156           3     184              217"
      ]
     },
     "execution_count": 150,
     "metadata": {},
     "output_type": "execute_result"
    }
   ],
   "source": [
    "df = da.groupby('age').DMDEDUC2x.value_counts()\n",
    "df1 = df.index.to_frame(index = False) #it deletes the multiindex\n",
    "df1 = df1.rename(columns = {\"age\" : \"Age\", \"DMDEDUC2x\" : \"Education\"})\n",
    "df1['Count'] = df.values #it adds the values stored in the first variable\n",
    "df1\n",
    "df2 = pd.DataFrame(data = df1.values,\n",
    "                   columns = df1.columns)\n",
    "df2.pivot(index = 'Age', columns = 'Education', values = \"Count\").fillna(0)"
   ]
  },
  {
   "cell_type": "markdown",
   "metadata": {},
   "source": [
    "**Unstack is faster**"
   ]
  },
  {
   "cell_type": "code",
   "execution_count": 264,
   "metadata": {},
   "outputs": [
    {
     "data": {
      "text/html": [
       "<div>\n",
       "<style scoped>\n",
       "    .dataframe tbody tr th:only-of-type {\n",
       "        vertical-align: middle;\n",
       "    }\n",
       "\n",
       "    .dataframe tbody tr th {\n",
       "        vertical-align: top;\n",
       "    }\n",
       "\n",
       "    .dataframe thead th {\n",
       "        text-align: right;\n",
       "    }\n",
       "</style>\n",
       "<table border=\"1\" class=\"dataframe\">\n",
       "  <thead>\n",
       "    <tr style=\"text-align: right;\">\n",
       "      <th></th>\n",
       "      <th>9-11</th>\n",
       "      <th>&lt;9</th>\n",
       "      <th>College</th>\n",
       "      <th>Don't know</th>\n",
       "      <th>HS/GED</th>\n",
       "      <th>Some college/AA</th>\n",
       "      <th>Total</th>\n",
       "    </tr>\n",
       "    <tr>\n",
       "      <th>Ages</th>\n",
       "      <th></th>\n",
       "      <th></th>\n",
       "      <th></th>\n",
       "      <th></th>\n",
       "      <th></th>\n",
       "      <th></th>\n",
       "      <th></th>\n",
       "    </tr>\n",
       "  </thead>\n",
       "  <tbody>\n",
       "    <tr>\n",
       "      <th>18 to 30</th>\n",
       "      <td>99.0</td>\n",
       "      <td>47.0</td>\n",
       "      <td>278.0</td>\n",
       "      <td>0.0</td>\n",
       "      <td>237.0</td>\n",
       "      <td>364.0</td>\n",
       "      <td>1025.0</td>\n",
       "    </tr>\n",
       "    <tr>\n",
       "      <th>31 to 40</th>\n",
       "      <td>111.0</td>\n",
       "      <td>93.0</td>\n",
       "      <td>264.0</td>\n",
       "      <td>0.0</td>\n",
       "      <td>182.0</td>\n",
       "      <td>282.0</td>\n",
       "      <td>932.0</td>\n",
       "    </tr>\n",
       "    <tr>\n",
       "      <th>41 to 50</th>\n",
       "      <td>112.0</td>\n",
       "      <td>98.0</td>\n",
       "      <td>260.0</td>\n",
       "      <td>0.0</td>\n",
       "      <td>171.0</td>\n",
       "      <td>262.0</td>\n",
       "      <td>903.0</td>\n",
       "    </tr>\n",
       "    <tr>\n",
       "      <th>51 to 60</th>\n",
       "      <td>122.0</td>\n",
       "      <td>104.0</td>\n",
       "      <td>220.0</td>\n",
       "      <td>0.0</td>\n",
       "      <td>220.0</td>\n",
       "      <td>258.0</td>\n",
       "      <td>924.0</td>\n",
       "    </tr>\n",
       "    <tr>\n",
       "      <th>61 to 70</th>\n",
       "      <td>111.0</td>\n",
       "      <td>149.0</td>\n",
       "      <td>188.0</td>\n",
       "      <td>0.0</td>\n",
       "      <td>192.0</td>\n",
       "      <td>238.0</td>\n",
       "      <td>878.0</td>\n",
       "    </tr>\n",
       "    <tr>\n",
       "      <th>71 to 80</th>\n",
       "      <td>88.0</td>\n",
       "      <td>164.0</td>\n",
       "      <td>156.0</td>\n",
       "      <td>3.0</td>\n",
       "      <td>184.0</td>\n",
       "      <td>217.0</td>\n",
       "      <td>812.0</td>\n",
       "    </tr>\n",
       "  </tbody>\n",
       "</table>\n",
       "</div>"
      ],
      "text/plain": [
       "           9-11     <9  College  Don't know  HS/GED  Some college/AA   Total\n",
       "Ages                                                                        \n",
       "18 to 30   99.0   47.0    278.0         0.0   237.0            364.0  1025.0\n",
       "31 to 40  111.0   93.0    264.0         0.0   182.0            282.0   932.0\n",
       "41 to 50  112.0   98.0    260.0         0.0   171.0            262.0   903.0\n",
       "51 to 60  122.0  104.0    220.0         0.0   220.0            258.0   924.0\n",
       "61 to 70  111.0  149.0    188.0         0.0   192.0            238.0   878.0\n",
       "71 to 80   88.0  164.0    156.0         3.0   184.0            217.0   812.0"
      ]
     },
     "execution_count": 264,
     "metadata": {},
     "output_type": "execute_result"
    }
   ],
   "source": [
    "df = da.groupby('age').DMDEDUC2x.value_counts()\n",
    "df = df.unstack().fillna(0) #it gets the last row of a multiindex column and unstack it\n",
    "df.index.name = 'Ages'\n",
    "df.columns.name = None\n",
    "df.index.name = \"Ages\"\n",
    "df['Total'] = df.sum(axis=1)\n",
    "df"
   ]
  },
  {
   "cell_type": "markdown",
   "metadata": {},
   "source": [
    "### Stacked Bar Graphs"
   ]
  },
  {
   "cell_type": "markdown",
   "metadata": {},
   "source": [
    "Example:"
   ]
  },
  {
   "cell_type": "code",
   "execution_count": 270,
   "metadata": {},
   "outputs": [
    {
     "data": {
      "image/png": "[encoded data removed]",
      "text/plain": [
       "<Figure size 432x288 with 1 Axes>"
      ]
     },
     "metadata": {
      "needs_background": "light"
     },
     "output_type": "display_data"
    }
   ],
   "source": [
    "import numpy as np\n",
    "import matplotlib.pyplot as plt\n",
    "from matplotlib import rc\n",
    "import pandas as pd\n",
    " \n",
    "# y-axis in bold\n",
    "#rc('font', weight='bold')\n",
    " \n",
    "# Values of each group\n",
    "bars1 = [12, 28, 1, 8, 22]\n",
    "bars2 = [28, 7, 16, 4, 10]\n",
    "bars3 = [25, 3, 23, 25, 17]\n",
    " \n",
    "# Heights of bars1 + bars2\n",
    "bars = np.add(bars1, bars2).tolist() #If I'm working with pandas series or arrays, no need to call np.add\n",
    " \n",
    "# The position of the bars on the x-axis\n",
    "r = [0,1,2,3,4]\n",
    " \n",
    "# Names of group and bar width\n",
    "names = ['A','B','C','D','E']\n",
    "barWidth = 1\n",
    " \n",
    "# Create brown bars\n",
    "plt.bar(r, bars1, color='#7f6d5f', edgecolor='white', width=barWidth)\n",
    "# Create green bars (middle), on top of the firs ones\n",
    "plt.bar(r, bars2, bottom=bars1, color='#557f2d', edgecolor='white', width=barWidth)\n",
    "# Create green bars (top)\n",
    "plt.bar(r, bars3, bottom=bars, color='#2d7f5e', edgecolor='white', width=barWidth)\n",
    " \n",
    "# Custom X axis\n",
    "plt.xticks(r, names, fontweight='bold')\n",
    "plt.xlabel(\"group\")\n",
    " \n",
    "# Show graphic\n",
    "plt.show()"
   ]
  },
  {
   "cell_type": "markdown",
   "metadata": {},
   "source": [
    "Loop para manipular colunas ou linhas. Vide abaixo **lambda**"
   ]
  },
  {
   "cell_type": "code",
   "execution_count": 210,
   "metadata": {},
   "outputs": [
    {
     "data": {
      "text/html": [
       "<div>\n",
       "<style scoped>\n",
       "    .dataframe tbody tr th:only-of-type {\n",
       "        vertical-align: middle;\n",
       "    }\n",
       "\n",
       "    .dataframe tbody tr th {\n",
       "        vertical-align: top;\n",
       "    }\n",
       "\n",
       "    .dataframe thead th {\n",
       "        text-align: right;\n",
       "    }\n",
       "</style>\n",
       "<table border=\"1\" class=\"dataframe\">\n",
       "  <thead>\n",
       "    <tr style=\"text-align: right;\">\n",
       "      <th></th>\n",
       "      <th>9-11</th>\n",
       "      <th>&lt;9</th>\n",
       "      <th>College</th>\n",
       "      <th>Don't know</th>\n",
       "      <th>HS/GED</th>\n",
       "      <th>Some college/AA</th>\n",
       "      <th>Total</th>\n",
       "    </tr>\n",
       "    <tr>\n",
       "      <th>Ages</th>\n",
       "      <th></th>\n",
       "      <th></th>\n",
       "      <th></th>\n",
       "      <th></th>\n",
       "      <th></th>\n",
       "      <th></th>\n",
       "      <th></th>\n",
       "    </tr>\n",
       "  </thead>\n",
       "  <tbody>\n",
       "    <tr>\n",
       "      <th>18 to 30</th>\n",
       "      <td>0.096585</td>\n",
       "      <td>0.045854</td>\n",
       "      <td>0.271220</td>\n",
       "      <td>0.000000</td>\n",
       "      <td>0.231220</td>\n",
       "      <td>0.355122</td>\n",
       "      <td>1.0</td>\n",
       "    </tr>\n",
       "    <tr>\n",
       "      <th>31 to 40</th>\n",
       "      <td>0.119099</td>\n",
       "      <td>0.099785</td>\n",
       "      <td>0.283262</td>\n",
       "      <td>0.000000</td>\n",
       "      <td>0.195279</td>\n",
       "      <td>0.302575</td>\n",
       "      <td>1.0</td>\n",
       "    </tr>\n",
       "    <tr>\n",
       "      <th>41 to 50</th>\n",
       "      <td>0.124031</td>\n",
       "      <td>0.108527</td>\n",
       "      <td>0.287929</td>\n",
       "      <td>0.000000</td>\n",
       "      <td>0.189369</td>\n",
       "      <td>0.290144</td>\n",
       "      <td>1.0</td>\n",
       "    </tr>\n",
       "    <tr>\n",
       "      <th>51 to 60</th>\n",
       "      <td>0.132035</td>\n",
       "      <td>0.112554</td>\n",
       "      <td>0.238095</td>\n",
       "      <td>0.000000</td>\n",
       "      <td>0.238095</td>\n",
       "      <td>0.279221</td>\n",
       "      <td>1.0</td>\n",
       "    </tr>\n",
       "    <tr>\n",
       "      <th>61 to 70</th>\n",
       "      <td>0.126424</td>\n",
       "      <td>0.169704</td>\n",
       "      <td>0.214123</td>\n",
       "      <td>0.000000</td>\n",
       "      <td>0.218679</td>\n",
       "      <td>0.271071</td>\n",
       "      <td>1.0</td>\n",
       "    </tr>\n",
       "    <tr>\n",
       "      <th>71 to 80</th>\n",
       "      <td>0.108374</td>\n",
       "      <td>0.201970</td>\n",
       "      <td>0.192118</td>\n",
       "      <td>0.003695</td>\n",
       "      <td>0.226601</td>\n",
       "      <td>0.267241</td>\n",
       "      <td>1.0</td>\n",
       "    </tr>\n",
       "  </tbody>\n",
       "</table>\n",
       "</div>"
      ],
      "text/plain": [
       "              9-11        <9   College  Don't know    HS/GED  Some college/AA  \\\n",
       "Ages                                                                            \n",
       "18 to 30  0.096585  0.045854  0.271220    0.000000  0.231220         0.355122   \n",
       "31 to 40  0.119099  0.099785  0.283262    0.000000  0.195279         0.302575   \n",
       "41 to 50  0.124031  0.108527  0.287929    0.000000  0.189369         0.290144   \n",
       "51 to 60  0.132035  0.112554  0.238095    0.000000  0.238095         0.279221   \n",
       "61 to 70  0.126424  0.169704  0.214123    0.000000  0.218679         0.271071   \n",
       "71 to 80  0.108374  0.201970  0.192118    0.003695  0.226601         0.267241   \n",
       "\n",
       "          Total  \n",
       "Ages             \n",
       "18 to 30    1.0  \n",
       "31 to 40    1.0  \n",
       "41 to 50    1.0  \n",
       "51 to 60    1.0  \n",
       "61 to 70    1.0  \n",
       "71 to 80    1.0  "
      ]
     },
     "execution_count": 210,
     "metadata": {},
     "output_type": "execute_result"
    }
   ],
   "source": [
    "dfperc = pd.DataFrame()\n",
    "for col in df:\n",
    "    dfperc[col] = (df[col]/df.Total)\n",
    "dfperc"
   ]
  },
  {
   "cell_type": "code",
   "execution_count": 364,
   "metadata": {},
   "outputs": [
    {
     "data": {
      "text/plain": [
       "CategoricalIndex(['18 to 30', '31 to 40', '41 to 50', '51 to 60', '61 to 70',\n",
       "                  '71 to 80'],\n",
       "                 categories=['18 to 30', '31 to 40', '41 to 50', '51 to 60', '61 to 70', '71 to 80'], ordered=True, name='Ages', dtype='category')"
      ]
     },
     "execution_count": 364,
     "metadata": {},
     "output_type": "execute_result"
    }
   ],
   "source": [
    "df.index"
   ]
  },
  {
   "cell_type": "code",
   "execution_count": 375,
   "metadata": {},
   "outputs": [
    {
     "data": {
      "text/plain": [
       "([<matplotlib.axis.XTick at 0x1a34d458760>,\n",
       "  <matplotlib.axis.XTick at 0x1a34d458a30>,\n",
       "  <matplotlib.axis.XTick at 0x1a34ddf1700>,\n",
       "  <matplotlib.axis.XTick at 0x1a34d41bee0>,\n",
       "  <matplotlib.axis.XTick at 0x1a354e53820>,\n",
       "  <matplotlib.axis.XTick at 0x1a354e6f220>],\n",
       " [Text(0, 0, '18 to 30'),\n",
       "  Text(0, 0, '31 to 40'),\n",
       "  Text(0, 0, '41 to 50'),\n",
       "  Text(0, 0, '51 to 60'),\n",
       "  Text(0, 0, '61 to 70'),\n",
       "  Text(0, 0, '71 to 80')])"
      ]
     },
     "execution_count": 375,
     "metadata": {},
     "output_type": "execute_result"
    },
    {
     "data": {
      "image/png": "[encoded data removed]",
      "text/plain": [
       "<Figure size 1080x720 with 1 Axes>"
      ]
     },
     "metadata": {
      "needs_background": "light"
     },
     "output_type": "display_data"
    }
   ],
   "source": [
    "# The position of the bars on the x-axis\n",
    "barposition = df.index\n",
    "plt.figure(figsize = (15,10))\n",
    "plt.bar (barposition,\n",
    "        df.iloc[:,0],\n",
    "        color = 'dimgray' ,\n",
    "        edgecolor = 'black',\n",
    "        label = \"Between 9th and 11th\")\n",
    "plt.bar (barposition, df.iloc[:,1], bottom = df.iloc[:,0], color = 'gray', edgecolor = 'black', label = \"Less than 9th\")\n",
    "plt.bar (barposition, df.iloc[:,2], bottom = df.iloc[:,1] + df.iloc[:,0], color = 'darkgrey', edgecolor = 'black', label = \"College\")\n",
    "#plt.bar (barposition, df.iloc[:,3], bottom = df.iloc[:,2] + df.iloc[:,1], color = 'lightgrey', edgecolor = 'black')\n",
    "plt.bar (barposition, df.iloc[:,4], bottom = df.iloc[:,2] + df.iloc[:,1], color = 'gainsboro', edgecolor = 'black', label = \"HS/GED\")\n",
    "plt.bar (barposition, df.iloc[:,5], bottom = df.iloc[:,4] + df.iloc[:,2], color = 'snow', edgecolor = 'black', label = \"Some College\")\n",
    "\n",
    "plt.xlabel(\"Groups\"), plt.ylabel(\"Frequence\"), plt.title (\"Stacked Bars of Education Attainment at different Ages\")\n",
    "plt.legend()\n",
    "plt.xticks(ticks = barposition, labels = df.index)"
   ]
  },
  {
   "cell_type": "markdown",
   "metadata": {},
   "source": [
    "The graph above shows that educational attainment is higher between younger people. It probably derives from the fact that it is easier nowadays to pursue a bachelors degree. Therefore, It is not possible to relate educational background with blood pressure."
   ]
  },
  {
   "cell_type": "markdown",
   "metadata": {},
   "source": [
    "#### Continue..."
   ]
  },
  {
   "cell_type": "markdown",
   "metadata": {},
   "source": [
    "We can also stratify jointly by age and gender to explore how educational attainment varies by both of these factors simultaneously. In doing this, it is easier to interpret the results if we pivot the education levels into the columns, and normalize the counts so that they sum to 1. After doing this, the results can be interpreted as proportions or probabilities. One notable observation from this table is that for people up to age around 60, women are more likely to have graduated from college than men, but for people over aged 60, this relationship reverses."
   ]
  },
  {
   "cell_type": "code",
   "execution_count": 46,
   "metadata": {},
   "outputs": [
    {
     "data": {
      "text/plain": [
       "(5735, 29)"
      ]
     },
     "execution_count": 46,
     "metadata": {},
     "output_type": "execute_result"
    }
   ],
   "source": [
    "da.shape"
   ]
  },
  {
   "cell_type": "code",
   "execution_count": 54,
   "metadata": {},
   "outputs": [
    {
     "data": {
      "text/html": [
       "<div>\n",
       "<style scoped>\n",
       "    .dataframe tbody tr th:only-of-type {\n",
       "        vertical-align: middle;\n",
       "    }\n",
       "\n",
       "    .dataframe tbody tr th {\n",
       "        vertical-align: top;\n",
       "    }\n",
       "\n",
       "    .dataframe thead th {\n",
       "        text-align: right;\n",
       "    }\n",
       "</style>\n",
       "<table border=\"1\" class=\"dataframe\">\n",
       "  <thead>\n",
       "    <tr style=\"text-align: right;\">\n",
       "      <th></th>\n",
       "      <th>SEQN</th>\n",
       "      <th>ALQ101</th>\n",
       "      <th>ALQ110</th>\n",
       "      <th>ALQ130</th>\n",
       "      <th>SMQ020</th>\n",
       "      <th>RIAGENDR</th>\n",
       "      <th>RIDAGEYR</th>\n",
       "      <th>RIDRETH1</th>\n",
       "      <th>DMDCITZN</th>\n",
       "      <th>DMDEDUC2</th>\n",
       "      <th>...</th>\n",
       "      <th>BPXDI2</th>\n",
       "      <th>BMXWT</th>\n",
       "      <th>BMXHT</th>\n",
       "      <th>BMXBMI</th>\n",
       "      <th>BMXLEG</th>\n",
       "      <th>BMXARML</th>\n",
       "      <th>BMXARMC</th>\n",
       "      <th>BMXWAIST</th>\n",
       "      <th>HIQ210</th>\n",
       "      <th>DMDEDUC2x</th>\n",
       "    </tr>\n",
       "  </thead>\n",
       "  <tbody>\n",
       "    <tr>\n",
       "      <th>8</th>\n",
       "      <td>83743</td>\n",
       "      <td>NaN</td>\n",
       "      <td>NaN</td>\n",
       "      <td>NaN</td>\n",
       "      <td>2</td>\n",
       "      <td>Male</td>\n",
       "      <td>18</td>\n",
       "      <td>5</td>\n",
       "      <td>1.0</td>\n",
       "      <td>NaN</td>\n",
       "      <td>...</td>\n",
       "      <td>NaN</td>\n",
       "      <td>72.4</td>\n",
       "      <td>166.1</td>\n",
       "      <td>26.2</td>\n",
       "      <td>NaN</td>\n",
       "      <td>NaN</td>\n",
       "      <td>NaN</td>\n",
       "      <td>NaN</td>\n",
       "      <td>2.0</td>\n",
       "      <td>NaN</td>\n",
       "    </tr>\n",
       "    <tr>\n",
       "      <th>16</th>\n",
       "      <td>83759</td>\n",
       "      <td>2.0</td>\n",
       "      <td>2.0</td>\n",
       "      <td>NaN</td>\n",
       "      <td>2</td>\n",
       "      <td>Female</td>\n",
       "      <td>19</td>\n",
       "      <td>1</td>\n",
       "      <td>1.0</td>\n",
       "      <td>NaN</td>\n",
       "      <td>...</td>\n",
       "      <td>66.0</td>\n",
       "      <td>100.8</td>\n",
       "      <td>175.4</td>\n",
       "      <td>32.8</td>\n",
       "      <td>40.7</td>\n",
       "      <td>38.6</td>\n",
       "      <td>35.9</td>\n",
       "      <td>104.6</td>\n",
       "      <td>1.0</td>\n",
       "      <td>NaN</td>\n",
       "    </tr>\n",
       "    <tr>\n",
       "      <th>54</th>\n",
       "      <td>83836</td>\n",
       "      <td>1.0</td>\n",
       "      <td>NaN</td>\n",
       "      <td>4.0</td>\n",
       "      <td>2</td>\n",
       "      <td>Female</td>\n",
       "      <td>18</td>\n",
       "      <td>1</td>\n",
       "      <td>1.0</td>\n",
       "      <td>NaN</td>\n",
       "      <td>...</td>\n",
       "      <td>78.0</td>\n",
       "      <td>68.6</td>\n",
       "      <td>156.5</td>\n",
       "      <td>28.0</td>\n",
       "      <td>36.5</td>\n",
       "      <td>34.5</td>\n",
       "      <td>28.5</td>\n",
       "      <td>89.3</td>\n",
       "      <td>2.0</td>\n",
       "      <td>NaN</td>\n",
       "    </tr>\n",
       "    <tr>\n",
       "      <th>59</th>\n",
       "      <td>83847</td>\n",
       "      <td>2.0</td>\n",
       "      <td>2.0</td>\n",
       "      <td>NaN</td>\n",
       "      <td>2</td>\n",
       "      <td>Male</td>\n",
       "      <td>18</td>\n",
       "      <td>3</td>\n",
       "      <td>1.0</td>\n",
       "      <td>NaN</td>\n",
       "      <td>...</td>\n",
       "      <td>62.0</td>\n",
       "      <td>71.2</td>\n",
       "      <td>185.0</td>\n",
       "      <td>20.8</td>\n",
       "      <td>45.4</td>\n",
       "      <td>36.9</td>\n",
       "      <td>27.2</td>\n",
       "      <td>77.8</td>\n",
       "      <td>2.0</td>\n",
       "      <td>NaN</td>\n",
       "    </tr>\n",
       "    <tr>\n",
       "      <th>67</th>\n",
       "      <td>83862</td>\n",
       "      <td>1.0</td>\n",
       "      <td>NaN</td>\n",
       "      <td>1.0</td>\n",
       "      <td>2</td>\n",
       "      <td>Female</td>\n",
       "      <td>19</td>\n",
       "      <td>2</td>\n",
       "      <td>1.0</td>\n",
       "      <td>NaN</td>\n",
       "      <td>...</td>\n",
       "      <td>72.0</td>\n",
       "      <td>60.3</td>\n",
       "      <td>157.1</td>\n",
       "      <td>24.4</td>\n",
       "      <td>34.9</td>\n",
       "      <td>36.7</td>\n",
       "      <td>29.8</td>\n",
       "      <td>78.7</td>\n",
       "      <td>2.0</td>\n",
       "      <td>NaN</td>\n",
       "    </tr>\n",
       "    <tr>\n",
       "      <th>...</th>\n",
       "      <td>...</td>\n",
       "      <td>...</td>\n",
       "      <td>...</td>\n",
       "      <td>...</td>\n",
       "      <td>...</td>\n",
       "      <td>...</td>\n",
       "      <td>...</td>\n",
       "      <td>...</td>\n",
       "      <td>...</td>\n",
       "      <td>...</td>\n",
       "      <td>...</td>\n",
       "      <td>...</td>\n",
       "      <td>...</td>\n",
       "      <td>...</td>\n",
       "      <td>...</td>\n",
       "      <td>...</td>\n",
       "      <td>...</td>\n",
       "      <td>...</td>\n",
       "      <td>...</td>\n",
       "      <td>...</td>\n",
       "      <td>...</td>\n",
       "    </tr>\n",
       "    <tr>\n",
       "      <th>5629</th>\n",
       "      <td>93519</td>\n",
       "      <td>2.0</td>\n",
       "      <td>2.0</td>\n",
       "      <td>NaN</td>\n",
       "      <td>2</td>\n",
       "      <td>Male</td>\n",
       "      <td>19</td>\n",
       "      <td>5</td>\n",
       "      <td>2.0</td>\n",
       "      <td>NaN</td>\n",
       "      <td>...</td>\n",
       "      <td>NaN</td>\n",
       "      <td>54.2</td>\n",
       "      <td>164.8</td>\n",
       "      <td>20.0</td>\n",
       "      <td>41.8</td>\n",
       "      <td>33.4</td>\n",
       "      <td>25.1</td>\n",
       "      <td>72.0</td>\n",
       "      <td>2.0</td>\n",
       "      <td>NaN</td>\n",
       "    </tr>\n",
       "    <tr>\n",
       "      <th>5653</th>\n",
       "      <td>93562</td>\n",
       "      <td>2.0</td>\n",
       "      <td>1.0</td>\n",
       "      <td>2.0</td>\n",
       "      <td>2</td>\n",
       "      <td>Female</td>\n",
       "      <td>19</td>\n",
       "      <td>5</td>\n",
       "      <td>1.0</td>\n",
       "      <td>NaN</td>\n",
       "      <td>...</td>\n",
       "      <td>52.0</td>\n",
       "      <td>74.9</td>\n",
       "      <td>166.7</td>\n",
       "      <td>27.0</td>\n",
       "      <td>41.8</td>\n",
       "      <td>35.7</td>\n",
       "      <td>32.5</td>\n",
       "      <td>81.6</td>\n",
       "      <td>NaN</td>\n",
       "      <td>NaN</td>\n",
       "    </tr>\n",
       "    <tr>\n",
       "      <th>5655</th>\n",
       "      <td>93564</td>\n",
       "      <td>1.0</td>\n",
       "      <td>NaN</td>\n",
       "      <td>5.0</td>\n",
       "      <td>2</td>\n",
       "      <td>Male</td>\n",
       "      <td>18</td>\n",
       "      <td>2</td>\n",
       "      <td>1.0</td>\n",
       "      <td>NaN</td>\n",
       "      <td>...</td>\n",
       "      <td>66.0</td>\n",
       "      <td>65.7</td>\n",
       "      <td>178.7</td>\n",
       "      <td>20.6</td>\n",
       "      <td>45.3</td>\n",
       "      <td>38.5</td>\n",
       "      <td>27.0</td>\n",
       "      <td>74.2</td>\n",
       "      <td>2.0</td>\n",
       "      <td>NaN</td>\n",
       "    </tr>\n",
       "    <tr>\n",
       "      <th>5664</th>\n",
       "      <td>93577</td>\n",
       "      <td>2.0</td>\n",
       "      <td>2.0</td>\n",
       "      <td>NaN</td>\n",
       "      <td>2</td>\n",
       "      <td>Male</td>\n",
       "      <td>19</td>\n",
       "      <td>1</td>\n",
       "      <td>1.0</td>\n",
       "      <td>NaN</td>\n",
       "      <td>...</td>\n",
       "      <td>78.0</td>\n",
       "      <td>68.1</td>\n",
       "      <td>180.5</td>\n",
       "      <td>20.9</td>\n",
       "      <td>43.1</td>\n",
       "      <td>38.9</td>\n",
       "      <td>31.0</td>\n",
       "      <td>78.7</td>\n",
       "      <td>2.0</td>\n",
       "      <td>NaN</td>\n",
       "    </tr>\n",
       "    <tr>\n",
       "      <th>5676</th>\n",
       "      <td>93597</td>\n",
       "      <td>2.0</td>\n",
       "      <td>2.0</td>\n",
       "      <td>NaN</td>\n",
       "      <td>2</td>\n",
       "      <td>Female</td>\n",
       "      <td>19</td>\n",
       "      <td>5</td>\n",
       "      <td>1.0</td>\n",
       "      <td>NaN</td>\n",
       "      <td>...</td>\n",
       "      <td>64.0</td>\n",
       "      <td>70.4</td>\n",
       "      <td>180.3</td>\n",
       "      <td>21.7</td>\n",
       "      <td>43.0</td>\n",
       "      <td>38.6</td>\n",
       "      <td>27.1</td>\n",
       "      <td>81.7</td>\n",
       "      <td>2.0</td>\n",
       "      <td>NaN</td>\n",
       "    </tr>\n",
       "  </tbody>\n",
       "</table>\n",
       "<p>261 rows × 29 columns</p>\n",
       "</div>"
      ],
      "text/plain": [
       "       SEQN  ALQ101  ALQ110  ALQ130  SMQ020 RIAGENDR  RIDAGEYR  RIDRETH1  \\\n",
       "8     83743     NaN     NaN     NaN       2     Male        18         5   \n",
       "16    83759     2.0     2.0     NaN       2   Female        19         1   \n",
       "54    83836     1.0     NaN     4.0       2   Female        18         1   \n",
       "59    83847     2.0     2.0     NaN       2     Male        18         3   \n",
       "67    83862     1.0     NaN     1.0       2   Female        19         2   \n",
       "...     ...     ...     ...     ...     ...      ...       ...       ...   \n",
       "5629  93519     2.0     2.0     NaN       2     Male        19         5   \n",
       "5653  93562     2.0     1.0     2.0       2   Female        19         5   \n",
       "5655  93564     1.0     NaN     5.0       2     Male        18         2   \n",
       "5664  93577     2.0     2.0     NaN       2     Male        19         1   \n",
       "5676  93597     2.0     2.0     NaN       2   Female        19         5   \n",
       "\n",
       "      DMDCITZN  DMDEDUC2  ...  BPXDI2  BMXWT  BMXHT  BMXBMI  BMXLEG  BMXARML  \\\n",
       "8          1.0       NaN  ...     NaN   72.4  166.1    26.2     NaN      NaN   \n",
       "16         1.0       NaN  ...    66.0  100.8  175.4    32.8    40.7     38.6   \n",
       "54         1.0       NaN  ...    78.0   68.6  156.5    28.0    36.5     34.5   \n",
       "59         1.0       NaN  ...    62.0   71.2  185.0    20.8    45.4     36.9   \n",
       "67         1.0       NaN  ...    72.0   60.3  157.1    24.4    34.9     36.7   \n",
       "...        ...       ...  ...     ...    ...    ...     ...     ...      ...   \n",
       "5629       2.0       NaN  ...     NaN   54.2  164.8    20.0    41.8     33.4   \n",
       "5653       1.0       NaN  ...    52.0   74.9  166.7    27.0    41.8     35.7   \n",
       "5655       1.0       NaN  ...    66.0   65.7  178.7    20.6    45.3     38.5   \n",
       "5664       1.0       NaN  ...    78.0   68.1  180.5    20.9    43.1     38.9   \n",
       "5676       1.0       NaN  ...    64.0   70.4  180.3    21.7    43.0     38.6   \n",
       "\n",
       "      BMXARMC  BMXWAIST  HIQ210  DMDEDUC2x  \n",
       "8         NaN       NaN     2.0        NaN  \n",
       "16       35.9     104.6     1.0        NaN  \n",
       "54       28.5      89.3     2.0        NaN  \n",
       "59       27.2      77.8     2.0        NaN  \n",
       "67       29.8      78.7     2.0        NaN  \n",
       "...       ...       ...     ...        ...  \n",
       "5629     25.1      72.0     2.0        NaN  \n",
       "5653     32.5      81.6     NaN        NaN  \n",
       "5655     27.0      74.2     2.0        NaN  \n",
       "5664     31.0      78.7     2.0        NaN  \n",
       "5676     27.1      81.7     2.0        NaN  \n",
       "\n",
       "[261 rows x 29 columns]"
      ]
     },
     "execution_count": 54,
     "metadata": {},
     "output_type": "execute_result"
    }
   ],
   "source": [
    "dx = da.loc[~da.DMDEDUC2x.isin([\"Don't know\"]),:]\n",
    "dx1 = dx.loc[da.DMDEDUC2x.isna(),:]\n",
    "dx1"
   ]
  },
  {
   "cell_type": "code",
   "execution_count": 95,
   "metadata": {},
   "outputs": [
    {
     "data": {
      "text/html": [
       "<div>\n",
       "<style scoped>\n",
       "    .dataframe tbody tr th:only-of-type {\n",
       "        vertical-align: middle;\n",
       "    }\n",
       "\n",
       "    .dataframe tbody tr th {\n",
       "        vertical-align: top;\n",
       "    }\n",
       "\n",
       "    .dataframe thead th {\n",
       "        text-align: right;\n",
       "    }\n",
       "</style>\n",
       "<table border=\"1\" class=\"dataframe\">\n",
       "  <thead>\n",
       "    <tr style=\"text-align: right;\">\n",
       "      <th></th>\n",
       "      <th>DMDEDUC2x</th>\n",
       "      <th>9-11</th>\n",
       "      <th>&lt;9</th>\n",
       "      <th>College</th>\n",
       "      <th>HS/GED</th>\n",
       "      <th>Some college/AA</th>\n",
       "    </tr>\n",
       "    <tr>\n",
       "      <th>age</th>\n",
       "      <th>RIAGENDRx</th>\n",
       "      <th></th>\n",
       "      <th></th>\n",
       "      <th></th>\n",
       "      <th></th>\n",
       "      <th></th>\n",
       "    </tr>\n",
       "  </thead>\n",
       "  <tbody>\n",
       "    <tr>\n",
       "      <th rowspan=\"2\" valign=\"top\">18 to 30</th>\n",
       "      <th>Female</th>\n",
       "      <td>44.0</td>\n",
       "      <td>27.0</td>\n",
       "      <td>156.0</td>\n",
       "      <td>119.0</td>\n",
       "      <td>207.0</td>\n",
       "    </tr>\n",
       "    <tr>\n",
       "      <th>Male</th>\n",
       "      <td>55.0</td>\n",
       "      <td>20.0</td>\n",
       "      <td>122.0</td>\n",
       "      <td>118.0</td>\n",
       "      <td>157.0</td>\n",
       "    </tr>\n",
       "    <tr>\n",
       "      <th rowspan=\"2\" valign=\"top\">31 to 40</th>\n",
       "      <th>Female</th>\n",
       "      <td>42.0</td>\n",
       "      <td>46.0</td>\n",
       "      <td>149.0</td>\n",
       "      <td>78.0</td>\n",
       "      <td>159.0</td>\n",
       "    </tr>\n",
       "    <tr>\n",
       "      <th>Male</th>\n",
       "      <td>69.0</td>\n",
       "      <td>47.0</td>\n",
       "      <td>115.0</td>\n",
       "      <td>104.0</td>\n",
       "      <td>123.0</td>\n",
       "    </tr>\n",
       "    <tr>\n",
       "      <th rowspan=\"2\" valign=\"top\">41 to 50</th>\n",
       "      <th>Female</th>\n",
       "      <td>55.0</td>\n",
       "      <td>53.0</td>\n",
       "      <td>150.0</td>\n",
       "      <td>87.0</td>\n",
       "      <td>157.0</td>\n",
       "    </tr>\n",
       "    <tr>\n",
       "      <th>Male</th>\n",
       "      <td>57.0</td>\n",
       "      <td>45.0</td>\n",
       "      <td>110.0</td>\n",
       "      <td>84.0</td>\n",
       "      <td>105.0</td>\n",
       "    </tr>\n",
       "    <tr>\n",
       "      <th rowspan=\"2\" valign=\"top\">51 to 60</th>\n",
       "      <th>Female</th>\n",
       "      <td>55.0</td>\n",
       "      <td>48.0</td>\n",
       "      <td>115.0</td>\n",
       "      <td>110.0</td>\n",
       "      <td>142.0</td>\n",
       "    </tr>\n",
       "    <tr>\n",
       "      <th>Male</th>\n",
       "      <td>67.0</td>\n",
       "      <td>56.0</td>\n",
       "      <td>105.0</td>\n",
       "      <td>110.0</td>\n",
       "      <td>116.0</td>\n",
       "    </tr>\n",
       "    <tr>\n",
       "      <th rowspan=\"2\" valign=\"top\">61 to 70</th>\n",
       "      <th>Female</th>\n",
       "      <td>52.0</td>\n",
       "      <td>83.0</td>\n",
       "      <td>86.0</td>\n",
       "      <td>91.0</td>\n",
       "      <td>129.0</td>\n",
       "    </tr>\n",
       "    <tr>\n",
       "      <th>Male</th>\n",
       "      <td>59.0</td>\n",
       "      <td>66.0</td>\n",
       "      <td>102.0</td>\n",
       "      <td>101.0</td>\n",
       "      <td>109.0</td>\n",
       "    </tr>\n",
       "    <tr>\n",
       "      <th rowspan=\"2\" valign=\"top\">71 to 80</th>\n",
       "      <th>Female</th>\n",
       "      <td>43.0</td>\n",
       "      <td>92.0</td>\n",
       "      <td>61.0</td>\n",
       "      <td>98.0</td>\n",
       "      <td>115.0</td>\n",
       "    </tr>\n",
       "    <tr>\n",
       "      <th>Male</th>\n",
       "      <td>45.0</td>\n",
       "      <td>72.0</td>\n",
       "      <td>95.0</td>\n",
       "      <td>86.0</td>\n",
       "      <td>102.0</td>\n",
       "    </tr>\n",
       "  </tbody>\n",
       "</table>\n",
       "</div>"
      ],
      "text/plain": [
       "DMDEDUC2x           9-11    <9  College  HS/GED  Some college/AA\n",
       "age      RIAGENDRx                                              \n",
       "18 to 30 Female     44.0  27.0    156.0   119.0            207.0\n",
       "         Male       55.0  20.0    122.0   118.0            157.0\n",
       "31 to 40 Female     42.0  46.0    149.0    78.0            159.0\n",
       "         Male       69.0  47.0    115.0   104.0            123.0\n",
       "41 to 50 Female     55.0  53.0    150.0    87.0            157.0\n",
       "         Male       57.0  45.0    110.0    84.0            105.0\n",
       "51 to 60 Female     55.0  48.0    115.0   110.0            142.0\n",
       "         Male       67.0  56.0    105.0   110.0            116.0\n",
       "61 to 70 Female     52.0  83.0     86.0    91.0            129.0\n",
       "         Male       59.0  66.0    102.0   101.0            109.0\n",
       "71 to 80 Female     43.0  92.0     61.0    98.0            115.0\n",
       "         Male       45.0  72.0     95.0    86.0            102.0"
      ]
     },
     "execution_count": 95,
     "metadata": {},
     "output_type": "execute_result"
    }
   ],
   "source": [
    "dx = da.loc[:,['age','RIAGENDRx', 'DMDEDUC2x']]\n",
    "dx = dx.dropna()\n",
    "dx = da.groupby([\"age\", \"RIAGENDRx\"])[\"DMDEDUC2x\"].value_counts()\n",
    "dx = dx.unstack() # Restructure the results from 'long' to 'wide'\n",
    "dx = dx.drop(\"Don't know\", axis = 1)\n",
    "dx\n",
    "#print(dx.to_string(float_format=\"%.3f\"))  # Limit display to 3 decimal places"
   ]
  },
  {
   "cell_type": "markdown",
   "metadata": {},
   "source": [
    "The caracter **~** inverts the logical function. It deletes the values of your logical function"
   ]
  },
  {
   "cell_type": "code",
   "execution_count": 97,
   "metadata": {},
   "outputs": [
    {
     "data": {
      "text/html": [
       "<div>\n",
       "<style scoped>\n",
       "    .dataframe tbody tr th:only-of-type {\n",
       "        vertical-align: middle;\n",
       "    }\n",
       "\n",
       "    .dataframe tbody tr th {\n",
       "        vertical-align: top;\n",
       "    }\n",
       "\n",
       "    .dataframe thead th {\n",
       "        text-align: right;\n",
       "    }\n",
       "</style>\n",
       "<table border=\"1\" class=\"dataframe\">\n",
       "  <thead>\n",
       "    <tr style=\"text-align: right;\">\n",
       "      <th></th>\n",
       "      <th>SEQN</th>\n",
       "      <th>ALQ101</th>\n",
       "      <th>ALQ110</th>\n",
       "      <th>ALQ130</th>\n",
       "      <th>SMQ020</th>\n",
       "      <th>RIAGENDR</th>\n",
       "      <th>RIDAGEYR</th>\n",
       "      <th>RIDRETH1</th>\n",
       "      <th>DMDCITZN</th>\n",
       "      <th>DMDEDUC2</th>\n",
       "      <th>...</th>\n",
       "      <th>BMXHT</th>\n",
       "      <th>BMXBMI</th>\n",
       "      <th>BMXLEG</th>\n",
       "      <th>BMXARML</th>\n",
       "      <th>BMXARMC</th>\n",
       "      <th>BMXWAIST</th>\n",
       "      <th>HIQ210</th>\n",
       "      <th>DMDEDUC2x</th>\n",
       "      <th>age</th>\n",
       "      <th>RIAGENDRx</th>\n",
       "    </tr>\n",
       "  </thead>\n",
       "  <tbody>\n",
       "    <tr>\n",
       "      <th>0</th>\n",
       "      <td>83732</td>\n",
       "      <td>1.0</td>\n",
       "      <td>NaN</td>\n",
       "      <td>1.0</td>\n",
       "      <td>1</td>\n",
       "      <td>Male</td>\n",
       "      <td>62</td>\n",
       "      <td>3</td>\n",
       "      <td>1.0</td>\n",
       "      <td>5.0</td>\n",
       "      <td>...</td>\n",
       "      <td>184.5</td>\n",
       "      <td>27.8</td>\n",
       "      <td>43.3</td>\n",
       "      <td>43.6</td>\n",
       "      <td>35.9</td>\n",
       "      <td>101.1</td>\n",
       "      <td>2.0</td>\n",
       "      <td>College</td>\n",
       "      <td>61 to 70</td>\n",
       "      <td>Male</td>\n",
       "    </tr>\n",
       "    <tr>\n",
       "      <th>1</th>\n",
       "      <td>83733</td>\n",
       "      <td>1.0</td>\n",
       "      <td>NaN</td>\n",
       "      <td>6.0</td>\n",
       "      <td>1</td>\n",
       "      <td>Male</td>\n",
       "      <td>53</td>\n",
       "      <td>3</td>\n",
       "      <td>2.0</td>\n",
       "      <td>3.0</td>\n",
       "      <td>...</td>\n",
       "      <td>171.4</td>\n",
       "      <td>30.8</td>\n",
       "      <td>38.0</td>\n",
       "      <td>40.0</td>\n",
       "      <td>33.2</td>\n",
       "      <td>107.9</td>\n",
       "      <td>NaN</td>\n",
       "      <td>HS/GED</td>\n",
       "      <td>51 to 60</td>\n",
       "      <td>Male</td>\n",
       "    </tr>\n",
       "    <tr>\n",
       "      <th>2</th>\n",
       "      <td>83734</td>\n",
       "      <td>1.0</td>\n",
       "      <td>NaN</td>\n",
       "      <td>NaN</td>\n",
       "      <td>1</td>\n",
       "      <td>Male</td>\n",
       "      <td>78</td>\n",
       "      <td>3</td>\n",
       "      <td>1.0</td>\n",
       "      <td>3.0</td>\n",
       "      <td>...</td>\n",
       "      <td>170.1</td>\n",
       "      <td>28.8</td>\n",
       "      <td>35.6</td>\n",
       "      <td>37.0</td>\n",
       "      <td>31.0</td>\n",
       "      <td>116.5</td>\n",
       "      <td>2.0</td>\n",
       "      <td>HS/GED</td>\n",
       "      <td>71 to 80</td>\n",
       "      <td>Male</td>\n",
       "    </tr>\n",
       "    <tr>\n",
       "      <th>3</th>\n",
       "      <td>83735</td>\n",
       "      <td>2.0</td>\n",
       "      <td>1.0</td>\n",
       "      <td>1.0</td>\n",
       "      <td>2</td>\n",
       "      <td>Female</td>\n",
       "      <td>56</td>\n",
       "      <td>3</td>\n",
       "      <td>1.0</td>\n",
       "      <td>5.0</td>\n",
       "      <td>...</td>\n",
       "      <td>160.9</td>\n",
       "      <td>42.4</td>\n",
       "      <td>38.5</td>\n",
       "      <td>37.7</td>\n",
       "      <td>38.3</td>\n",
       "      <td>110.1</td>\n",
       "      <td>2.0</td>\n",
       "      <td>College</td>\n",
       "      <td>51 to 60</td>\n",
       "      <td>Female</td>\n",
       "    </tr>\n",
       "    <tr>\n",
       "      <th>4</th>\n",
       "      <td>83736</td>\n",
       "      <td>2.0</td>\n",
       "      <td>1.0</td>\n",
       "      <td>1.0</td>\n",
       "      <td>2</td>\n",
       "      <td>Female</td>\n",
       "      <td>42</td>\n",
       "      <td>4</td>\n",
       "      <td>1.0</td>\n",
       "      <td>4.0</td>\n",
       "      <td>...</td>\n",
       "      <td>164.9</td>\n",
       "      <td>20.3</td>\n",
       "      <td>37.4</td>\n",
       "      <td>36.0</td>\n",
       "      <td>27.2</td>\n",
       "      <td>80.4</td>\n",
       "      <td>2.0</td>\n",
       "      <td>Some college/AA</td>\n",
       "      <td>41 to 50</td>\n",
       "      <td>Female</td>\n",
       "    </tr>\n",
       "    <tr>\n",
       "      <th>...</th>\n",
       "      <td>...</td>\n",
       "      <td>...</td>\n",
       "      <td>...</td>\n",
       "      <td>...</td>\n",
       "      <td>...</td>\n",
       "      <td>...</td>\n",
       "      <td>...</td>\n",
       "      <td>...</td>\n",
       "      <td>...</td>\n",
       "      <td>...</td>\n",
       "      <td>...</td>\n",
       "      <td>...</td>\n",
       "      <td>...</td>\n",
       "      <td>...</td>\n",
       "      <td>...</td>\n",
       "      <td>...</td>\n",
       "      <td>...</td>\n",
       "      <td>...</td>\n",
       "      <td>...</td>\n",
       "      <td>...</td>\n",
       "      <td>...</td>\n",
       "    </tr>\n",
       "    <tr>\n",
       "      <th>5730</th>\n",
       "      <td>93695</td>\n",
       "      <td>2.0</td>\n",
       "      <td>2.0</td>\n",
       "      <td>NaN</td>\n",
       "      <td>1</td>\n",
       "      <td>Female</td>\n",
       "      <td>76</td>\n",
       "      <td>3</td>\n",
       "      <td>1.0</td>\n",
       "      <td>3.0</td>\n",
       "      <td>...</td>\n",
       "      <td>165.8</td>\n",
       "      <td>21.5</td>\n",
       "      <td>38.2</td>\n",
       "      <td>37.0</td>\n",
       "      <td>29.5</td>\n",
       "      <td>95.0</td>\n",
       "      <td>2.0</td>\n",
       "      <td>HS/GED</td>\n",
       "      <td>71 to 80</td>\n",
       "      <td>Female</td>\n",
       "    </tr>\n",
       "    <tr>\n",
       "      <th>5731</th>\n",
       "      <td>93696</td>\n",
       "      <td>2.0</td>\n",
       "      <td>2.0</td>\n",
       "      <td>NaN</td>\n",
       "      <td>2</td>\n",
       "      <td>Male</td>\n",
       "      <td>26</td>\n",
       "      <td>3</td>\n",
       "      <td>1.0</td>\n",
       "      <td>5.0</td>\n",
       "      <td>...</td>\n",
       "      <td>182.2</td>\n",
       "      <td>33.8</td>\n",
       "      <td>43.4</td>\n",
       "      <td>41.8</td>\n",
       "      <td>42.3</td>\n",
       "      <td>110.2</td>\n",
       "      <td>2.0</td>\n",
       "      <td>College</td>\n",
       "      <td>18 to 30</td>\n",
       "      <td>Male</td>\n",
       "    </tr>\n",
       "    <tr>\n",
       "      <th>5732</th>\n",
       "      <td>93697</td>\n",
       "      <td>1.0</td>\n",
       "      <td>NaN</td>\n",
       "      <td>1.0</td>\n",
       "      <td>1</td>\n",
       "      <td>Female</td>\n",
       "      <td>80</td>\n",
       "      <td>3</td>\n",
       "      <td>1.0</td>\n",
       "      <td>4.0</td>\n",
       "      <td>...</td>\n",
       "      <td>152.2</td>\n",
       "      <td>31.0</td>\n",
       "      <td>31.3</td>\n",
       "      <td>37.5</td>\n",
       "      <td>28.8</td>\n",
       "      <td>NaN</td>\n",
       "      <td>2.0</td>\n",
       "      <td>Some college/AA</td>\n",
       "      <td>71 to 80</td>\n",
       "      <td>Female</td>\n",
       "    </tr>\n",
       "    <tr>\n",
       "      <th>5733</th>\n",
       "      <td>93700</td>\n",
       "      <td>NaN</td>\n",
       "      <td>NaN</td>\n",
       "      <td>NaN</td>\n",
       "      <td>1</td>\n",
       "      <td>Male</td>\n",
       "      <td>35</td>\n",
       "      <td>3</td>\n",
       "      <td>2.0</td>\n",
       "      <td>1.0</td>\n",
       "      <td>...</td>\n",
       "      <td>173.3</td>\n",
       "      <td>26.0</td>\n",
       "      <td>40.3</td>\n",
       "      <td>37.5</td>\n",
       "      <td>30.6</td>\n",
       "      <td>98.9</td>\n",
       "      <td>2.0</td>\n",
       "      <td>&lt;9</td>\n",
       "      <td>31 to 40</td>\n",
       "      <td>Male</td>\n",
       "    </tr>\n",
       "    <tr>\n",
       "      <th>5734</th>\n",
       "      <td>93702</td>\n",
       "      <td>1.0</td>\n",
       "      <td>NaN</td>\n",
       "      <td>2.0</td>\n",
       "      <td>2</td>\n",
       "      <td>Female</td>\n",
       "      <td>24</td>\n",
       "      <td>3</td>\n",
       "      <td>1.0</td>\n",
       "      <td>5.0</td>\n",
       "      <td>...</td>\n",
       "      <td>165.0</td>\n",
       "      <td>21.4</td>\n",
       "      <td>38.2</td>\n",
       "      <td>33.5</td>\n",
       "      <td>26.2</td>\n",
       "      <td>72.5</td>\n",
       "      <td>2.0</td>\n",
       "      <td>College</td>\n",
       "      <td>18 to 30</td>\n",
       "      <td>Female</td>\n",
       "    </tr>\n",
       "  </tbody>\n",
       "</table>\n",
       "<p>5732 rows × 31 columns</p>\n",
       "</div>"
      ],
      "text/plain": [
       "       SEQN  ALQ101  ALQ110  ALQ130  SMQ020 RIAGENDR  RIDAGEYR  RIDRETH1  \\\n",
       "0     83732     1.0     NaN     1.0       1     Male        62         3   \n",
       "1     83733     1.0     NaN     6.0       1     Male        53         3   \n",
       "2     83734     1.0     NaN     NaN       1     Male        78         3   \n",
       "3     83735     2.0     1.0     1.0       2   Female        56         3   \n",
       "4     83736     2.0     1.0     1.0       2   Female        42         4   \n",
       "...     ...     ...     ...     ...     ...      ...       ...       ...   \n",
       "5730  93695     2.0     2.0     NaN       1   Female        76         3   \n",
       "5731  93696     2.0     2.0     NaN       2     Male        26         3   \n",
       "5732  93697     1.0     NaN     1.0       1   Female        80         3   \n",
       "5733  93700     NaN     NaN     NaN       1     Male        35         3   \n",
       "5734  93702     1.0     NaN     2.0       2   Female        24         3   \n",
       "\n",
       "      DMDCITZN  DMDEDUC2  ...  BMXHT  BMXBMI  BMXLEG  BMXARML  BMXARMC  \\\n",
       "0          1.0       5.0  ...  184.5    27.8    43.3     43.6     35.9   \n",
       "1          2.0       3.0  ...  171.4    30.8    38.0     40.0     33.2   \n",
       "2          1.0       3.0  ...  170.1    28.8    35.6     37.0     31.0   \n",
       "3          1.0       5.0  ...  160.9    42.4    38.5     37.7     38.3   \n",
       "4          1.0       4.0  ...  164.9    20.3    37.4     36.0     27.2   \n",
       "...        ...       ...  ...    ...     ...     ...      ...      ...   \n",
       "5730       1.0       3.0  ...  165.8    21.5    38.2     37.0     29.5   \n",
       "5731       1.0       5.0  ...  182.2    33.8    43.4     41.8     42.3   \n",
       "5732       1.0       4.0  ...  152.2    31.0    31.3     37.5     28.8   \n",
       "5733       2.0       1.0  ...  173.3    26.0    40.3     37.5     30.6   \n",
       "5734       1.0       5.0  ...  165.0    21.4    38.2     33.5     26.2   \n",
       "\n",
       "      BMXWAIST  HIQ210        DMDEDUC2x       age  RIAGENDRx  \n",
       "0        101.1     2.0          College  61 to 70       Male  \n",
       "1        107.9     NaN           HS/GED  51 to 60       Male  \n",
       "2        116.5     2.0           HS/GED  71 to 80       Male  \n",
       "3        110.1     2.0          College  51 to 60     Female  \n",
       "4         80.4     2.0  Some college/AA  41 to 50     Female  \n",
       "...        ...     ...              ...       ...        ...  \n",
       "5730      95.0     2.0           HS/GED  71 to 80     Female  \n",
       "5731     110.2     2.0          College  18 to 30       Male  \n",
       "5732       NaN     2.0  Some college/AA  71 to 80     Female  \n",
       "5733      98.9     2.0               <9  31 to 40       Male  \n",
       "5734      72.5     2.0          College  18 to 30     Female  \n",
       "\n",
       "[5732 rows x 31 columns]"
      ]
     },
     "execution_count": 97,
     "metadata": {},
     "output_type": "execute_result"
    }
   ],
   "source": [
    "dx = da.loc[~da.DMDEDUC2x.isin([\"Don't know\"]), :]# Eliminate rare/missing values\n",
    "#dx = dx.groupby([\"age\", \"RIAGENDRx\"])[\"DMDEDUC2x\"]\n",
    "#dx = dx.value_counts()\n",
    "#dx = dx.unstack() # Restructure the results from 'long' to 'wide'\n",
    "#dx\n",
    "#print(dx.to_string(float_format=\"%.3f\"))  # Limit display to 3 decimal places"
   ]
  },
  {
   "cell_type": "code",
   "execution_count": 394,
   "metadata": {},
   "outputs": [
    {
     "data": {
      "text/html": [
       "<div>\n",
       "<style scoped>\n",
       "    .dataframe tbody tr th:only-of-type {\n",
       "        vertical-align: middle;\n",
       "    }\n",
       "\n",
       "    .dataframe tbody tr th {\n",
       "        vertical-align: top;\n",
       "    }\n",
       "\n",
       "    .dataframe thead th {\n",
       "        text-align: right;\n",
       "    }\n",
       "</style>\n",
       "<table border=\"1\" class=\"dataframe\">\n",
       "  <thead>\n",
       "    <tr style=\"text-align: right;\">\n",
       "      <th></th>\n",
       "      <th>DMDEDUC2x</th>\n",
       "      <th>9-11</th>\n",
       "      <th>&lt;9</th>\n",
       "      <th>College</th>\n",
       "      <th>HS/GED</th>\n",
       "      <th>Some college/AA</th>\n",
       "    </tr>\n",
       "    <tr>\n",
       "      <th>age</th>\n",
       "      <th>RIAGENDRx</th>\n",
       "      <th></th>\n",
       "      <th></th>\n",
       "      <th></th>\n",
       "      <th></th>\n",
       "      <th></th>\n",
       "    </tr>\n",
       "  </thead>\n",
       "  <tbody>\n",
       "    <tr>\n",
       "      <th rowspan=\"2\" valign=\"top\">18 to 30</th>\n",
       "      <th>Female</th>\n",
       "      <td>0.079566</td>\n",
       "      <td>0.048825</td>\n",
       "      <td>0.282098</td>\n",
       "      <td>0.215190</td>\n",
       "      <td>0.374322</td>\n",
       "    </tr>\n",
       "    <tr>\n",
       "      <th>Male</th>\n",
       "      <td>0.116525</td>\n",
       "      <td>0.042373</td>\n",
       "      <td>0.258475</td>\n",
       "      <td>0.250000</td>\n",
       "      <td>0.332627</td>\n",
       "    </tr>\n",
       "    <tr>\n",
       "      <th rowspan=\"2\" valign=\"top\">31 to 40</th>\n",
       "      <th>Female</th>\n",
       "      <td>0.088608</td>\n",
       "      <td>0.097046</td>\n",
       "      <td>0.314346</td>\n",
       "      <td>0.164557</td>\n",
       "      <td>0.335443</td>\n",
       "    </tr>\n",
       "    <tr>\n",
       "      <th>Male</th>\n",
       "      <td>0.150655</td>\n",
       "      <td>0.102620</td>\n",
       "      <td>0.251092</td>\n",
       "      <td>0.227074</td>\n",
       "      <td>0.268559</td>\n",
       "    </tr>\n",
       "    <tr>\n",
       "      <th rowspan=\"2\" valign=\"top\">41 to 50</th>\n",
       "      <th>Female</th>\n",
       "      <td>0.109562</td>\n",
       "      <td>0.105578</td>\n",
       "      <td>0.298805</td>\n",
       "      <td>0.173307</td>\n",
       "      <td>0.312749</td>\n",
       "    </tr>\n",
       "    <tr>\n",
       "      <th>Male</th>\n",
       "      <td>0.142145</td>\n",
       "      <td>0.112219</td>\n",
       "      <td>0.274314</td>\n",
       "      <td>0.209476</td>\n",
       "      <td>0.261845</td>\n",
       "    </tr>\n",
       "    <tr>\n",
       "      <th rowspan=\"2\" valign=\"top\">51 to 60</th>\n",
       "      <th>Female</th>\n",
       "      <td>0.117021</td>\n",
       "      <td>0.102128</td>\n",
       "      <td>0.244681</td>\n",
       "      <td>0.234043</td>\n",
       "      <td>0.302128</td>\n",
       "    </tr>\n",
       "    <tr>\n",
       "      <th>Male</th>\n",
       "      <td>0.147577</td>\n",
       "      <td>0.123348</td>\n",
       "      <td>0.231278</td>\n",
       "      <td>0.242291</td>\n",
       "      <td>0.255507</td>\n",
       "    </tr>\n",
       "    <tr>\n",
       "      <th rowspan=\"2\" valign=\"top\">61 to 70</th>\n",
       "      <th>Female</th>\n",
       "      <td>0.117914</td>\n",
       "      <td>0.188209</td>\n",
       "      <td>0.195011</td>\n",
       "      <td>0.206349</td>\n",
       "      <td>0.292517</td>\n",
       "    </tr>\n",
       "    <tr>\n",
       "      <th>Male</th>\n",
       "      <td>0.135011</td>\n",
       "      <td>0.151030</td>\n",
       "      <td>0.233410</td>\n",
       "      <td>0.231121</td>\n",
       "      <td>0.249428</td>\n",
       "    </tr>\n",
       "    <tr>\n",
       "      <th rowspan=\"2\" valign=\"top\">71 to 80</th>\n",
       "      <th>Female</th>\n",
       "      <td>0.105134</td>\n",
       "      <td>0.224939</td>\n",
       "      <td>0.149144</td>\n",
       "      <td>0.239609</td>\n",
       "      <td>0.281174</td>\n",
       "    </tr>\n",
       "    <tr>\n",
       "      <th>Male</th>\n",
       "      <td>0.112500</td>\n",
       "      <td>0.180000</td>\n",
       "      <td>0.237500</td>\n",
       "      <td>0.215000</td>\n",
       "      <td>0.255000</td>\n",
       "    </tr>\n",
       "  </tbody>\n",
       "</table>\n",
       "</div>"
      ],
      "text/plain": [
       "DMDEDUC2x               9-11        <9   College    HS/GED  Some college/AA\n",
       "age      RIAGENDRx                                                         \n",
       "18 to 30 Female     0.079566  0.048825  0.282098  0.215190         0.374322\n",
       "         Male       0.116525  0.042373  0.258475  0.250000         0.332627\n",
       "31 to 40 Female     0.088608  0.097046  0.314346  0.164557         0.335443\n",
       "         Male       0.150655  0.102620  0.251092  0.227074         0.268559\n",
       "41 to 50 Female     0.109562  0.105578  0.298805  0.173307         0.312749\n",
       "         Male       0.142145  0.112219  0.274314  0.209476         0.261845\n",
       "51 to 60 Female     0.117021  0.102128  0.244681  0.234043         0.302128\n",
       "         Male       0.147577  0.123348  0.231278  0.242291         0.255507\n",
       "61 to 70 Female     0.117914  0.188209  0.195011  0.206349         0.292517\n",
       "         Male       0.135011  0.151030  0.233410  0.231121         0.249428\n",
       "71 to 80 Female     0.105134  0.224939  0.149144  0.239609         0.281174\n",
       "         Male       0.112500  0.180000  0.237500  0.215000         0.255000"
      ]
     },
     "execution_count": 394,
     "metadata": {},
     "output_type": "execute_result"
    }
   ],
   "source": [
    "dx = dx.apply(lambda x: x/x.sum(), axis=1) # Normalize within each stratum to get proportions\n",
    "dx"
   ]
  },
  {
   "cell_type": "markdown",
   "metadata": {},
   "source": [
    "Learn how to do a stacked barplot [Possible link](https://python-graph-gallery.com/12-stacked-barplot-with-matplotlib/)"
   ]
  },
  {
   "cell_type": "code",
   "execution_count": 106,
   "metadata": {},
   "outputs": [
    {
     "data": {
      "text/html": [
       "<div>\n",
       "<style scoped>\n",
       "    .dataframe tbody tr th:only-of-type {\n",
       "        vertical-align: middle;\n",
       "    }\n",
       "\n",
       "    .dataframe tbody tr th {\n",
       "        vertical-align: top;\n",
       "    }\n",
       "\n",
       "    .dataframe thead th {\n",
       "        text-align: right;\n",
       "    }\n",
       "</style>\n",
       "<table border=\"1\" class=\"dataframe\">\n",
       "  <thead>\n",
       "    <tr style=\"text-align: right;\">\n",
       "      <th></th>\n",
       "      <th>mean</th>\n",
       "      <th>min</th>\n",
       "    </tr>\n",
       "  </thead>\n",
       "  <tbody>\n",
       "    <tr>\n",
       "      <th>0</th>\n",
       "      <td>2.0</td>\n",
       "      <td>1.0</td>\n",
       "    </tr>\n",
       "    <tr>\n",
       "      <th>1</th>\n",
       "      <td>5.0</td>\n",
       "      <td>4.0</td>\n",
       "    </tr>\n",
       "    <tr>\n",
       "      <th>2</th>\n",
       "      <td>8.0</td>\n",
       "      <td>7.0</td>\n",
       "    </tr>\n",
       "    <tr>\n",
       "      <th>3</th>\n",
       "      <td>NaN</td>\n",
       "      <td>NaN</td>\n",
       "    </tr>\n",
       "  </tbody>\n",
       "</table>\n",
       "</div>"
      ],
      "text/plain": [
       "   mean  min\n",
       "0   2.0  1.0\n",
       "1   5.0  4.0\n",
       "2   8.0  7.0\n",
       "3   NaN  NaN"
      ]
     },
     "execution_count": 106,
     "metadata": {},
     "output_type": "execute_result"
    }
   ],
   "source": [
    "df = pd.DataFrame([[1, 2, 3],\n",
    "                   [4, 5, 6],\n",
    "                   [7, 8, 9],\n",
    "                   [np.nan, np.nan, np.nan]],\n",
    "                  columns=['A', 'B', 'C'])\n",
    "df.agg([np.mean, 'min'],axis=1)"
   ]
  },
  {
   "cell_type": "code",
   "execution_count": null,
   "metadata": {},
   "outputs": [],
   "source": []
  },
  {
   "cell_type": "markdown",
   "metadata": {},
   "source": [
    "[Further practice](https://www.coursera.org/learn/understanding-visualization-data/ungradedLab/lPGsh/more-practice-univariate-analysis-using-nhanes)"
   ]
  }
 ],
 "metadata": {
  "kernelspec": {
   "display_name": "Python 3",
   "language": "python",
   "name": "python3"
  },
  "language_info": {
   "codemirror_mode": {
    "name": "ipython",
    "version": 3
   },
   "file_extension": ".py",
   "mimetype": "text/x-python",
   "name": "python",
   "nbconvert_exporter": "python",
   "pygments_lexer": "ipython3",
   "version": "3.8.3"
  }
 },
 "nbformat": 4,
 "nbformat_minor": 4
}

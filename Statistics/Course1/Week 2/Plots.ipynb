{
 "cells": [
  {
   "cell_type": "markdown",
   "metadata": {},
   "source": [
    "# Categorical data"
   ]
  },
  {
   "cell_type": "markdown",
   "metadata": {},
   "source": [
    "\n"
   ]
  },
  {
   "cell_type": "code",
   "execution_count": 7,
   "metadata": {},
   "outputs": [
    {
     "data": {
      "text/html": [
       "<div>\n",
       "<style scoped>\n",
       "    .dataframe tbody tr th:only-of-type {\n",
       "        vertical-align: middle;\n",
       "    }\n",
       "\n",
       "    .dataframe tbody tr th {\n",
       "        vertical-align: top;\n",
       "    }\n",
       "\n",
       "    .dataframe thead th {\n",
       "        text-align: right;\n",
       "    }\n",
       "</style>\n",
       "<table border=\"1\" class=\"dataframe\">\n",
       "  <thead>\n",
       "    <tr style=\"text-align: right;\">\n",
       "      <th></th>\n",
       "      <th>ID</th>\n",
       "      <th>Age</th>\n",
       "      <th>Gender</th>\n",
       "      <th>GenderGroup</th>\n",
       "      <th>Glasses</th>\n",
       "      <th>GlassesGroup</th>\n",
       "      <th>Height</th>\n",
       "      <th>Wingspan</th>\n",
       "      <th>CWDistance</th>\n",
       "      <th>Complete</th>\n",
       "      <th>CompleteGroup</th>\n",
       "      <th>Score</th>\n",
       "    </tr>\n",
       "  </thead>\n",
       "  <tbody>\n",
       "    <tr>\n",
       "      <th>0</th>\n",
       "      <td>1</td>\n",
       "      <td>56</td>\n",
       "      <td>F</td>\n",
       "      <td>1</td>\n",
       "      <td>Y</td>\n",
       "      <td>1</td>\n",
       "      <td>62.0</td>\n",
       "      <td>61.0</td>\n",
       "      <td>79</td>\n",
       "      <td>Y</td>\n",
       "      <td>1</td>\n",
       "      <td>7</td>\n",
       "    </tr>\n",
       "    <tr>\n",
       "      <th>1</th>\n",
       "      <td>2</td>\n",
       "      <td>26</td>\n",
       "      <td>F</td>\n",
       "      <td>1</td>\n",
       "      <td>Y</td>\n",
       "      <td>1</td>\n",
       "      <td>62.0</td>\n",
       "      <td>60.0</td>\n",
       "      <td>70</td>\n",
       "      <td>Y</td>\n",
       "      <td>1</td>\n",
       "      <td>8</td>\n",
       "    </tr>\n",
       "    <tr>\n",
       "      <th>2</th>\n",
       "      <td>3</td>\n",
       "      <td>33</td>\n",
       "      <td>F</td>\n",
       "      <td>1</td>\n",
       "      <td>Y</td>\n",
       "      <td>1</td>\n",
       "      <td>66.0</td>\n",
       "      <td>64.0</td>\n",
       "      <td>85</td>\n",
       "      <td>Y</td>\n",
       "      <td>1</td>\n",
       "      <td>7</td>\n",
       "    </tr>\n",
       "    <tr>\n",
       "      <th>3</th>\n",
       "      <td>4</td>\n",
       "      <td>39</td>\n",
       "      <td>F</td>\n",
       "      <td>1</td>\n",
       "      <td>N</td>\n",
       "      <td>0</td>\n",
       "      <td>64.0</td>\n",
       "      <td>63.0</td>\n",
       "      <td>87</td>\n",
       "      <td>Y</td>\n",
       "      <td>1</td>\n",
       "      <td>10</td>\n",
       "    </tr>\n",
       "    <tr>\n",
       "      <th>4</th>\n",
       "      <td>5</td>\n",
       "      <td>27</td>\n",
       "      <td>M</td>\n",
       "      <td>2</td>\n",
       "      <td>N</td>\n",
       "      <td>0</td>\n",
       "      <td>73.0</td>\n",
       "      <td>75.0</td>\n",
       "      <td>72</td>\n",
       "      <td>N</td>\n",
       "      <td>0</td>\n",
       "      <td>4</td>\n",
       "    </tr>\n",
       "  </tbody>\n",
       "</table>\n",
       "</div>"
      ],
      "text/plain": [
       "   ID  Age Gender  GenderGroup Glasses  GlassesGroup  Height  Wingspan  \\\n",
       "0   1   56      F            1       Y             1    62.0      61.0   \n",
       "1   2   26      F            1       Y             1    62.0      60.0   \n",
       "2   3   33      F            1       Y             1    66.0      64.0   \n",
       "3   4   39      F            1       N             0    64.0      63.0   \n",
       "4   5   27      M            2       N             0    73.0      75.0   \n",
       "\n",
       "   CWDistance Complete  CompleteGroup  Score  \n",
       "0          79        Y              1      7  \n",
       "1          70        Y              1      8  \n",
       "2          85        Y              1      7  \n",
       "3          87        Y              1     10  \n",
       "4          72        N              0      4  "
      ]
     },
     "execution_count": 7,
     "metadata": {},
     "output_type": "execute_result"
    }
   ],
   "source": [
    "import pandas as pd\n",
    "import matplotlib.pyplot as plt\n",
    "\n",
    "file = 'Cartwheeldata.csv'\n",
    "df = pd.read_csv(file)\n",
    "df.head()"
   ]
  },
  {
   "cell_type": "code",
   "execution_count": 22,
   "metadata": {},
   "outputs": [
    {
     "data": {
      "image/png": "[encoded data removed]",
      "text/plain": [
       "<Figure size 432x288 with 1 Axes>"
      ]
     },
     "metadata": {
      "needs_background": "light"
     },
     "output_type": "display_data"
    },
    {
     "name": "stdout",
     "output_type": "stream",
     "text": [
      "count     25.000000\n",
      "mean      82.480000\n",
      "std       15.058552\n",
      "min       63.000000\n",
      "25%       70.000000\n",
      "50%       81.000000\n",
      "75%       92.000000\n",
      "max      115.000000\n",
      "Name: CWDistance, dtype: float64\n"
     ]
    }
   ],
   "source": [
    "myplt = plt.hist (df.CWDistance)\n",
    "plt.xlabel(\"CWDistance\"), plt.ylabel(\"Frequency\")\n",
    "plt.show()\n",
    "print(df.CWDistance.describe())"
   ]
  },
  {
   "cell_type": "markdown",
   "metadata": {},
   "source": [
    "# Histograms\n",
    "\n",
    "1. Nice way to plot numerical data, regardless if it is continuos or discrete.\n",
    "2. They help to show the distribution of your data an easily visualize the type of curve and other summary parameters, as printed out above.\n",
    "    - Important statistical characteristics of data: median, mean, range (that might be Q3-Q1), STD, and the size of population\n",
    "    \n",
    "# Bar plots\n",
    "\n",
    "1. Bar plots, on the other hand, are used to represent categorical data. Therefore, at the x axis usually scientist plot categories and at the vertical axis, frequency of percentage."
   ]
  },
  {
   "cell_type": "code",
   "execution_count": 27,
   "metadata": {},
   "outputs": [
    {
     "data": {
      "image/png": "[encoded data removed]",
      "text/plain": [
       "<Figure size 432x288 with 1 Axes>"
      ]
     },
     "metadata": {
      "needs_background": "light"
     },
     "output_type": "display_data"
    }
   ],
   "source": [
    "myplt = plt.bar (df.Gender, df.Height)\n",
    "plt.xlabel(\"Gender\"), plt.ylabel(\"Frequency\")\n",
    "plt.show()"
   ]
  },
  {
   "cell_type": "markdown",
   "metadata": {},
   "source": [
    "# Bell shape curves rules\n",
    "\n",
    "1. 68 - 95 - 99.7%  **RULE**\n",
    "    - It empirically states that:\n",
    "        - aroung 68% of the values are amongts the modular STD\n",
    "        - 95% of the values are between Q3 and Q1\n",
    "        - 99,7% is represented within the range of the graph\n",
    "        \n",
    "## locating individuals along normal distributions\n",
    "- **Standard score** = (Observation - Mean) / StD "
   ]
  },
  {
   "cell_type": "markdown",
   "metadata": {},
   "source": [
    "## Box Plots or whiskers\n",
    "1. Advantage: They are a good way to represent all at once different series of your data frame. Upwars,  it shows the minimun, 25th percenticle, median, 3rd quartile and the maximum value\n",
    "\n",
    "2. Disadvantage: neither possible to detected the shape of distribution nor the presence of gaps. \n",
    "    - To solve that, box plots might be ploted side by side according to intervals or categorical data. It helps us to visualize the distribution and if there are gaps or exceptions."
   ]
  },
  {
   "cell_type": "code",
   "execution_count": 35,
   "metadata": {},
   "outputs": [
    {
     "data": {
      "image/png": "[encoded data removed]",
      "text/plain": [
       "<Figure size 432x288 with 1 Axes>"
      ]
     },
     "metadata": {
      "needs_background": "light"
     },
     "output_type": "display_data"
    }
   ],
   "source": [
    "myplt = plt.boxplot(df.CWDistance)\n",
    "plt.title(\"CWDistance Box plot / whiskers\"), plt.ylabel('CWDistance'), plt.xlabel('box')\n",
    "plt.show()"
   ]
  },
  {
   "cell_type": "markdown",
   "metadata": {},
   "source": [
    "## Exercises\n",
    "\n",
    "1. In the bar plot below, there are three categories to compare fathers' commitment to family, and they are value marriage, lifetime union, or seen their children in 30 days. Each category has a comparison between Post RIDGE and Pre RIDGE. From the plot, we infer that somehow RIDGE has positively influenced fathers' commitment to family. It's worth noticing that its positive contribution increased virtually 10%  of  \"fathers' commitment\" to the three categories. Lastly, what fathers seem to value the most is lifetime union, and just 46,4% of fathers Post RIDGE have seen their children in less than 30 days.\n"
   ]
  },
  {
   "cell_type": "markdown",
   "metadata": {},
   "source": [
    "![alt text](https://depictdatastudio.com/wp-content/uploads/2015/03/clustered-bar-chart-alternatives_before-1.jpg \"bar chart\")\n"
   ]
  },
  {
   "cell_type": "markdown",
   "metadata": {},
   "source": [
    "2. The following Whiskers diagram represents surface roughness in micrometers at different environmental and hardness levels. Each hardness level is split into two environmental categories to compare its surface roughness. The material hardness has three subsets of 40, 48, and 56, each one faceted by Dry or HPC. There are no outliers. From that, we can say that at 40 or 56 of hardness, the Dry variation tends to have a rougher surface. On the other hand, HPC overcomes Dry at the hardness 48. Probably HPC's data is concise, and therefore it was plotted with no tail."
   ]
  },
  {
   "cell_type": "markdown",
   "metadata": {},
   "source": [
    "![alt text](https://www.researchgate.net/publication/301716749/figure/fig12/AS:527990054035456@1502894046947/Box-plot-of-surface-roughness-for-different-environment-and-material-hardness.png \"Box plot\")"
   ]
  },
  {
   "cell_type": "markdown",
   "metadata": {},
   "source": [
    "3. In the figure below, two overlapping histograms are representing the income distribution of men and women in 2016. The frequency is represented in the vertical axis ant bothe histograms are left skewed. The graph roughly ranges from 0 to 180000, where there is a low frequency of outliers. Men's curve overcomes women's at about the yearly income of 35000, most of its individuals occur between 15000 and 60000. Its median is roughly 55000 and its mean, 60000.. The women's curve has a lower median of 40000 and a mean of 45000, most of its data is between 10000 and 40000. We can see that the frequency of low salaries in the women population is higher than in men's, while higher wages are more frequent for men.\n"
   ]
  },
  {
   "cell_type": "markdown",
   "metadata": {},
   "source": [
    "![alt text](https://policyviz.com/wp-content/uploads/2018/11/PolicyViz-Histogram-image006-1140x700.png \"Histogram\")"
   ]
  }
 ],
 "metadata": {
  "kernelspec": {
   "display_name": "Python 3",
   "language": "python",
   "name": "python3"
  },
  "language_info": {
   "codemirror_mode": {
    "name": "ipython",
    "version": 3
   },
   "file_extension": ".py",
   "mimetype": "text/x-python",
   "name": "python",
   "nbconvert_exporter": "python",
   "pygments_lexer": "ipython3",
   "version": "3.8.3"
  }
 },
 "nbformat": 4,
 "nbformat_minor": 4
}
